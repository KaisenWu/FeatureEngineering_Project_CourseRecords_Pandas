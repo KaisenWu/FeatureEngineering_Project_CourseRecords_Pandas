{
  "nbformat": 4,
  "nbformat_minor": 0,
  "metadata": {
    "colab": {
      "provenance": [],
      "mount_file_id": "1XClfxupwxIv7tkoCgz9pkaoUWPFVdAQl",
      "authorship_tag": "ABX9TyPSdbrnQZAurLabljcEJ2xn",
      "include_colab_link": true
    },
    "kernelspec": {
      "name": "python3",
      "display_name": "Python 3"
    },
    "language_info": {
      "name": "python"
    }
  },
  "cells": [
    {
      "cell_type": "markdown",
      "metadata": {
        "id": "view-in-github",
        "colab_type": "text"
      },
      "source": [
        "<a href=\"https://colab.research.google.com/github/KaisenWu/FeatureEngineering_Project_CourseRecords_Pandas/blob/main/FeatureEngineering_Project_CourseRecords_Pandas.ipynb\" target=\"_parent\"><img src=\"https://colab.research.google.com/assets/colab-badge.svg\" alt=\"Open In Colab\"/></a>"
      ]
    },
    {
      "cell_type": "markdown",
      "source": [
        "# <center>Feature Engineering Project by Pandas</center>"
      ],
      "metadata": {
        "id": "zktQbkRFynbS"
      }
    },
    {
      "cell_type": "markdown",
      "source": [
        "## Project Overview\n",
        "The purpose of this project is to clean and engineering the data by pandas and numpy.\n",
        "The main techs includes:\n",
        "\n",
        "\n",
        "1.   Missing value processing.\n",
        "2.   String processing.\n",
        "3.   Data type parsing.\n",
        "4.   Column name processing.\n",
        "5.   Data filtering.\n",
        "6.   Dummy value processing.\n",
        "7.   Corrilation and heatmap."
      ],
      "metadata": {
        "id": "u6nJh6s4y3E5"
      }
    },
    {
      "cell_type": "markdown",
      "source": [
        "## About The Dataset\n",
        "This dataset concludes ths records of the courses.\n"
      ],
      "metadata": {
        "id": "Anv1u0sMz5jQ"
      }
    },
    {
      "cell_type": "markdown",
      "source": [
        "## Data Processing"
      ],
      "metadata": {
        "id": "fA8ftxlN0hfo"
      }
    },
    {
      "cell_type": "code",
      "execution_count": 1,
      "metadata": {
        "id": "qm7fp7BYGrCI"
      },
      "outputs": [],
      "source": [
        "# Import the libraries.\n",
        "import pandas as pd\n",
        "import numpy as np\n",
        "import seaborn as sns\n",
        "import matplotlib.pyplot as plt\n",
        "%matplotlib inline"
      ]
    },
    {
      "cell_type": "code",
      "source": [
        "# Load the dataset.\n",
        "df = pd.read_csv('/content/drive/MyDrive/Colab Notebooks/Lab1/course_data_uncleaned.csv')"
      ],
      "metadata": {
        "id": "cSfzVwTpHE8D"
      },
      "execution_count": 2,
      "outputs": []
    },
    {
      "cell_type": "code",
      "source": [
        "# Check the dataframe head.\n",
        "df.head().transpose()"
      ],
      "metadata": {
        "colab": {
          "base_uri": "https://localhost:8080/",
          "height": 681
        },
        "id": "5jtNKiY4HMQV",
        "outputId": "2ae8a251-556f-4c19-c8ab-d6bb82f2d5cf"
      },
      "execution_count": 3,
      "outputs": [
        {
          "output_type": "execute_result",
          "data": {
            "text/plain": [
              "                                                                     0  \\\n",
              "course name          Algorithmic Trading & Quantitative Analysis Us...   \n",
              "course category                                                 design   \n",
              "course sub category                                        Game Design   \n",
              "avg rating                                                         4.2   \n",
              "number ratings                                                  6340.0   \n",
              "enrollment                                                     54930.0   \n",
              "last updated                                                    8/2020   \n",
              "lectures                                                         162.0   \n",
              "duration                                                       19h 23m   \n",
              "price2                                                        CA$23.99   \n",
              "price                                                              NaN   \n",
              "discount                                                           90%   \n",
              "inst rating                                                        4.2   \n",
              "inst review                                                    13453.0   \n",
              "inst student                                                  179306.0   \n",
              "inst course                                                       12.0   \n",
              "\n",
              "                                                                     1  \\\n",
              "course name          ISO/IEC 27001. Information Security Management...   \n",
              "course category                                               business   \n",
              "course sub category                                   Data & Analytics   \n",
              "avg rating                                                         4.6   \n",
              "number ratings                                                  9281.0   \n",
              "enrollment                                                     48338.0   \n",
              "last updated                                                    3/2018   \n",
              "lectures                                                          37.0   \n",
              "duration                                                        3h 54m   \n",
              "price2                                                        CA$16.99   \n",
              "price                                                              NaN   \n",
              "discount                                                           56%   \n",
              "inst rating                                                        4.5   \n",
              "inst review                                                   246008.0   \n",
              "inst student                                                 1145810.0   \n",
              "inst course                                                       81.0   \n",
              "\n",
              "                                                            2  \\\n",
              "course name          Procedural Terrain Generation with Unity   \n",
              "course category                                   development   \n",
              "course sub category                     Programming Languages   \n",
              "avg rating                                                4.6   \n",
              "number ratings                                         6833.0   \n",
              "enrollment                                            21218.0   \n",
              "last updated                                          10/2020   \n",
              "lectures                                                 53.0   \n",
              "duration                                               5h 14m   \n",
              "price2                                               CA$23.99   \n",
              "price                                                     NaN   \n",
              "discount                                                  91%   \n",
              "inst rating                                               4.6   \n",
              "inst review                                           19993.0   \n",
              "inst student                                          55621.0   \n",
              "inst course                                               3.0   \n",
              "\n",
              "                                                                     3  \\\n",
              "course name          Jenkins 2 Bootcamp: Fully Automate Builds to D...   \n",
              "course category                                            development   \n",
              "course sub category                              Programming Languages   \n",
              "avg rating                                                         4.6   \n",
              "number ratings                                                 72122.0   \n",
              "enrollment                                                    717921.0   \n",
              "last updated                                                    4/2020   \n",
              "lectures                                                          51.0   \n",
              "duration                                                        9h 30m   \n",
              "price2                                                        CA$21.99   \n",
              "price                                                               39   \n",
              "discount                                                           88%   \n",
              "inst rating                                                        4.6   \n",
              "inst review                                                    75247.0   \n",
              "inst student                                                  751881.0   \n",
              "inst course                                                        2.0   \n",
              "\n",
              "                                                                     4  \n",
              "course name          Instagram Marketing 2020: Hashtags, Live, Stor...  \n",
              "course category                                    office productivity  \n",
              "course sub category                                          Microsoft  \n",
              "avg rating                                                         4.5  \n",
              "number ratings                                                  2826.0  \n",
              "enrollment                                                     14269.0  \n",
              "last updated                                                   10/2020  \n",
              "lectures                                                          41.0  \n",
              "duration                                                         7h 8m  \n",
              "price2                                                        CA$19.99  \n",
              "price                                                         CA$19.99  \n",
              "discount                                                           88%  \n",
              "inst rating                                                        4.5  \n",
              "inst review                                                    11922.0  \n",
              "inst student                                                   53659.0  \n",
              "inst course                                                       10.0  "
            ],
            "text/html": [
              "\n",
              "  <div id=\"df-7c989f4d-5a3e-4c82-9469-6e2a3b630da4\">\n",
              "    <div class=\"colab-df-container\">\n",
              "      <div>\n",
              "<style scoped>\n",
              "    .dataframe tbody tr th:only-of-type {\n",
              "        vertical-align: middle;\n",
              "    }\n",
              "\n",
              "    .dataframe tbody tr th {\n",
              "        vertical-align: top;\n",
              "    }\n",
              "\n",
              "    .dataframe thead th {\n",
              "        text-align: right;\n",
              "    }\n",
              "</style>\n",
              "<table border=\"1\" class=\"dataframe\">\n",
              "  <thead>\n",
              "    <tr style=\"text-align: right;\">\n",
              "      <th></th>\n",
              "      <th>0</th>\n",
              "      <th>1</th>\n",
              "      <th>2</th>\n",
              "      <th>3</th>\n",
              "      <th>4</th>\n",
              "    </tr>\n",
              "  </thead>\n",
              "  <tbody>\n",
              "    <tr>\n",
              "      <th>course name</th>\n",
              "      <td>Algorithmic Trading &amp; Quantitative Analysis Us...</td>\n",
              "      <td>ISO/IEC 27001. Information Security Management...</td>\n",
              "      <td>Procedural Terrain Generation with Unity</td>\n",
              "      <td>Jenkins 2 Bootcamp: Fully Automate Builds to D...</td>\n",
              "      <td>Instagram Marketing 2020: Hashtags, Live, Stor...</td>\n",
              "    </tr>\n",
              "    <tr>\n",
              "      <th>course category</th>\n",
              "      <td>design</td>\n",
              "      <td>business</td>\n",
              "      <td>development</td>\n",
              "      <td>development</td>\n",
              "      <td>office productivity</td>\n",
              "    </tr>\n",
              "    <tr>\n",
              "      <th>course sub category</th>\n",
              "      <td>Game Design</td>\n",
              "      <td>Data &amp; Analytics</td>\n",
              "      <td>Programming Languages</td>\n",
              "      <td>Programming Languages</td>\n",
              "      <td>Microsoft</td>\n",
              "    </tr>\n",
              "    <tr>\n",
              "      <th>avg rating</th>\n",
              "      <td>4.2</td>\n",
              "      <td>4.6</td>\n",
              "      <td>4.6</td>\n",
              "      <td>4.6</td>\n",
              "      <td>4.5</td>\n",
              "    </tr>\n",
              "    <tr>\n",
              "      <th>number ratings</th>\n",
              "      <td>6340.0</td>\n",
              "      <td>9281.0</td>\n",
              "      <td>6833.0</td>\n",
              "      <td>72122.0</td>\n",
              "      <td>2826.0</td>\n",
              "    </tr>\n",
              "    <tr>\n",
              "      <th>enrollment</th>\n",
              "      <td>54930.0</td>\n",
              "      <td>48338.0</td>\n",
              "      <td>21218.0</td>\n",
              "      <td>717921.0</td>\n",
              "      <td>14269.0</td>\n",
              "    </tr>\n",
              "    <tr>\n",
              "      <th>last updated</th>\n",
              "      <td>8/2020</td>\n",
              "      <td>3/2018</td>\n",
              "      <td>10/2020</td>\n",
              "      <td>4/2020</td>\n",
              "      <td>10/2020</td>\n",
              "    </tr>\n",
              "    <tr>\n",
              "      <th>lectures</th>\n",
              "      <td>162.0</td>\n",
              "      <td>37.0</td>\n",
              "      <td>53.0</td>\n",
              "      <td>51.0</td>\n",
              "      <td>41.0</td>\n",
              "    </tr>\n",
              "    <tr>\n",
              "      <th>duration</th>\n",
              "      <td>19h 23m</td>\n",
              "      <td>3h 54m</td>\n",
              "      <td>5h 14m</td>\n",
              "      <td>9h 30m</td>\n",
              "      <td>7h 8m</td>\n",
              "    </tr>\n",
              "    <tr>\n",
              "      <th>price2</th>\n",
              "      <td>CA$23.99</td>\n",
              "      <td>CA$16.99</td>\n",
              "      <td>CA$23.99</td>\n",
              "      <td>CA$21.99</td>\n",
              "      <td>CA$19.99</td>\n",
              "    </tr>\n",
              "    <tr>\n",
              "      <th>price</th>\n",
              "      <td>NaN</td>\n",
              "      <td>NaN</td>\n",
              "      <td>NaN</td>\n",
              "      <td>39</td>\n",
              "      <td>CA$19.99</td>\n",
              "    </tr>\n",
              "    <tr>\n",
              "      <th>discount</th>\n",
              "      <td>90%</td>\n",
              "      <td>56%</td>\n",
              "      <td>91%</td>\n",
              "      <td>88%</td>\n",
              "      <td>88%</td>\n",
              "    </tr>\n",
              "    <tr>\n",
              "      <th>inst rating</th>\n",
              "      <td>4.2</td>\n",
              "      <td>4.5</td>\n",
              "      <td>4.6</td>\n",
              "      <td>4.6</td>\n",
              "      <td>4.5</td>\n",
              "    </tr>\n",
              "    <tr>\n",
              "      <th>inst review</th>\n",
              "      <td>13453.0</td>\n",
              "      <td>246008.0</td>\n",
              "      <td>19993.0</td>\n",
              "      <td>75247.0</td>\n",
              "      <td>11922.0</td>\n",
              "    </tr>\n",
              "    <tr>\n",
              "      <th>inst student</th>\n",
              "      <td>179306.0</td>\n",
              "      <td>1145810.0</td>\n",
              "      <td>55621.0</td>\n",
              "      <td>751881.0</td>\n",
              "      <td>53659.0</td>\n",
              "    </tr>\n",
              "    <tr>\n",
              "      <th>inst course</th>\n",
              "      <td>12.0</td>\n",
              "      <td>81.0</td>\n",
              "      <td>3.0</td>\n",
              "      <td>2.0</td>\n",
              "      <td>10.0</td>\n",
              "    </tr>\n",
              "  </tbody>\n",
              "</table>\n",
              "</div>\n",
              "      <button class=\"colab-df-convert\" onclick=\"convertToInteractive('df-7c989f4d-5a3e-4c82-9469-6e2a3b630da4')\"\n",
              "              title=\"Convert this dataframe to an interactive table.\"\n",
              "              style=\"display:none;\">\n",
              "        \n",
              "  <svg xmlns=\"http://www.w3.org/2000/svg\" height=\"24px\"viewBox=\"0 0 24 24\"\n",
              "       width=\"24px\">\n",
              "    <path d=\"M0 0h24v24H0V0z\" fill=\"none\"/>\n",
              "    <path d=\"M18.56 5.44l.94 2.06.94-2.06 2.06-.94-2.06-.94-.94-2.06-.94 2.06-2.06.94zm-11 1L8.5 8.5l.94-2.06 2.06-.94-2.06-.94L8.5 2.5l-.94 2.06-2.06.94zm10 10l.94 2.06.94-2.06 2.06-.94-2.06-.94-.94-2.06-.94 2.06-2.06.94z\"/><path d=\"M17.41 7.96l-1.37-1.37c-.4-.4-.92-.59-1.43-.59-.52 0-1.04.2-1.43.59L10.3 9.45l-7.72 7.72c-.78.78-.78 2.05 0 2.83L4 21.41c.39.39.9.59 1.41.59.51 0 1.02-.2 1.41-.59l7.78-7.78 2.81-2.81c.8-.78.8-2.07 0-2.86zM5.41 20L4 18.59l7.72-7.72 1.47 1.35L5.41 20z\"/>\n",
              "  </svg>\n",
              "      </button>\n",
              "      \n",
              "  <style>\n",
              "    .colab-df-container {\n",
              "      display:flex;\n",
              "      flex-wrap:wrap;\n",
              "      gap: 12px;\n",
              "    }\n",
              "\n",
              "    .colab-df-convert {\n",
              "      background-color: #E8F0FE;\n",
              "      border: none;\n",
              "      border-radius: 50%;\n",
              "      cursor: pointer;\n",
              "      display: none;\n",
              "      fill: #1967D2;\n",
              "      height: 32px;\n",
              "      padding: 0 0 0 0;\n",
              "      width: 32px;\n",
              "    }\n",
              "\n",
              "    .colab-df-convert:hover {\n",
              "      background-color: #E2EBFA;\n",
              "      box-shadow: 0px 1px 2px rgba(60, 64, 67, 0.3), 0px 1px 3px 1px rgba(60, 64, 67, 0.15);\n",
              "      fill: #174EA6;\n",
              "    }\n",
              "\n",
              "    [theme=dark] .colab-df-convert {\n",
              "      background-color: #3B4455;\n",
              "      fill: #D2E3FC;\n",
              "    }\n",
              "\n",
              "    [theme=dark] .colab-df-convert:hover {\n",
              "      background-color: #434B5C;\n",
              "      box-shadow: 0px 1px 3px 1px rgba(0, 0, 0, 0.15);\n",
              "      filter: drop-shadow(0px 1px 2px rgba(0, 0, 0, 0.3));\n",
              "      fill: #FFFFFF;\n",
              "    }\n",
              "  </style>\n",
              "\n",
              "      <script>\n",
              "        const buttonEl =\n",
              "          document.querySelector('#df-7c989f4d-5a3e-4c82-9469-6e2a3b630da4 button.colab-df-convert');\n",
              "        buttonEl.style.display =\n",
              "          google.colab.kernel.accessAllowed ? 'block' : 'none';\n",
              "\n",
              "        async function convertToInteractive(key) {\n",
              "          const element = document.querySelector('#df-7c989f4d-5a3e-4c82-9469-6e2a3b630da4');\n",
              "          const dataTable =\n",
              "            await google.colab.kernel.invokeFunction('convertToInteractive',\n",
              "                                                     [key], {});\n",
              "          if (!dataTable) return;\n",
              "\n",
              "          const docLinkHtml = 'Like what you see? Visit the ' +\n",
              "            '<a target=\"_blank\" href=https://colab.research.google.com/notebooks/data_table.ipynb>data table notebook</a>'\n",
              "            + ' to learn more about interactive tables.';\n",
              "          element.innerHTML = '';\n",
              "          dataTable['output_type'] = 'display_data';\n",
              "          await google.colab.output.renderOutput(dataTable, element);\n",
              "          const docLink = document.createElement('div');\n",
              "          docLink.innerHTML = docLinkHtml;\n",
              "          element.appendChild(docLink);\n",
              "        }\n",
              "      </script>\n",
              "    </div>\n",
              "  </div>\n",
              "  "
            ]
          },
          "metadata": {},
          "execution_count": 3
        }
      ]
    },
    {
      "cell_type": "code",
      "source": [
        "# Check the columns.\n",
        "df.info()"
      ],
      "metadata": {
        "colab": {
          "base_uri": "https://localhost:8080/"
        },
        "id": "cv6eUILZHOuL",
        "outputId": "36e65022-3dac-4e72-f61e-76e481546a19"
      },
      "execution_count": 4,
      "outputs": [
        {
          "output_type": "stream",
          "name": "stdout",
          "text": [
            "<class 'pandas.core.frame.DataFrame'>\n",
            "RangeIndex: 2004 entries, 0 to 2003\n",
            "Data columns (total 16 columns):\n",
            " #   Column               Non-Null Count  Dtype  \n",
            "---  ------               --------------  -----  \n",
            " 0   course name          1970 non-null   object \n",
            " 1   course category      1970 non-null   object \n",
            " 2   course sub category  1970 non-null   object \n",
            " 3   avg rating           1967 non-null   float64\n",
            " 4   number ratings       1967 non-null   float64\n",
            " 5   enrollment           1965 non-null   float64\n",
            " 6   last updated         1970 non-null   object \n",
            " 7   lectures             1966 non-null   float64\n",
            " 8   duration             1970 non-null   object \n",
            " 9   price2               1651 non-null   object \n",
            " 10  price                659 non-null    object \n",
            " 11  discount             1970 non-null   object \n",
            " 12  inst rating          1967 non-null   float64\n",
            " 13  inst review          1967 non-null   float64\n",
            " 14  inst student         1970 non-null   float64\n",
            " 15  inst course          1970 non-null   float64\n",
            "dtypes: float64(8), object(8)\n",
            "memory usage: 250.6+ KB\n"
          ]
        }
      ]
    },
    {
      "cell_type": "code",
      "source": [
        "# Get the statistics information.\n",
        "df.describe()"
      ],
      "metadata": {
        "colab": {
          "base_uri": "https://localhost:8080/",
          "height": 300
        },
        "id": "ZyBew9a0HXOD",
        "outputId": "cde7c8ec-4b5c-4d59-aac5-d3c2f9853110"
      },
      "execution_count": 5,
      "outputs": [
        {
          "output_type": "execute_result",
          "data": {
            "text/plain": [
              "        avg rating  number ratings    enrollment     lectures  inst rating  \\\n",
              "count  1967.000000     1967.000000  1.965000e+03  1966.000000  1967.000000   \n",
              "mean      4.407270     4708.649720  2.542528e+04   105.789929     4.412354   \n",
              "std       0.271507    14306.115023  6.109779e+04   100.122851     0.230230   \n",
              "min       2.100000       17.000000  3.600000e+01     5.000000     2.600000   \n",
              "25%       4.300000      598.500000  3.696000e+03    44.000000     4.300000   \n",
              "50%       4.500000     1411.000000  9.313000e+03    74.000000     4.500000   \n",
              "75%       4.600000     3492.500000  2.139300e+04   125.750000     4.600000   \n",
              "max       4.900000   321904.000000  1.112443e+06   699.000000     4.800000   \n",
              "\n",
              "         inst review  inst student  inst course  \n",
              "count    1967.000000  1.970000e+03  1970.000000  \n",
              "mean    48894.806304  2.209746e+05    29.349746  \n",
              "std     98284.751447  3.768465e+05    94.717280  \n",
              "min        31.000000  5.500000e+01     1.000000  \n",
              "25%      2515.500000  1.593425e+04     5.000000  \n",
              "50%     11423.000000  6.334700e+04    12.000000  \n",
              "75%     43931.000000  2.421375e+05    23.000000  \n",
              "max    652986.000000  2.168985e+06  1420.000000  "
            ],
            "text/html": [
              "\n",
              "  <div id=\"df-a3f86f4c-d28c-4300-860e-79145dad8eec\">\n",
              "    <div class=\"colab-df-container\">\n",
              "      <div>\n",
              "<style scoped>\n",
              "    .dataframe tbody tr th:only-of-type {\n",
              "        vertical-align: middle;\n",
              "    }\n",
              "\n",
              "    .dataframe tbody tr th {\n",
              "        vertical-align: top;\n",
              "    }\n",
              "\n",
              "    .dataframe thead th {\n",
              "        text-align: right;\n",
              "    }\n",
              "</style>\n",
              "<table border=\"1\" class=\"dataframe\">\n",
              "  <thead>\n",
              "    <tr style=\"text-align: right;\">\n",
              "      <th></th>\n",
              "      <th>avg rating</th>\n",
              "      <th>number ratings</th>\n",
              "      <th>enrollment</th>\n",
              "      <th>lectures</th>\n",
              "      <th>inst rating</th>\n",
              "      <th>inst review</th>\n",
              "      <th>inst student</th>\n",
              "      <th>inst course</th>\n",
              "    </tr>\n",
              "  </thead>\n",
              "  <tbody>\n",
              "    <tr>\n",
              "      <th>count</th>\n",
              "      <td>1967.000000</td>\n",
              "      <td>1967.000000</td>\n",
              "      <td>1.965000e+03</td>\n",
              "      <td>1966.000000</td>\n",
              "      <td>1967.000000</td>\n",
              "      <td>1967.000000</td>\n",
              "      <td>1.970000e+03</td>\n",
              "      <td>1970.000000</td>\n",
              "    </tr>\n",
              "    <tr>\n",
              "      <th>mean</th>\n",
              "      <td>4.407270</td>\n",
              "      <td>4708.649720</td>\n",
              "      <td>2.542528e+04</td>\n",
              "      <td>105.789929</td>\n",
              "      <td>4.412354</td>\n",
              "      <td>48894.806304</td>\n",
              "      <td>2.209746e+05</td>\n",
              "      <td>29.349746</td>\n",
              "    </tr>\n",
              "    <tr>\n",
              "      <th>std</th>\n",
              "      <td>0.271507</td>\n",
              "      <td>14306.115023</td>\n",
              "      <td>6.109779e+04</td>\n",
              "      <td>100.122851</td>\n",
              "      <td>0.230230</td>\n",
              "      <td>98284.751447</td>\n",
              "      <td>3.768465e+05</td>\n",
              "      <td>94.717280</td>\n",
              "    </tr>\n",
              "    <tr>\n",
              "      <th>min</th>\n",
              "      <td>2.100000</td>\n",
              "      <td>17.000000</td>\n",
              "      <td>3.600000e+01</td>\n",
              "      <td>5.000000</td>\n",
              "      <td>2.600000</td>\n",
              "      <td>31.000000</td>\n",
              "      <td>5.500000e+01</td>\n",
              "      <td>1.000000</td>\n",
              "    </tr>\n",
              "    <tr>\n",
              "      <th>25%</th>\n",
              "      <td>4.300000</td>\n",
              "      <td>598.500000</td>\n",
              "      <td>3.696000e+03</td>\n",
              "      <td>44.000000</td>\n",
              "      <td>4.300000</td>\n",
              "      <td>2515.500000</td>\n",
              "      <td>1.593425e+04</td>\n",
              "      <td>5.000000</td>\n",
              "    </tr>\n",
              "    <tr>\n",
              "      <th>50%</th>\n",
              "      <td>4.500000</td>\n",
              "      <td>1411.000000</td>\n",
              "      <td>9.313000e+03</td>\n",
              "      <td>74.000000</td>\n",
              "      <td>4.500000</td>\n",
              "      <td>11423.000000</td>\n",
              "      <td>6.334700e+04</td>\n",
              "      <td>12.000000</td>\n",
              "    </tr>\n",
              "    <tr>\n",
              "      <th>75%</th>\n",
              "      <td>4.600000</td>\n",
              "      <td>3492.500000</td>\n",
              "      <td>2.139300e+04</td>\n",
              "      <td>125.750000</td>\n",
              "      <td>4.600000</td>\n",
              "      <td>43931.000000</td>\n",
              "      <td>2.421375e+05</td>\n",
              "      <td>23.000000</td>\n",
              "    </tr>\n",
              "    <tr>\n",
              "      <th>max</th>\n",
              "      <td>4.900000</td>\n",
              "      <td>321904.000000</td>\n",
              "      <td>1.112443e+06</td>\n",
              "      <td>699.000000</td>\n",
              "      <td>4.800000</td>\n",
              "      <td>652986.000000</td>\n",
              "      <td>2.168985e+06</td>\n",
              "      <td>1420.000000</td>\n",
              "    </tr>\n",
              "  </tbody>\n",
              "</table>\n",
              "</div>\n",
              "      <button class=\"colab-df-convert\" onclick=\"convertToInteractive('df-a3f86f4c-d28c-4300-860e-79145dad8eec')\"\n",
              "              title=\"Convert this dataframe to an interactive table.\"\n",
              "              style=\"display:none;\">\n",
              "        \n",
              "  <svg xmlns=\"http://www.w3.org/2000/svg\" height=\"24px\"viewBox=\"0 0 24 24\"\n",
              "       width=\"24px\">\n",
              "    <path d=\"M0 0h24v24H0V0z\" fill=\"none\"/>\n",
              "    <path d=\"M18.56 5.44l.94 2.06.94-2.06 2.06-.94-2.06-.94-.94-2.06-.94 2.06-2.06.94zm-11 1L8.5 8.5l.94-2.06 2.06-.94-2.06-.94L8.5 2.5l-.94 2.06-2.06.94zm10 10l.94 2.06.94-2.06 2.06-.94-2.06-.94-.94-2.06-.94 2.06-2.06.94z\"/><path d=\"M17.41 7.96l-1.37-1.37c-.4-.4-.92-.59-1.43-.59-.52 0-1.04.2-1.43.59L10.3 9.45l-7.72 7.72c-.78.78-.78 2.05 0 2.83L4 21.41c.39.39.9.59 1.41.59.51 0 1.02-.2 1.41-.59l7.78-7.78 2.81-2.81c.8-.78.8-2.07 0-2.86zM5.41 20L4 18.59l7.72-7.72 1.47 1.35L5.41 20z\"/>\n",
              "  </svg>\n",
              "      </button>\n",
              "      \n",
              "  <style>\n",
              "    .colab-df-container {\n",
              "      display:flex;\n",
              "      flex-wrap:wrap;\n",
              "      gap: 12px;\n",
              "    }\n",
              "\n",
              "    .colab-df-convert {\n",
              "      background-color: #E8F0FE;\n",
              "      border: none;\n",
              "      border-radius: 50%;\n",
              "      cursor: pointer;\n",
              "      display: none;\n",
              "      fill: #1967D2;\n",
              "      height: 32px;\n",
              "      padding: 0 0 0 0;\n",
              "      width: 32px;\n",
              "    }\n",
              "\n",
              "    .colab-df-convert:hover {\n",
              "      background-color: #E2EBFA;\n",
              "      box-shadow: 0px 1px 2px rgba(60, 64, 67, 0.3), 0px 1px 3px 1px rgba(60, 64, 67, 0.15);\n",
              "      fill: #174EA6;\n",
              "    }\n",
              "\n",
              "    [theme=dark] .colab-df-convert {\n",
              "      background-color: #3B4455;\n",
              "      fill: #D2E3FC;\n",
              "    }\n",
              "\n",
              "    [theme=dark] .colab-df-convert:hover {\n",
              "      background-color: #434B5C;\n",
              "      box-shadow: 0px 1px 3px 1px rgba(0, 0, 0, 0.15);\n",
              "      filter: drop-shadow(0px 1px 2px rgba(0, 0, 0, 0.3));\n",
              "      fill: #FFFFFF;\n",
              "    }\n",
              "  </style>\n",
              "\n",
              "      <script>\n",
              "        const buttonEl =\n",
              "          document.querySelector('#df-a3f86f4c-d28c-4300-860e-79145dad8eec button.colab-df-convert');\n",
              "        buttonEl.style.display =\n",
              "          google.colab.kernel.accessAllowed ? 'block' : 'none';\n",
              "\n",
              "        async function convertToInteractive(key) {\n",
              "          const element = document.querySelector('#df-a3f86f4c-d28c-4300-860e-79145dad8eec');\n",
              "          const dataTable =\n",
              "            await google.colab.kernel.invokeFunction('convertToInteractive',\n",
              "                                                     [key], {});\n",
              "          if (!dataTable) return;\n",
              "\n",
              "          const docLinkHtml = 'Like what you see? Visit the ' +\n",
              "            '<a target=\"_blank\" href=https://colab.research.google.com/notebooks/data_table.ipynb>data table notebook</a>'\n",
              "            + ' to learn more about interactive tables.';\n",
              "          element.innerHTML = '';\n",
              "          dataTable['output_type'] = 'display_data';\n",
              "          await google.colab.output.renderOutput(dataTable, element);\n",
              "          const docLink = document.createElement('div');\n",
              "          docLink.innerHTML = docLinkHtml;\n",
              "          element.appendChild(docLink);\n",
              "        }\n",
              "      </script>\n",
              "    </div>\n",
              "  </div>\n",
              "  "
            ]
          },
          "metadata": {},
          "execution_count": 5
        }
      ]
    },
    {
      "cell_type": "code",
      "source": [
        "# Check NAN value in each column.\n",
        "df.isnull().sum()"
      ],
      "metadata": {
        "colab": {
          "base_uri": "https://localhost:8080/"
        },
        "id": "hvCrbHvvHbyj",
        "outputId": "528ed8a5-6ba8-486d-92b7-97933619f710"
      },
      "execution_count": 6,
      "outputs": [
        {
          "output_type": "execute_result",
          "data": {
            "text/plain": [
              "course name              34\n",
              "course category          34\n",
              "course sub category      34\n",
              "avg rating               37\n",
              "number ratings           37\n",
              "enrollment               39\n",
              "last updated             34\n",
              "lectures                 38\n",
              "duration                 34\n",
              "price2                  353\n",
              "price                  1345\n",
              "discount                 34\n",
              "inst rating              37\n",
              "inst review              37\n",
              "inst student             34\n",
              "inst course              34\n",
              "dtype: int64"
            ]
          },
          "metadata": {},
          "execution_count": 6
        }
      ]
    },
    {
      "cell_type": "code",
      "source": [
        "# Drop rows having only missing values.\n",
        "df.dropna(how='all', inplace=True)"
      ],
      "metadata": {
        "id": "_tJff6u6HhjA"
      },
      "execution_count": 7,
      "outputs": []
    },
    {
      "cell_type": "code",
      "source": [
        "# Check the price column NAN value.\n",
        "df['price'].isnull().sum()"
      ],
      "metadata": {
        "colab": {
          "base_uri": "https://localhost:8080/"
        },
        "id": "3H9WhJJ5IRZL",
        "outputId": "65cc6c23-5eb0-48a9-d6e6-b1184c907666"
      },
      "execution_count": 8,
      "outputs": [
        {
          "output_type": "execute_result",
          "data": {
            "text/plain": [
              "1311"
            ]
          },
          "metadata": {},
          "execution_count": 8
        }
      ]
    },
    {
      "cell_type": "code",
      "source": [
        "# Check the price2 column NAN value.\n",
        "df['price2'].isnull().sum()"
      ],
      "metadata": {
        "colab": {
          "base_uri": "https://localhost:8080/"
        },
        "id": "9SJWd7zcIoiq",
        "outputId": "4f304c0b-a0cb-455e-d3e4-a23ea320f373"
      },
      "execution_count": 9,
      "outputs": [
        {
          "output_type": "execute_result",
          "data": {
            "text/plain": [
              "319"
            ]
          },
          "metadata": {},
          "execution_count": 9
        }
      ]
    },
    {
      "cell_type": "code",
      "source": [
        "# Use the price value to replace the NAN value in the price 2 column.\n",
        "df['price2'].fillna(df['price'], inplace=True)"
      ],
      "metadata": {
        "id": "rpbbOyR2Itpp"
      },
      "execution_count": 10,
      "outputs": []
    },
    {
      "cell_type": "code",
      "source": [
        "df.drop('price', axis=1, inplace=True)\n",
        "df.rename(columns={'price2':'price'}, inplace=True)"
      ],
      "metadata": {
        "id": "26kj11PlMTzL"
      },
      "execution_count": 11,
      "outputs": []
    },
    {
      "cell_type": "code",
      "source": [],
      "metadata": {
        "id": "86i3st28OpAc"
      },
      "execution_count": 11,
      "outputs": []
    },
    {
      "cell_type": "code",
      "source": [
        "# Drop the row which contain at least 1 NAN value.\n",
        "df.dropna(inplace=True)"
      ],
      "metadata": {
        "id": "W58PN9uqJDvr"
      },
      "execution_count": 12,
      "outputs": []
    },
    {
      "cell_type": "code",
      "source": [
        "# Recheck the NAN values.\n",
        "df.isnull().sum()"
      ],
      "metadata": {
        "colab": {
          "base_uri": "https://localhost:8080/"
        },
        "id": "C7Nu8k26J_gw",
        "outputId": "ee094df1-0b39-4d55-d1bc-8bc3ab4c5400"
      },
      "execution_count": 13,
      "outputs": [
        {
          "output_type": "execute_result",
          "data": {
            "text/plain": [
              "course name            0\n",
              "course category        0\n",
              "course sub category    0\n",
              "avg rating             0\n",
              "number ratings         0\n",
              "enrollment             0\n",
              "last updated           0\n",
              "lectures               0\n",
              "duration               0\n",
              "price                  0\n",
              "discount               0\n",
              "inst rating            0\n",
              "inst review            0\n",
              "inst student           0\n",
              "inst course            0\n",
              "dtype: int64"
            ]
          },
          "metadata": {},
          "execution_count": 13
        }
      ]
    },
    {
      "cell_type": "code",
      "source": [
        "df = pd.DataFrame(df.values, columns=df.columns.map(lambda x:x.replace(\" \", \"_\")))"
      ],
      "metadata": {
        "id": "BzcLyzqnVO48"
      },
      "execution_count": 14,
      "outputs": []
    },
    {
      "cell_type": "code",
      "source": [
        "# Recheck columns' names\n",
        "df.columns"
      ],
      "metadata": {
        "colab": {
          "base_uri": "https://localhost:8080/"
        },
        "id": "RLF_kOwEKO2V",
        "outputId": "88a3c652-8086-41b3-8ed3-e10ec9a9c95e"
      },
      "execution_count": 15,
      "outputs": [
        {
          "output_type": "execute_result",
          "data": {
            "text/plain": [
              "Index(['course_name', 'course_category', 'course_sub_category', 'avg_rating',\n",
              "       'number_ratings', 'enrollment', 'last_updated', 'lectures', 'duration',\n",
              "       'price', 'discount', 'inst_rating', 'inst_review', 'inst_student',\n",
              "       'inst_course'],\n",
              "      dtype='object')"
            ]
          },
          "metadata": {},
          "execution_count": 15
        }
      ]
    },
    {
      "cell_type": "code",
      "source": [
        "# Remove the % symbols from the discount column.\n",
        "df['discount'] = df['discount'].apply(lambda x:x[:-1])"
      ],
      "metadata": {
        "id": "UKEa6zf4KiCv"
      },
      "execution_count": 16,
      "outputs": []
    },
    {
      "cell_type": "code",
      "source": [
        "# Remove the text CA$ symbols from the price column.\n",
        "df['price'] = df['price'].apply(lambda x:x.replace('CA$',''))"
      ],
      "metadata": {
        "id": "9PpHUNnPUqfX"
      },
      "execution_count": 17,
      "outputs": []
    },
    {
      "cell_type": "code",
      "source": [
        "df['duration'].apply(lambda x:len(x)).value_counts()"
      ],
      "metadata": {
        "colab": {
          "base_uri": "https://localhost:8080/"
        },
        "id": "0aGyMzoyOg2h",
        "outputId": "8a523961-0db2-46ab-eb25-c5960903764d"
      },
      "execution_count": 18,
      "outputs": [
        {
          "output_type": "execute_result",
          "data": {
            "text/plain": [
              "6    1099\n",
              "7     634\n",
              "5     200\n",
              "3      16\n",
              "8       3\n",
              "Name: duration, dtype: int64"
            ]
          },
          "metadata": {},
          "execution_count": 18
        }
      ]
    },
    {
      "cell_type": "code",
      "source": [
        "for d in df['duration']:\n",
        "  if len(d) == 3:\n",
        "    print(d)"
      ],
      "metadata": {
        "colab": {
          "base_uri": "https://localhost:8080/"
        },
        "id": "ELxwr8lpTO-j",
        "outputId": "3c08b0f4-4ea3-410b-ee2f-e1ed3f89d887"
      },
      "execution_count": 19,
      "outputs": [
        {
          "output_type": "stream",
          "name": "stdout",
          "text": [
            "38m\n",
            "57m\n",
            "57m\n",
            "53m\n",
            "53m\n",
            "51m\n",
            "48m\n",
            "58m\n",
            "50m\n",
            "42m\n",
            "52m\n",
            "48m\n",
            "30m\n",
            "41m\n",
            "58m\n",
            "31m\n"
          ]
        }
      ]
    },
    {
      "cell_type": "code",
      "source": [
        "for d in df['duration']:\n",
        "  if len(d) == 5:\n",
        "    print(d)"
      ],
      "metadata": {
        "colab": {
          "base_uri": "https://localhost:8080/"
        },
        "id": "f_NGq2_VTv2X",
        "outputId": "f2afbf40-5059-4d45-ab20-b937dd97e71a"
      },
      "execution_count": 20,
      "outputs": [
        {
          "output_type": "stream",
          "name": "stdout",
          "text": [
            "7h 8m\n",
            "4h 8m\n",
            "5h 3m\n",
            "6h 6m\n",
            "9h 0m\n",
            "9h 8m\n",
            "6h 7m\n",
            "2h 6m\n",
            "3h 8m\n",
            "4h 0m\n",
            "6h 5m\n",
            "6h 6m\n",
            "4h 3m\n",
            "2h 3m\n",
            "3h 5m\n",
            "6h 4m\n",
            "7h 8m\n",
            "5h 6m\n",
            "5h 2m\n",
            "3h 6m\n",
            "5h 3m\n",
            "5h 6m\n",
            "7h 7m\n",
            "7h 1m\n",
            "3h 6m\n",
            "2h 3m\n",
            "4h 6m\n",
            "1h 3m\n",
            "2h 2m\n",
            "4h 5m\n",
            "4h 5m\n",
            "3h 6m\n",
            "1h 7m\n",
            "3h 9m\n",
            "7h 7m\n",
            "2h 7m\n",
            "5h 7m\n",
            "8h 5m\n",
            "3h 6m\n",
            "5h 2m\n",
            "6h 7m\n",
            "5h 7m\n",
            "6h 4m\n",
            "5h 0m\n",
            "3h 0m\n",
            "9h 9m\n",
            "6h 9m\n",
            "6h 4m\n",
            "4h 2m\n",
            "2h 8m\n",
            "5h 2m\n",
            "5h 1m\n",
            "7h 1m\n",
            "4h 5m\n",
            "9h 4m\n",
            "7h 3m\n",
            "2h 6m\n",
            "5h 7m\n",
            "9h 4m\n",
            "3h 1m\n",
            "7h 7m\n",
            "8h 7m\n",
            "5h 3m\n",
            "4h 6m\n",
            "4h 9m\n",
            "9h 3m\n",
            "2h 6m\n",
            "4h 7m\n",
            "6h 9m\n",
            "3h 5m\n",
            "8h 4m\n",
            "4h 3m\n",
            "2h 3m\n",
            "8h 3m\n",
            "9h 9m\n",
            "8h 2m\n",
            "3h 8m\n",
            "3h 8m\n",
            "9h 0m\n",
            "4h 2m\n",
            "2h 6m\n",
            "7h 0m\n",
            "8h 9m\n",
            "3h 6m\n",
            "3h 7m\n",
            "3h 6m\n",
            "5h 7m\n",
            "5h 7m\n",
            "5h 0m\n",
            "3h 5m\n",
            "4h 8m\n",
            "2h 1m\n",
            "7h 1m\n",
            "4h 3m\n",
            "2h 6m\n",
            "6h 4m\n",
            "7h 0m\n",
            "1h 7m\n",
            "7h 0m\n",
            "5h 7m\n",
            "5h 2m\n",
            "4h 2m\n",
            "9h 0m\n",
            "9h 5m\n",
            "1h 4m\n",
            "1h 8m\n",
            "1h 4m\n",
            "1h 9m\n",
            "2h 4m\n",
            "4h 0m\n",
            "2h 6m\n",
            "4h 9m\n",
            "9h 3m\n",
            "1h 5m\n",
            "1h 6m\n",
            "1h 4m\n",
            "4h 0m\n",
            "9h 0m\n",
            "6h 4m\n",
            "3h 8m\n",
            "9h 3m\n",
            "6h 5m\n",
            "2h 3m\n",
            "2h 6m\n",
            "7h 2m\n",
            "5h 7m\n",
            "4h 7m\n",
            "3h 7m\n",
            "4h 3m\n",
            "7h 8m\n",
            "2h 7m\n",
            "8h 3m\n",
            "2h 4m\n",
            "2h 5m\n",
            "5h 8m\n",
            "6h 5m\n",
            "5h 7m\n",
            "6h 3m\n",
            "3h 8m\n",
            "2h 8m\n",
            "4h 5m\n",
            "5h 6m\n",
            "4h 2m\n",
            "6h 1m\n",
            "4h 5m\n",
            "3h 8m\n",
            "2h 8m\n",
            "3h 1m\n",
            "6h 7m\n",
            "6h 9m\n",
            "4h 5m\n",
            "8h 3m\n",
            "9h 6m\n",
            "3h 4m\n",
            "5h 6m\n",
            "8h 3m\n",
            "2h 9m\n",
            "4h 5m\n",
            "1h 5m\n",
            "3h 4m\n",
            "2h 6m\n",
            "7h 7m\n",
            "8h 4m\n",
            "4h 1m\n",
            "6h 5m\n",
            "7h 6m\n",
            "7h 7m\n",
            "7h 6m\n",
            "5h 5m\n",
            "7h 1m\n",
            "6h 4m\n",
            "3h 7m\n",
            "8h 7m\n",
            "6h 1m\n",
            "5h 8m\n",
            "5h 1m\n",
            "2h 1m\n",
            "5h 1m\n",
            "5h 4m\n",
            "2h 5m\n",
            "6h 5m\n",
            "9h 1m\n",
            "2h 5m\n",
            "6h 4m\n",
            "4h 6m\n",
            "8h 4m\n",
            "6h 4m\n",
            "6h 3m\n",
            "1h 3m\n",
            "7h 4m\n",
            "4h 3m\n",
            "5h 2m\n",
            "2h 8m\n",
            "3h 8m\n",
            "1h 0m\n",
            "1h 6m\n",
            "7h 2m\n",
            "8h 8m\n",
            "5h 1m\n",
            "3h 8m\n"
          ]
        }
      ]
    },
    {
      "cell_type": "code",
      "source": [
        "# Transform the value of duration into hours.\n",
        "def tranDuration(d):\n",
        "  if len(d) == 3:\n",
        "    d = float(d[:-1])/60\n",
        "  else:\n",
        "    dArr = d.split(\" \")\n",
        "    d = float(dArr[0][:-1]) + float(dArr[1][:-1])/60\n",
        "  return d\n",
        "df['duration'] = df['duration'].apply(tranDuration)"
      ],
      "metadata": {
        "id": "StIKWEk2UMwt"
      },
      "execution_count": 21,
      "outputs": []
    },
    {
      "cell_type": "code",
      "source": [
        "df['last_updated']"
      ],
      "metadata": {
        "colab": {
          "base_uri": "https://localhost:8080/"
        },
        "id": "ii6qcj6BVOd2",
        "outputId": "ff00cf85-344e-4ffe-ee76-b730aeabb6e3"
      },
      "execution_count": 22,
      "outputs": [
        {
          "output_type": "execute_result",
          "data": {
            "text/plain": [
              "0        8/2020\n",
              "1        3/2018\n",
              "2       10/2020\n",
              "3        4/2020\n",
              "4       10/2020\n",
              "         ...   \n",
              "1947     9/2020\n",
              "1948     6/2015\n",
              "1949     6/2020\n",
              "1950     3/2017\n",
              "1951    10/2020\n",
              "Name: last_updated, Length: 1952, dtype: object"
            ]
          },
          "metadata": {},
          "execution_count": 22
        }
      ]
    },
    {
      "cell_type": "code",
      "source": [
        "# Transform the value of last_updated into a number representing the value.\n",
        "def transLast(last):\n",
        "  lastArr = last.split('/')\n",
        "  x = float(lastArr[1][-2:]) + float(lastArr[0])/100\n",
        "  return x\n",
        "\n",
        "df['last_updated'] = df['last_updated'].apply(transLast)"
      ],
      "metadata": {
        "id": "vCUL_tu0VP32"
      },
      "execution_count": 23,
      "outputs": []
    },
    {
      "cell_type": "code",
      "source": [
        "# Change the datatypes of column discount, price and last_updated into float64.\n",
        "df['price'] = pd.to_numeric(df['price'])\n",
        "df['discount'] = pd.to_numeric(df['discount'])\n",
        "df['last_updated'] = pd.to_numeric(df['last_updated'])"
      ],
      "metadata": {
        "id": "iCvFvu2OWiHR"
      },
      "execution_count": 24,
      "outputs": []
    },
    {
      "cell_type": "code",
      "source": [
        "df['course_category'].value_counts()"
      ],
      "metadata": {
        "colab": {
          "base_uri": "https://localhost:8080/"
        },
        "id": "kxcXSvyWZalb",
        "outputId": "e334e9fc-050e-4471-9541-5c372faf6dca"
      },
      "execution_count": 25,
      "outputs": [
        {
          "output_type": "execute_result",
          "data": {
            "text/plain": [
              "development             575\n",
              "it software             462\n",
              "business                358\n",
              "design                  148\n",
              "teaching academics       77\n",
              "personal development     71\n",
              "marketing                70\n",
              "office productivity      52\n",
              "music                    48\n",
              "health fitness           37\n",
              "lifestyle                31\n",
              "photography              21\n",
              "finance accounting        1\n",
              "other                     1\n",
              "Name: course_category, dtype: int64"
            ]
          },
          "metadata": {},
          "execution_count": 25
        }
      ]
    },
    {
      "cell_type": "code",
      "source": [
        "# Combine some courses to reduce the amount of the course number.\n",
        "def combine_course(course):\n",
        "  if 'business' in course.lower() or 'finance' in course.lower() or 'marketing' in course.lower() or 'office' in course.lower() or 'teaching' in course.lower() or 'personal development' in course.lower():\n",
        "    course = 'business & education'.replace(\" \", \"_\")\n",
        "  elif 'music' in course.lower() or 'lifestyle' in course.lower() or 'health' in course.lower() or 'photo' in course.lower() or 'other' in course.lower():\n",
        "    course = 'personal hobby'.replace(\" \", \"_\")\n",
        "  else:\n",
        "    course = course.replace(\" \", \"_\")\n",
        "  return course\n",
        "df['course_category'] = df['course_category'].apply(combine_course)"
      ],
      "metadata": {
        "id": "ncniAowOaib_"
      },
      "execution_count": 26,
      "outputs": []
    },
    {
      "cell_type": "code",
      "source": [
        "df['course_category'].value_counts()"
      ],
      "metadata": {
        "colab": {
          "base_uri": "https://localhost:8080/"
        },
        "id": "cOtmioKyeoXi",
        "outputId": "aab6f430-94ca-40aa-cd74-38a025237190"
      },
      "execution_count": 27,
      "outputs": [
        {
          "output_type": "execute_result",
          "data": {
            "text/plain": [
              "business_&_education    629\n",
              "development             575\n",
              "it_software             462\n",
              "design                  148\n",
              "personal_hobby          138\n",
              "Name: course_category, dtype: int64"
            ]
          },
          "metadata": {},
          "execution_count": 27
        }
      ]
    },
    {
      "cell_type": "code",
      "source": [
        "df.columns"
      ],
      "metadata": {
        "colab": {
          "base_uri": "https://localhost:8080/"
        },
        "id": "WETi3nEjepzp",
        "outputId": "a8303b71-20d7-44e5-9f8c-56563dcfefbd"
      },
      "execution_count": 28,
      "outputs": [
        {
          "output_type": "execute_result",
          "data": {
            "text/plain": [
              "Index(['course_name', 'course_category', 'course_sub_category', 'avg_rating',\n",
              "       'number_ratings', 'enrollment', 'last_updated', 'lectures', 'duration',\n",
              "       'price', 'discount', 'inst_rating', 'inst_review', 'inst_student',\n",
              "       'inst_course'],\n",
              "      dtype='object')"
            ]
          },
          "metadata": {},
          "execution_count": 28
        }
      ]
    },
    {
      "cell_type": "code",
      "source": [
        "# Drop the unneeded fetures.\n",
        "df.drop(['course_name','course_sub_category'], axis=1, inplace=True)"
      ],
      "metadata": {
        "id": "oRcohmv3jEWD"
      },
      "execution_count": 29,
      "outputs": []
    },
    {
      "cell_type": "code",
      "source": [
        "# Reset the index.\n",
        "df.reset_index(inplace=True)"
      ],
      "metadata": {
        "id": "gOix7_8rjNVk"
      },
      "execution_count": 30,
      "outputs": []
    },
    {
      "cell_type": "code",
      "source": [
        "# Recheck the dataframe.\n",
        "df.head()"
      ],
      "metadata": {
        "colab": {
          "base_uri": "https://localhost:8080/",
          "height": 270
        },
        "id": "047n7eEnjee0",
        "outputId": "59c7d221-69d5-439d-8ed3-f0bda874523b"
      },
      "execution_count": 31,
      "outputs": [
        {
          "output_type": "execute_result",
          "data": {
            "text/plain": [
              "   index       course_category avg_rating number_ratings enrollment  \\\n",
              "0      0                design        4.2         6340.0    54930.0   \n",
              "1      1  business_&_education        4.6         9281.0    48338.0   \n",
              "2      2           development        4.6         6833.0    21218.0   \n",
              "3      3           development        4.6        72122.0   717921.0   \n",
              "4      4  business_&_education        4.5         2826.0    14269.0   \n",
              "\n",
              "   last_updated lectures   duration  price  discount inst_rating inst_review  \\\n",
              "0         20.08    162.0  19.383333  23.99        90         4.2     13453.0   \n",
              "1         18.03     37.0   3.900000  16.99        56         4.5    246008.0   \n",
              "2         20.10     53.0   5.233333  23.99        91         4.6     19993.0   \n",
              "3         20.04     51.0   9.500000  21.99        88         4.6     75247.0   \n",
              "4         20.10     41.0   7.133333  19.99        88         4.5     11922.0   \n",
              "\n",
              "  inst_student inst_course  \n",
              "0     179306.0        12.0  \n",
              "1    1145810.0        81.0  \n",
              "2      55621.0         3.0  \n",
              "3     751881.0         2.0  \n",
              "4      53659.0        10.0  "
            ],
            "text/html": [
              "\n",
              "  <div id=\"df-55390b04-2ce9-41d4-96cb-d9faeb779f02\">\n",
              "    <div class=\"colab-df-container\">\n",
              "      <div>\n",
              "<style scoped>\n",
              "    .dataframe tbody tr th:only-of-type {\n",
              "        vertical-align: middle;\n",
              "    }\n",
              "\n",
              "    .dataframe tbody tr th {\n",
              "        vertical-align: top;\n",
              "    }\n",
              "\n",
              "    .dataframe thead th {\n",
              "        text-align: right;\n",
              "    }\n",
              "</style>\n",
              "<table border=\"1\" class=\"dataframe\">\n",
              "  <thead>\n",
              "    <tr style=\"text-align: right;\">\n",
              "      <th></th>\n",
              "      <th>index</th>\n",
              "      <th>course_category</th>\n",
              "      <th>avg_rating</th>\n",
              "      <th>number_ratings</th>\n",
              "      <th>enrollment</th>\n",
              "      <th>last_updated</th>\n",
              "      <th>lectures</th>\n",
              "      <th>duration</th>\n",
              "      <th>price</th>\n",
              "      <th>discount</th>\n",
              "      <th>inst_rating</th>\n",
              "      <th>inst_review</th>\n",
              "      <th>inst_student</th>\n",
              "      <th>inst_course</th>\n",
              "    </tr>\n",
              "  </thead>\n",
              "  <tbody>\n",
              "    <tr>\n",
              "      <th>0</th>\n",
              "      <td>0</td>\n",
              "      <td>design</td>\n",
              "      <td>4.2</td>\n",
              "      <td>6340.0</td>\n",
              "      <td>54930.0</td>\n",
              "      <td>20.08</td>\n",
              "      <td>162.0</td>\n",
              "      <td>19.383333</td>\n",
              "      <td>23.99</td>\n",
              "      <td>90</td>\n",
              "      <td>4.2</td>\n",
              "      <td>13453.0</td>\n",
              "      <td>179306.0</td>\n",
              "      <td>12.0</td>\n",
              "    </tr>\n",
              "    <tr>\n",
              "      <th>1</th>\n",
              "      <td>1</td>\n",
              "      <td>business_&amp;_education</td>\n",
              "      <td>4.6</td>\n",
              "      <td>9281.0</td>\n",
              "      <td>48338.0</td>\n",
              "      <td>18.03</td>\n",
              "      <td>37.0</td>\n",
              "      <td>3.900000</td>\n",
              "      <td>16.99</td>\n",
              "      <td>56</td>\n",
              "      <td>4.5</td>\n",
              "      <td>246008.0</td>\n",
              "      <td>1145810.0</td>\n",
              "      <td>81.0</td>\n",
              "    </tr>\n",
              "    <tr>\n",
              "      <th>2</th>\n",
              "      <td>2</td>\n",
              "      <td>development</td>\n",
              "      <td>4.6</td>\n",
              "      <td>6833.0</td>\n",
              "      <td>21218.0</td>\n",
              "      <td>20.10</td>\n",
              "      <td>53.0</td>\n",
              "      <td>5.233333</td>\n",
              "      <td>23.99</td>\n",
              "      <td>91</td>\n",
              "      <td>4.6</td>\n",
              "      <td>19993.0</td>\n",
              "      <td>55621.0</td>\n",
              "      <td>3.0</td>\n",
              "    </tr>\n",
              "    <tr>\n",
              "      <th>3</th>\n",
              "      <td>3</td>\n",
              "      <td>development</td>\n",
              "      <td>4.6</td>\n",
              "      <td>72122.0</td>\n",
              "      <td>717921.0</td>\n",
              "      <td>20.04</td>\n",
              "      <td>51.0</td>\n",
              "      <td>9.500000</td>\n",
              "      <td>21.99</td>\n",
              "      <td>88</td>\n",
              "      <td>4.6</td>\n",
              "      <td>75247.0</td>\n",
              "      <td>751881.0</td>\n",
              "      <td>2.0</td>\n",
              "    </tr>\n",
              "    <tr>\n",
              "      <th>4</th>\n",
              "      <td>4</td>\n",
              "      <td>business_&amp;_education</td>\n",
              "      <td>4.5</td>\n",
              "      <td>2826.0</td>\n",
              "      <td>14269.0</td>\n",
              "      <td>20.10</td>\n",
              "      <td>41.0</td>\n",
              "      <td>7.133333</td>\n",
              "      <td>19.99</td>\n",
              "      <td>88</td>\n",
              "      <td>4.5</td>\n",
              "      <td>11922.0</td>\n",
              "      <td>53659.0</td>\n",
              "      <td>10.0</td>\n",
              "    </tr>\n",
              "  </tbody>\n",
              "</table>\n",
              "</div>\n",
              "      <button class=\"colab-df-convert\" onclick=\"convertToInteractive('df-55390b04-2ce9-41d4-96cb-d9faeb779f02')\"\n",
              "              title=\"Convert this dataframe to an interactive table.\"\n",
              "              style=\"display:none;\">\n",
              "        \n",
              "  <svg xmlns=\"http://www.w3.org/2000/svg\" height=\"24px\"viewBox=\"0 0 24 24\"\n",
              "       width=\"24px\">\n",
              "    <path d=\"M0 0h24v24H0V0z\" fill=\"none\"/>\n",
              "    <path d=\"M18.56 5.44l.94 2.06.94-2.06 2.06-.94-2.06-.94-.94-2.06-.94 2.06-2.06.94zm-11 1L8.5 8.5l.94-2.06 2.06-.94-2.06-.94L8.5 2.5l-.94 2.06-2.06.94zm10 10l.94 2.06.94-2.06 2.06-.94-2.06-.94-.94-2.06-.94 2.06-2.06.94z\"/><path d=\"M17.41 7.96l-1.37-1.37c-.4-.4-.92-.59-1.43-.59-.52 0-1.04.2-1.43.59L10.3 9.45l-7.72 7.72c-.78.78-.78 2.05 0 2.83L4 21.41c.39.39.9.59 1.41.59.51 0 1.02-.2 1.41-.59l7.78-7.78 2.81-2.81c.8-.78.8-2.07 0-2.86zM5.41 20L4 18.59l7.72-7.72 1.47 1.35L5.41 20z\"/>\n",
              "  </svg>\n",
              "      </button>\n",
              "      \n",
              "  <style>\n",
              "    .colab-df-container {\n",
              "      display:flex;\n",
              "      flex-wrap:wrap;\n",
              "      gap: 12px;\n",
              "    }\n",
              "\n",
              "    .colab-df-convert {\n",
              "      background-color: #E8F0FE;\n",
              "      border: none;\n",
              "      border-radius: 50%;\n",
              "      cursor: pointer;\n",
              "      display: none;\n",
              "      fill: #1967D2;\n",
              "      height: 32px;\n",
              "      padding: 0 0 0 0;\n",
              "      width: 32px;\n",
              "    }\n",
              "\n",
              "    .colab-df-convert:hover {\n",
              "      background-color: #E2EBFA;\n",
              "      box-shadow: 0px 1px 2px rgba(60, 64, 67, 0.3), 0px 1px 3px 1px rgba(60, 64, 67, 0.15);\n",
              "      fill: #174EA6;\n",
              "    }\n",
              "\n",
              "    [theme=dark] .colab-df-convert {\n",
              "      background-color: #3B4455;\n",
              "      fill: #D2E3FC;\n",
              "    }\n",
              "\n",
              "    [theme=dark] .colab-df-convert:hover {\n",
              "      background-color: #434B5C;\n",
              "      box-shadow: 0px 1px 3px 1px rgba(0, 0, 0, 0.15);\n",
              "      filter: drop-shadow(0px 1px 2px rgba(0, 0, 0, 0.3));\n",
              "      fill: #FFFFFF;\n",
              "    }\n",
              "  </style>\n",
              "\n",
              "      <script>\n",
              "        const buttonEl =\n",
              "          document.querySelector('#df-55390b04-2ce9-41d4-96cb-d9faeb779f02 button.colab-df-convert');\n",
              "        buttonEl.style.display =\n",
              "          google.colab.kernel.accessAllowed ? 'block' : 'none';\n",
              "\n",
              "        async function convertToInteractive(key) {\n",
              "          const element = document.querySelector('#df-55390b04-2ce9-41d4-96cb-d9faeb779f02');\n",
              "          const dataTable =\n",
              "            await google.colab.kernel.invokeFunction('convertToInteractive',\n",
              "                                                     [key], {});\n",
              "          if (!dataTable) return;\n",
              "\n",
              "          const docLinkHtml = 'Like what you see? Visit the ' +\n",
              "            '<a target=\"_blank\" href=https://colab.research.google.com/notebooks/data_table.ipynb>data table notebook</a>'\n",
              "            + ' to learn more about interactive tables.';\n",
              "          element.innerHTML = '';\n",
              "          dataTable['output_type'] = 'display_data';\n",
              "          await google.colab.output.renderOutput(dataTable, element);\n",
              "          const docLink = document.createElement('div');\n",
              "          docLink.innerHTML = docLinkHtml;\n",
              "          element.appendChild(docLink);\n",
              "        }\n",
              "      </script>\n",
              "    </div>\n",
              "  </div>\n",
              "  "
            ]
          },
          "metadata": {},
          "execution_count": 31
        }
      ]
    },
    {
      "cell_type": "code",
      "source": [
        "# Save the data to a new csv file.\n",
        "df.to_csv('/content/drive/MyDrive/Colab Notebooks/Lab1/course_data_cleaned.csv', index=False)"
      ],
      "metadata": {
        "id": "kxwftUHZ3Pyo"
      },
      "execution_count": 32,
      "outputs": []
    },
    {
      "cell_type": "code",
      "source": [
        "# Read the data from the saved csv file.\n",
        "df_cleaned = pd.read_csv('/content/drive/MyDrive/Colab Notebooks/Lab1/course_data_cleaned.csv')"
      ],
      "metadata": {
        "id": "RlBlSt2ELiVn"
      },
      "execution_count": 33,
      "outputs": []
    },
    {
      "cell_type": "code",
      "source": [
        "# Check the head.\n",
        "df_cleaned.head().transpose()"
      ],
      "metadata": {
        "colab": {
          "base_uri": "https://localhost:8080/",
          "height": 488
        },
        "id": "G4Dm2osRMUfC",
        "outputId": "5475d0ce-cc24-48db-cf7e-e146ff79d706"
      },
      "execution_count": 34,
      "outputs": [
        {
          "output_type": "execute_result",
          "data": {
            "text/plain": [
              "                         0                     1            2            3  \\\n",
              "index                    0                     1            2            3   \n",
              "course_category     design  business_&_education  development  development   \n",
              "avg_rating             4.2                   4.6          4.6          4.6   \n",
              "number_ratings      6340.0                9281.0       6833.0      72122.0   \n",
              "enrollment         54930.0               48338.0      21218.0     717921.0   \n",
              "last_updated         20.08                 18.03         20.1        20.04   \n",
              "lectures             162.0                  37.0         53.0         51.0   \n",
              "duration         19.383333                   3.9     5.233333          9.5   \n",
              "price                23.99                 16.99        23.99        21.99   \n",
              "discount                90                    56           91           88   \n",
              "inst_rating            4.2                   4.5          4.6          4.6   \n",
              "inst_review        13453.0              246008.0      19993.0      75247.0   \n",
              "inst_student      179306.0             1145810.0      55621.0     751881.0   \n",
              "inst_course           12.0                  81.0          3.0          2.0   \n",
              "\n",
              "                                    4  \n",
              "index                               4  \n",
              "course_category  business_&_education  \n",
              "avg_rating                        4.5  \n",
              "number_ratings                 2826.0  \n",
              "enrollment                    14269.0  \n",
              "last_updated                     20.1  \n",
              "lectures                         41.0  \n",
              "duration                     7.133333  \n",
              "price                           19.99  \n",
              "discount                           88  \n",
              "inst_rating                       4.5  \n",
              "inst_review                   11922.0  \n",
              "inst_student                  53659.0  \n",
              "inst_course                      10.0  "
            ],
            "text/html": [
              "\n",
              "  <div id=\"df-035a9c06-3638-4d47-aa05-f5a9a497be09\">\n",
              "    <div class=\"colab-df-container\">\n",
              "      <div>\n",
              "<style scoped>\n",
              "    .dataframe tbody tr th:only-of-type {\n",
              "        vertical-align: middle;\n",
              "    }\n",
              "\n",
              "    .dataframe tbody tr th {\n",
              "        vertical-align: top;\n",
              "    }\n",
              "\n",
              "    .dataframe thead th {\n",
              "        text-align: right;\n",
              "    }\n",
              "</style>\n",
              "<table border=\"1\" class=\"dataframe\">\n",
              "  <thead>\n",
              "    <tr style=\"text-align: right;\">\n",
              "      <th></th>\n",
              "      <th>0</th>\n",
              "      <th>1</th>\n",
              "      <th>2</th>\n",
              "      <th>3</th>\n",
              "      <th>4</th>\n",
              "    </tr>\n",
              "  </thead>\n",
              "  <tbody>\n",
              "    <tr>\n",
              "      <th>index</th>\n",
              "      <td>0</td>\n",
              "      <td>1</td>\n",
              "      <td>2</td>\n",
              "      <td>3</td>\n",
              "      <td>4</td>\n",
              "    </tr>\n",
              "    <tr>\n",
              "      <th>course_category</th>\n",
              "      <td>design</td>\n",
              "      <td>business_&amp;_education</td>\n",
              "      <td>development</td>\n",
              "      <td>development</td>\n",
              "      <td>business_&amp;_education</td>\n",
              "    </tr>\n",
              "    <tr>\n",
              "      <th>avg_rating</th>\n",
              "      <td>4.2</td>\n",
              "      <td>4.6</td>\n",
              "      <td>4.6</td>\n",
              "      <td>4.6</td>\n",
              "      <td>4.5</td>\n",
              "    </tr>\n",
              "    <tr>\n",
              "      <th>number_ratings</th>\n",
              "      <td>6340.0</td>\n",
              "      <td>9281.0</td>\n",
              "      <td>6833.0</td>\n",
              "      <td>72122.0</td>\n",
              "      <td>2826.0</td>\n",
              "    </tr>\n",
              "    <tr>\n",
              "      <th>enrollment</th>\n",
              "      <td>54930.0</td>\n",
              "      <td>48338.0</td>\n",
              "      <td>21218.0</td>\n",
              "      <td>717921.0</td>\n",
              "      <td>14269.0</td>\n",
              "    </tr>\n",
              "    <tr>\n",
              "      <th>last_updated</th>\n",
              "      <td>20.08</td>\n",
              "      <td>18.03</td>\n",
              "      <td>20.1</td>\n",
              "      <td>20.04</td>\n",
              "      <td>20.1</td>\n",
              "    </tr>\n",
              "    <tr>\n",
              "      <th>lectures</th>\n",
              "      <td>162.0</td>\n",
              "      <td>37.0</td>\n",
              "      <td>53.0</td>\n",
              "      <td>51.0</td>\n",
              "      <td>41.0</td>\n",
              "    </tr>\n",
              "    <tr>\n",
              "      <th>duration</th>\n",
              "      <td>19.383333</td>\n",
              "      <td>3.9</td>\n",
              "      <td>5.233333</td>\n",
              "      <td>9.5</td>\n",
              "      <td>7.133333</td>\n",
              "    </tr>\n",
              "    <tr>\n",
              "      <th>price</th>\n",
              "      <td>23.99</td>\n",
              "      <td>16.99</td>\n",
              "      <td>23.99</td>\n",
              "      <td>21.99</td>\n",
              "      <td>19.99</td>\n",
              "    </tr>\n",
              "    <tr>\n",
              "      <th>discount</th>\n",
              "      <td>90</td>\n",
              "      <td>56</td>\n",
              "      <td>91</td>\n",
              "      <td>88</td>\n",
              "      <td>88</td>\n",
              "    </tr>\n",
              "    <tr>\n",
              "      <th>inst_rating</th>\n",
              "      <td>4.2</td>\n",
              "      <td>4.5</td>\n",
              "      <td>4.6</td>\n",
              "      <td>4.6</td>\n",
              "      <td>4.5</td>\n",
              "    </tr>\n",
              "    <tr>\n",
              "      <th>inst_review</th>\n",
              "      <td>13453.0</td>\n",
              "      <td>246008.0</td>\n",
              "      <td>19993.0</td>\n",
              "      <td>75247.0</td>\n",
              "      <td>11922.0</td>\n",
              "    </tr>\n",
              "    <tr>\n",
              "      <th>inst_student</th>\n",
              "      <td>179306.0</td>\n",
              "      <td>1145810.0</td>\n",
              "      <td>55621.0</td>\n",
              "      <td>751881.0</td>\n",
              "      <td>53659.0</td>\n",
              "    </tr>\n",
              "    <tr>\n",
              "      <th>inst_course</th>\n",
              "      <td>12.0</td>\n",
              "      <td>81.0</td>\n",
              "      <td>3.0</td>\n",
              "      <td>2.0</td>\n",
              "      <td>10.0</td>\n",
              "    </tr>\n",
              "  </tbody>\n",
              "</table>\n",
              "</div>\n",
              "      <button class=\"colab-df-convert\" onclick=\"convertToInteractive('df-035a9c06-3638-4d47-aa05-f5a9a497be09')\"\n",
              "              title=\"Convert this dataframe to an interactive table.\"\n",
              "              style=\"display:none;\">\n",
              "        \n",
              "  <svg xmlns=\"http://www.w3.org/2000/svg\" height=\"24px\"viewBox=\"0 0 24 24\"\n",
              "       width=\"24px\">\n",
              "    <path d=\"M0 0h24v24H0V0z\" fill=\"none\"/>\n",
              "    <path d=\"M18.56 5.44l.94 2.06.94-2.06 2.06-.94-2.06-.94-.94-2.06-.94 2.06-2.06.94zm-11 1L8.5 8.5l.94-2.06 2.06-.94-2.06-.94L8.5 2.5l-.94 2.06-2.06.94zm10 10l.94 2.06.94-2.06 2.06-.94-2.06-.94-.94-2.06-.94 2.06-2.06.94z\"/><path d=\"M17.41 7.96l-1.37-1.37c-.4-.4-.92-.59-1.43-.59-.52 0-1.04.2-1.43.59L10.3 9.45l-7.72 7.72c-.78.78-.78 2.05 0 2.83L4 21.41c.39.39.9.59 1.41.59.51 0 1.02-.2 1.41-.59l7.78-7.78 2.81-2.81c.8-.78.8-2.07 0-2.86zM5.41 20L4 18.59l7.72-7.72 1.47 1.35L5.41 20z\"/>\n",
              "  </svg>\n",
              "      </button>\n",
              "      \n",
              "  <style>\n",
              "    .colab-df-container {\n",
              "      display:flex;\n",
              "      flex-wrap:wrap;\n",
              "      gap: 12px;\n",
              "    }\n",
              "\n",
              "    .colab-df-convert {\n",
              "      background-color: #E8F0FE;\n",
              "      border: none;\n",
              "      border-radius: 50%;\n",
              "      cursor: pointer;\n",
              "      display: none;\n",
              "      fill: #1967D2;\n",
              "      height: 32px;\n",
              "      padding: 0 0 0 0;\n",
              "      width: 32px;\n",
              "    }\n",
              "\n",
              "    .colab-df-convert:hover {\n",
              "      background-color: #E2EBFA;\n",
              "      box-shadow: 0px 1px 2px rgba(60, 64, 67, 0.3), 0px 1px 3px 1px rgba(60, 64, 67, 0.15);\n",
              "      fill: #174EA6;\n",
              "    }\n",
              "\n",
              "    [theme=dark] .colab-df-convert {\n",
              "      background-color: #3B4455;\n",
              "      fill: #D2E3FC;\n",
              "    }\n",
              "\n",
              "    [theme=dark] .colab-df-convert:hover {\n",
              "      background-color: #434B5C;\n",
              "      box-shadow: 0px 1px 3px 1px rgba(0, 0, 0, 0.15);\n",
              "      filter: drop-shadow(0px 1px 2px rgba(0, 0, 0, 0.3));\n",
              "      fill: #FFFFFF;\n",
              "    }\n",
              "  </style>\n",
              "\n",
              "      <script>\n",
              "        const buttonEl =\n",
              "          document.querySelector('#df-035a9c06-3638-4d47-aa05-f5a9a497be09 button.colab-df-convert');\n",
              "        buttonEl.style.display =\n",
              "          google.colab.kernel.accessAllowed ? 'block' : 'none';\n",
              "\n",
              "        async function convertToInteractive(key) {\n",
              "          const element = document.querySelector('#df-035a9c06-3638-4d47-aa05-f5a9a497be09');\n",
              "          const dataTable =\n",
              "            await google.colab.kernel.invokeFunction('convertToInteractive',\n",
              "                                                     [key], {});\n",
              "          if (!dataTable) return;\n",
              "\n",
              "          const docLinkHtml = 'Like what you see? Visit the ' +\n",
              "            '<a target=\"_blank\" href=https://colab.research.google.com/notebooks/data_table.ipynb>data table notebook</a>'\n",
              "            + ' to learn more about interactive tables.';\n",
              "          element.innerHTML = '';\n",
              "          dataTable['output_type'] = 'display_data';\n",
              "          await google.colab.output.renderOutput(dataTable, element);\n",
              "          const docLink = document.createElement('div');\n",
              "          docLink.innerHTML = docLinkHtml;\n",
              "          element.appendChild(docLink);\n",
              "        }\n",
              "      </script>\n",
              "    </div>\n",
              "  </div>\n",
              "  "
            ]
          },
          "metadata": {},
          "execution_count": 34
        }
      ]
    },
    {
      "cell_type": "code",
      "source": [
        "# Check null values.\n",
        "df_cleaned.isnull().sum()"
      ],
      "metadata": {
        "colab": {
          "base_uri": "https://localhost:8080/"
        },
        "id": "9qvCJKPOMWMB",
        "outputId": "93976667-91de-4db5-80af-0fdde2e5e295"
      },
      "execution_count": 35,
      "outputs": [
        {
          "output_type": "execute_result",
          "data": {
            "text/plain": [
              "index              0\n",
              "course_category    0\n",
              "avg_rating         0\n",
              "number_ratings     0\n",
              "enrollment         0\n",
              "last_updated       0\n",
              "lectures           0\n",
              "duration           0\n",
              "price              0\n",
              "discount           0\n",
              "inst_rating        0\n",
              "inst_review        0\n",
              "inst_student       0\n",
              "inst_course        0\n",
              "dtype: int64"
            ]
          },
          "metadata": {},
          "execution_count": 35
        }
      ]
    },
    {
      "cell_type": "code",
      "source": [
        "# Check the columns information.\n",
        "df_cleaned.info()"
      ],
      "metadata": {
        "colab": {
          "base_uri": "https://localhost:8080/"
        },
        "id": "adZh0dIbMug0",
        "outputId": "035b7631-7576-4dcb-b8ce-6c5c1035e0cb"
      },
      "execution_count": 36,
      "outputs": [
        {
          "output_type": "stream",
          "name": "stdout",
          "text": [
            "<class 'pandas.core.frame.DataFrame'>\n",
            "RangeIndex: 1952 entries, 0 to 1951\n",
            "Data columns (total 14 columns):\n",
            " #   Column           Non-Null Count  Dtype  \n",
            "---  ------           --------------  -----  \n",
            " 0   index            1952 non-null   int64  \n",
            " 1   course_category  1952 non-null   object \n",
            " 2   avg_rating       1952 non-null   float64\n",
            " 3   number_ratings   1952 non-null   float64\n",
            " 4   enrollment       1952 non-null   float64\n",
            " 5   last_updated     1952 non-null   float64\n",
            " 6   lectures         1952 non-null   float64\n",
            " 7   duration         1952 non-null   float64\n",
            " 8   price            1952 non-null   float64\n",
            " 9   discount         1952 non-null   int64  \n",
            " 10  inst_rating      1952 non-null   float64\n",
            " 11  inst_review      1952 non-null   float64\n",
            " 12  inst_student     1952 non-null   float64\n",
            " 13  inst_course      1952 non-null   float64\n",
            "dtypes: float64(11), int64(2), object(1)\n",
            "memory usage: 213.6+ KB\n"
          ]
        }
      ]
    },
    {
      "cell_type": "code",
      "source": [
        "# Check the statistic information.\n",
        "df_cleaned.describe()"
      ],
      "metadata": {
        "colab": {
          "base_uri": "https://localhost:8080/",
          "height": 364
        },
        "id": "NK6GTdtAM1Cx",
        "outputId": "1c4b017b-dccb-4807-810d-f60e445c7e3f"
      },
      "execution_count": 37,
      "outputs": [
        {
          "output_type": "execute_result",
          "data": {
            "text/plain": [
              "             index   avg_rating  number_ratings    enrollment  last_updated  \\\n",
              "count  1952.000000  1952.000000     1952.000000  1.952000e+03   1952.000000   \n",
              "mean    975.500000     4.407736     4724.838115  2.547321e+04     19.317515   \n",
              "std     563.638182     0.271028    14356.671383  6.126212e+04      1.293075   \n",
              "min       0.000000     2.100000       17.000000  3.600000e+01     11.080000   \n",
              "25%     487.750000     4.300000      599.750000  3.702500e+03     19.050000   \n",
              "50%     975.500000     4.500000     1415.000000  9.288500e+03     20.050000   \n",
              "75%    1463.250000     4.600000     3505.000000  2.139450e+04     20.090000   \n",
              "max    1951.000000     4.900000   321904.000000  1.112443e+06     20.100000   \n",
              "\n",
              "          lectures     duration        price     discount  inst_rating  \\\n",
              "count  1952.000000  1952.000000  1952.000000  1952.000000  1952.000000   \n",
              "mean    105.695697    11.843443    23.523299    78.588627     4.412807   \n",
              "std     100.271526    13.131620    20.596236    16.452168     0.229835   \n",
              "min       5.000000     0.500000    16.990000    30.000000     2.600000   \n",
              "25%      44.000000     4.345833    16.990000    74.000000     4.300000   \n",
              "50%      74.000000     7.825000    19.990000    86.000000     4.500000   \n",
              "75%     125.000000    14.233333    21.990000    89.000000     4.600000   \n",
              "max     699.000000   164.000000   199.990000    92.000000     4.800000   \n",
              "\n",
              "         inst_review  inst_student  inst_course  \n",
              "count    1952.000000  1.952000e+03  1952.000000  \n",
              "mean    49190.690574  2.219591e+05    29.289959  \n",
              "std     98598.883546  3.775576e+05    94.874580  \n",
              "min        31.000000  5.500000e+01     1.000000  \n",
              "25%      2527.250000  1.599500e+04     5.000000  \n",
              "50%     11423.000000  6.335600e+04    12.000000  \n",
              "75%     43931.000000  2.426830e+05    23.000000  \n",
              "max    652986.000000  2.168985e+06  1420.000000  "
            ],
            "text/html": [
              "\n",
              "  <div id=\"df-b5e9be4e-7cce-45b4-ad5f-af520a703521\">\n",
              "    <div class=\"colab-df-container\">\n",
              "      <div>\n",
              "<style scoped>\n",
              "    .dataframe tbody tr th:only-of-type {\n",
              "        vertical-align: middle;\n",
              "    }\n",
              "\n",
              "    .dataframe tbody tr th {\n",
              "        vertical-align: top;\n",
              "    }\n",
              "\n",
              "    .dataframe thead th {\n",
              "        text-align: right;\n",
              "    }\n",
              "</style>\n",
              "<table border=\"1\" class=\"dataframe\">\n",
              "  <thead>\n",
              "    <tr style=\"text-align: right;\">\n",
              "      <th></th>\n",
              "      <th>index</th>\n",
              "      <th>avg_rating</th>\n",
              "      <th>number_ratings</th>\n",
              "      <th>enrollment</th>\n",
              "      <th>last_updated</th>\n",
              "      <th>lectures</th>\n",
              "      <th>duration</th>\n",
              "      <th>price</th>\n",
              "      <th>discount</th>\n",
              "      <th>inst_rating</th>\n",
              "      <th>inst_review</th>\n",
              "      <th>inst_student</th>\n",
              "      <th>inst_course</th>\n",
              "    </tr>\n",
              "  </thead>\n",
              "  <tbody>\n",
              "    <tr>\n",
              "      <th>count</th>\n",
              "      <td>1952.000000</td>\n",
              "      <td>1952.000000</td>\n",
              "      <td>1952.000000</td>\n",
              "      <td>1.952000e+03</td>\n",
              "      <td>1952.000000</td>\n",
              "      <td>1952.000000</td>\n",
              "      <td>1952.000000</td>\n",
              "      <td>1952.000000</td>\n",
              "      <td>1952.000000</td>\n",
              "      <td>1952.000000</td>\n",
              "      <td>1952.000000</td>\n",
              "      <td>1.952000e+03</td>\n",
              "      <td>1952.000000</td>\n",
              "    </tr>\n",
              "    <tr>\n",
              "      <th>mean</th>\n",
              "      <td>975.500000</td>\n",
              "      <td>4.407736</td>\n",
              "      <td>4724.838115</td>\n",
              "      <td>2.547321e+04</td>\n",
              "      <td>19.317515</td>\n",
              "      <td>105.695697</td>\n",
              "      <td>11.843443</td>\n",
              "      <td>23.523299</td>\n",
              "      <td>78.588627</td>\n",
              "      <td>4.412807</td>\n",
              "      <td>49190.690574</td>\n",
              "      <td>2.219591e+05</td>\n",
              "      <td>29.289959</td>\n",
              "    </tr>\n",
              "    <tr>\n",
              "      <th>std</th>\n",
              "      <td>563.638182</td>\n",
              "      <td>0.271028</td>\n",
              "      <td>14356.671383</td>\n",
              "      <td>6.126212e+04</td>\n",
              "      <td>1.293075</td>\n",
              "      <td>100.271526</td>\n",
              "      <td>13.131620</td>\n",
              "      <td>20.596236</td>\n",
              "      <td>16.452168</td>\n",
              "      <td>0.229835</td>\n",
              "      <td>98598.883546</td>\n",
              "      <td>3.775576e+05</td>\n",
              "      <td>94.874580</td>\n",
              "    </tr>\n",
              "    <tr>\n",
              "      <th>min</th>\n",
              "      <td>0.000000</td>\n",
              "      <td>2.100000</td>\n",
              "      <td>17.000000</td>\n",
              "      <td>3.600000e+01</td>\n",
              "      <td>11.080000</td>\n",
              "      <td>5.000000</td>\n",
              "      <td>0.500000</td>\n",
              "      <td>16.990000</td>\n",
              "      <td>30.000000</td>\n",
              "      <td>2.600000</td>\n",
              "      <td>31.000000</td>\n",
              "      <td>5.500000e+01</td>\n",
              "      <td>1.000000</td>\n",
              "    </tr>\n",
              "    <tr>\n",
              "      <th>25%</th>\n",
              "      <td>487.750000</td>\n",
              "      <td>4.300000</td>\n",
              "      <td>599.750000</td>\n",
              "      <td>3.702500e+03</td>\n",
              "      <td>19.050000</td>\n",
              "      <td>44.000000</td>\n",
              "      <td>4.345833</td>\n",
              "      <td>16.990000</td>\n",
              "      <td>74.000000</td>\n",
              "      <td>4.300000</td>\n",
              "      <td>2527.250000</td>\n",
              "      <td>1.599500e+04</td>\n",
              "      <td>5.000000</td>\n",
              "    </tr>\n",
              "    <tr>\n",
              "      <th>50%</th>\n",
              "      <td>975.500000</td>\n",
              "      <td>4.500000</td>\n",
              "      <td>1415.000000</td>\n",
              "      <td>9.288500e+03</td>\n",
              "      <td>20.050000</td>\n",
              "      <td>74.000000</td>\n",
              "      <td>7.825000</td>\n",
              "      <td>19.990000</td>\n",
              "      <td>86.000000</td>\n",
              "      <td>4.500000</td>\n",
              "      <td>11423.000000</td>\n",
              "      <td>6.335600e+04</td>\n",
              "      <td>12.000000</td>\n",
              "    </tr>\n",
              "    <tr>\n",
              "      <th>75%</th>\n",
              "      <td>1463.250000</td>\n",
              "      <td>4.600000</td>\n",
              "      <td>3505.000000</td>\n",
              "      <td>2.139450e+04</td>\n",
              "      <td>20.090000</td>\n",
              "      <td>125.000000</td>\n",
              "      <td>14.233333</td>\n",
              "      <td>21.990000</td>\n",
              "      <td>89.000000</td>\n",
              "      <td>4.600000</td>\n",
              "      <td>43931.000000</td>\n",
              "      <td>2.426830e+05</td>\n",
              "      <td>23.000000</td>\n",
              "    </tr>\n",
              "    <tr>\n",
              "      <th>max</th>\n",
              "      <td>1951.000000</td>\n",
              "      <td>4.900000</td>\n",
              "      <td>321904.000000</td>\n",
              "      <td>1.112443e+06</td>\n",
              "      <td>20.100000</td>\n",
              "      <td>699.000000</td>\n",
              "      <td>164.000000</td>\n",
              "      <td>199.990000</td>\n",
              "      <td>92.000000</td>\n",
              "      <td>4.800000</td>\n",
              "      <td>652986.000000</td>\n",
              "      <td>2.168985e+06</td>\n",
              "      <td>1420.000000</td>\n",
              "    </tr>\n",
              "  </tbody>\n",
              "</table>\n",
              "</div>\n",
              "      <button class=\"colab-df-convert\" onclick=\"convertToInteractive('df-b5e9be4e-7cce-45b4-ad5f-af520a703521')\"\n",
              "              title=\"Convert this dataframe to an interactive table.\"\n",
              "              style=\"display:none;\">\n",
              "        \n",
              "  <svg xmlns=\"http://www.w3.org/2000/svg\" height=\"24px\"viewBox=\"0 0 24 24\"\n",
              "       width=\"24px\">\n",
              "    <path d=\"M0 0h24v24H0V0z\" fill=\"none\"/>\n",
              "    <path d=\"M18.56 5.44l.94 2.06.94-2.06 2.06-.94-2.06-.94-.94-2.06-.94 2.06-2.06.94zm-11 1L8.5 8.5l.94-2.06 2.06-.94-2.06-.94L8.5 2.5l-.94 2.06-2.06.94zm10 10l.94 2.06.94-2.06 2.06-.94-2.06-.94-.94-2.06-.94 2.06-2.06.94z\"/><path d=\"M17.41 7.96l-1.37-1.37c-.4-.4-.92-.59-1.43-.59-.52 0-1.04.2-1.43.59L10.3 9.45l-7.72 7.72c-.78.78-.78 2.05 0 2.83L4 21.41c.39.39.9.59 1.41.59.51 0 1.02-.2 1.41-.59l7.78-7.78 2.81-2.81c.8-.78.8-2.07 0-2.86zM5.41 20L4 18.59l7.72-7.72 1.47 1.35L5.41 20z\"/>\n",
              "  </svg>\n",
              "      </button>\n",
              "      \n",
              "  <style>\n",
              "    .colab-df-container {\n",
              "      display:flex;\n",
              "      flex-wrap:wrap;\n",
              "      gap: 12px;\n",
              "    }\n",
              "\n",
              "    .colab-df-convert {\n",
              "      background-color: #E8F0FE;\n",
              "      border: none;\n",
              "      border-radius: 50%;\n",
              "      cursor: pointer;\n",
              "      display: none;\n",
              "      fill: #1967D2;\n",
              "      height: 32px;\n",
              "      padding: 0 0 0 0;\n",
              "      width: 32px;\n",
              "    }\n",
              "\n",
              "    .colab-df-convert:hover {\n",
              "      background-color: #E2EBFA;\n",
              "      box-shadow: 0px 1px 2px rgba(60, 64, 67, 0.3), 0px 1px 3px 1px rgba(60, 64, 67, 0.15);\n",
              "      fill: #174EA6;\n",
              "    }\n",
              "\n",
              "    [theme=dark] .colab-df-convert {\n",
              "      background-color: #3B4455;\n",
              "      fill: #D2E3FC;\n",
              "    }\n",
              "\n",
              "    [theme=dark] .colab-df-convert:hover {\n",
              "      background-color: #434B5C;\n",
              "      box-shadow: 0px 1px 3px 1px rgba(0, 0, 0, 0.15);\n",
              "      filter: drop-shadow(0px 1px 2px rgba(0, 0, 0, 0.3));\n",
              "      fill: #FFFFFF;\n",
              "    }\n",
              "  </style>\n",
              "\n",
              "      <script>\n",
              "        const buttonEl =\n",
              "          document.querySelector('#df-b5e9be4e-7cce-45b4-ad5f-af520a703521 button.colab-df-convert');\n",
              "        buttonEl.style.display =\n",
              "          google.colab.kernel.accessAllowed ? 'block' : 'none';\n",
              "\n",
              "        async function convertToInteractive(key) {\n",
              "          const element = document.querySelector('#df-b5e9be4e-7cce-45b4-ad5f-af520a703521');\n",
              "          const dataTable =\n",
              "            await google.colab.kernel.invokeFunction('convertToInteractive',\n",
              "                                                     [key], {});\n",
              "          if (!dataTable) return;\n",
              "\n",
              "          const docLinkHtml = 'Like what you see? Visit the ' +\n",
              "            '<a target=\"_blank\" href=https://colab.research.google.com/notebooks/data_table.ipynb>data table notebook</a>'\n",
              "            + ' to learn more about interactive tables.';\n",
              "          element.innerHTML = '';\n",
              "          dataTable['output_type'] = 'display_data';\n",
              "          await google.colab.output.renderOutput(dataTable, element);\n",
              "          const docLink = document.createElement('div');\n",
              "          docLink.innerHTML = docLinkHtml;\n",
              "          element.appendChild(docLink);\n",
              "        }\n",
              "      </script>\n",
              "    </div>\n",
              "  </div>\n",
              "  "
            ]
          },
          "metadata": {},
          "execution_count": 37
        }
      ]
    },
    {
      "cell_type": "code",
      "source": [
        "# Display the statistics summary with 0.01 and 0.99 percentile.\n",
        "df_stats = df_cleaned.describe(percentiles=[0.01, 0.25, 0.5, 0.75, 0.99])\n",
        "df_stats"
      ],
      "metadata": {
        "colab": {
          "base_uri": "https://localhost:8080/",
          "height": 427
        },
        "id": "eYP3dbR_M7oU",
        "outputId": "41bd833f-3962-4277-aac6-9cdf75ba5370"
      },
      "execution_count": 38,
      "outputs": [
        {
          "output_type": "execute_result",
          "data": {
            "text/plain": [
              "             index   avg_rating  number_ratings    enrollment  last_updated  \\\n",
              "count  1952.000000  1952.000000     1952.000000  1.952000e+03   1952.000000   \n",
              "mean    975.500000     4.407736     4724.838115  2.547321e+04     19.317515   \n",
              "std     563.638182     0.271028    14356.671383  6.126212e+04      1.293075   \n",
              "min       0.000000     2.100000       17.000000  3.600000e+01     11.080000   \n",
              "1%       19.510000     3.400000       70.000000  3.441200e+02     14.115100   \n",
              "25%     487.750000     4.300000      599.750000  3.702500e+03     19.050000   \n",
              "50%     975.500000     4.500000     1415.000000  9.288500e+03     20.050000   \n",
              "75%    1463.250000     4.600000     3505.000000  2.139450e+04     20.090000   \n",
              "99%    1931.490000     4.800000    53275.190000  3.081269e+05     20.100000   \n",
              "max    1951.000000     4.900000   321904.000000  1.112443e+06     20.100000   \n",
              "\n",
              "          lectures     duration        price     discount  inst_rating  \\\n",
              "count  1952.000000  1952.000000  1952.000000  1952.000000  1952.000000   \n",
              "mean    105.695697    11.843443    23.523299    78.588627     4.412807   \n",
              "std     100.271526    13.131620    20.596236    16.452168     0.229835   \n",
              "min       5.000000     0.500000    16.990000    30.000000     2.600000   \n",
              "1%       10.000000     1.066667    16.990000    32.000000     3.600000   \n",
              "25%      44.000000     4.345833    16.990000    74.000000     4.300000   \n",
              "50%      74.000000     7.825000    19.990000    86.000000     4.500000   \n",
              "75%     125.000000    14.233333    21.990000    89.000000     4.600000   \n",
              "99%     519.410000    64.750833   149.990000    92.000000     4.700000   \n",
              "max     699.000000   164.000000   199.990000    92.000000     4.800000   \n",
              "\n",
              "         inst_review  inst_student  inst_course  \n",
              "count    1952.000000  1.952000e+03  1952.000000  \n",
              "mean    49190.690574  2.219591e+05    29.289959  \n",
              "std     98598.883546  3.775576e+05    94.874580  \n",
              "min        31.000000  5.500000e+01     1.000000  \n",
              "1%        142.510000  6.490400e+02     1.000000  \n",
              "25%      2527.250000  1.599500e+04     5.000000  \n",
              "50%     11423.000000  6.335600e+04    12.000000  \n",
              "75%     43931.000000  2.426830e+05    23.000000  \n",
              "99%    509993.000000  1.979353e+06   330.000000  \n",
              "max    652986.000000  2.168985e+06  1420.000000  "
            ],
            "text/html": [
              "\n",
              "  <div id=\"df-f1715cbf-702e-4e75-8e94-a3b097772654\">\n",
              "    <div class=\"colab-df-container\">\n",
              "      <div>\n",
              "<style scoped>\n",
              "    .dataframe tbody tr th:only-of-type {\n",
              "        vertical-align: middle;\n",
              "    }\n",
              "\n",
              "    .dataframe tbody tr th {\n",
              "        vertical-align: top;\n",
              "    }\n",
              "\n",
              "    .dataframe thead th {\n",
              "        text-align: right;\n",
              "    }\n",
              "</style>\n",
              "<table border=\"1\" class=\"dataframe\">\n",
              "  <thead>\n",
              "    <tr style=\"text-align: right;\">\n",
              "      <th></th>\n",
              "      <th>index</th>\n",
              "      <th>avg_rating</th>\n",
              "      <th>number_ratings</th>\n",
              "      <th>enrollment</th>\n",
              "      <th>last_updated</th>\n",
              "      <th>lectures</th>\n",
              "      <th>duration</th>\n",
              "      <th>price</th>\n",
              "      <th>discount</th>\n",
              "      <th>inst_rating</th>\n",
              "      <th>inst_review</th>\n",
              "      <th>inst_student</th>\n",
              "      <th>inst_course</th>\n",
              "    </tr>\n",
              "  </thead>\n",
              "  <tbody>\n",
              "    <tr>\n",
              "      <th>count</th>\n",
              "      <td>1952.000000</td>\n",
              "      <td>1952.000000</td>\n",
              "      <td>1952.000000</td>\n",
              "      <td>1.952000e+03</td>\n",
              "      <td>1952.000000</td>\n",
              "      <td>1952.000000</td>\n",
              "      <td>1952.000000</td>\n",
              "      <td>1952.000000</td>\n",
              "      <td>1952.000000</td>\n",
              "      <td>1952.000000</td>\n",
              "      <td>1952.000000</td>\n",
              "      <td>1.952000e+03</td>\n",
              "      <td>1952.000000</td>\n",
              "    </tr>\n",
              "    <tr>\n",
              "      <th>mean</th>\n",
              "      <td>975.500000</td>\n",
              "      <td>4.407736</td>\n",
              "      <td>4724.838115</td>\n",
              "      <td>2.547321e+04</td>\n",
              "      <td>19.317515</td>\n",
              "      <td>105.695697</td>\n",
              "      <td>11.843443</td>\n",
              "      <td>23.523299</td>\n",
              "      <td>78.588627</td>\n",
              "      <td>4.412807</td>\n",
              "      <td>49190.690574</td>\n",
              "      <td>2.219591e+05</td>\n",
              "      <td>29.289959</td>\n",
              "    </tr>\n",
              "    <tr>\n",
              "      <th>std</th>\n",
              "      <td>563.638182</td>\n",
              "      <td>0.271028</td>\n",
              "      <td>14356.671383</td>\n",
              "      <td>6.126212e+04</td>\n",
              "      <td>1.293075</td>\n",
              "      <td>100.271526</td>\n",
              "      <td>13.131620</td>\n",
              "      <td>20.596236</td>\n",
              "      <td>16.452168</td>\n",
              "      <td>0.229835</td>\n",
              "      <td>98598.883546</td>\n",
              "      <td>3.775576e+05</td>\n",
              "      <td>94.874580</td>\n",
              "    </tr>\n",
              "    <tr>\n",
              "      <th>min</th>\n",
              "      <td>0.000000</td>\n",
              "      <td>2.100000</td>\n",
              "      <td>17.000000</td>\n",
              "      <td>3.600000e+01</td>\n",
              "      <td>11.080000</td>\n",
              "      <td>5.000000</td>\n",
              "      <td>0.500000</td>\n",
              "      <td>16.990000</td>\n",
              "      <td>30.000000</td>\n",
              "      <td>2.600000</td>\n",
              "      <td>31.000000</td>\n",
              "      <td>5.500000e+01</td>\n",
              "      <td>1.000000</td>\n",
              "    </tr>\n",
              "    <tr>\n",
              "      <th>1%</th>\n",
              "      <td>19.510000</td>\n",
              "      <td>3.400000</td>\n",
              "      <td>70.000000</td>\n",
              "      <td>3.441200e+02</td>\n",
              "      <td>14.115100</td>\n",
              "      <td>10.000000</td>\n",
              "      <td>1.066667</td>\n",
              "      <td>16.990000</td>\n",
              "      <td>32.000000</td>\n",
              "      <td>3.600000</td>\n",
              "      <td>142.510000</td>\n",
              "      <td>6.490400e+02</td>\n",
              "      <td>1.000000</td>\n",
              "    </tr>\n",
              "    <tr>\n",
              "      <th>25%</th>\n",
              "      <td>487.750000</td>\n",
              "      <td>4.300000</td>\n",
              "      <td>599.750000</td>\n",
              "      <td>3.702500e+03</td>\n",
              "      <td>19.050000</td>\n",
              "      <td>44.000000</td>\n",
              "      <td>4.345833</td>\n",
              "      <td>16.990000</td>\n",
              "      <td>74.000000</td>\n",
              "      <td>4.300000</td>\n",
              "      <td>2527.250000</td>\n",
              "      <td>1.599500e+04</td>\n",
              "      <td>5.000000</td>\n",
              "    </tr>\n",
              "    <tr>\n",
              "      <th>50%</th>\n",
              "      <td>975.500000</td>\n",
              "      <td>4.500000</td>\n",
              "      <td>1415.000000</td>\n",
              "      <td>9.288500e+03</td>\n",
              "      <td>20.050000</td>\n",
              "      <td>74.000000</td>\n",
              "      <td>7.825000</td>\n",
              "      <td>19.990000</td>\n",
              "      <td>86.000000</td>\n",
              "      <td>4.500000</td>\n",
              "      <td>11423.000000</td>\n",
              "      <td>6.335600e+04</td>\n",
              "      <td>12.000000</td>\n",
              "    </tr>\n",
              "    <tr>\n",
              "      <th>75%</th>\n",
              "      <td>1463.250000</td>\n",
              "      <td>4.600000</td>\n",
              "      <td>3505.000000</td>\n",
              "      <td>2.139450e+04</td>\n",
              "      <td>20.090000</td>\n",
              "      <td>125.000000</td>\n",
              "      <td>14.233333</td>\n",
              "      <td>21.990000</td>\n",
              "      <td>89.000000</td>\n",
              "      <td>4.600000</td>\n",
              "      <td>43931.000000</td>\n",
              "      <td>2.426830e+05</td>\n",
              "      <td>23.000000</td>\n",
              "    </tr>\n",
              "    <tr>\n",
              "      <th>99%</th>\n",
              "      <td>1931.490000</td>\n",
              "      <td>4.800000</td>\n",
              "      <td>53275.190000</td>\n",
              "      <td>3.081269e+05</td>\n",
              "      <td>20.100000</td>\n",
              "      <td>519.410000</td>\n",
              "      <td>64.750833</td>\n",
              "      <td>149.990000</td>\n",
              "      <td>92.000000</td>\n",
              "      <td>4.700000</td>\n",
              "      <td>509993.000000</td>\n",
              "      <td>1.979353e+06</td>\n",
              "      <td>330.000000</td>\n",
              "    </tr>\n",
              "    <tr>\n",
              "      <th>max</th>\n",
              "      <td>1951.000000</td>\n",
              "      <td>4.900000</td>\n",
              "      <td>321904.000000</td>\n",
              "      <td>1.112443e+06</td>\n",
              "      <td>20.100000</td>\n",
              "      <td>699.000000</td>\n",
              "      <td>164.000000</td>\n",
              "      <td>199.990000</td>\n",
              "      <td>92.000000</td>\n",
              "      <td>4.800000</td>\n",
              "      <td>652986.000000</td>\n",
              "      <td>2.168985e+06</td>\n",
              "      <td>1420.000000</td>\n",
              "    </tr>\n",
              "  </tbody>\n",
              "</table>\n",
              "</div>\n",
              "      <button class=\"colab-df-convert\" onclick=\"convertToInteractive('df-f1715cbf-702e-4e75-8e94-a3b097772654')\"\n",
              "              title=\"Convert this dataframe to an interactive table.\"\n",
              "              style=\"display:none;\">\n",
              "        \n",
              "  <svg xmlns=\"http://www.w3.org/2000/svg\" height=\"24px\"viewBox=\"0 0 24 24\"\n",
              "       width=\"24px\">\n",
              "    <path d=\"M0 0h24v24H0V0z\" fill=\"none\"/>\n",
              "    <path d=\"M18.56 5.44l.94 2.06.94-2.06 2.06-.94-2.06-.94-.94-2.06-.94 2.06-2.06.94zm-11 1L8.5 8.5l.94-2.06 2.06-.94-2.06-.94L8.5 2.5l-.94 2.06-2.06.94zm10 10l.94 2.06.94-2.06 2.06-.94-2.06-.94-.94-2.06-.94 2.06-2.06.94z\"/><path d=\"M17.41 7.96l-1.37-1.37c-.4-.4-.92-.59-1.43-.59-.52 0-1.04.2-1.43.59L10.3 9.45l-7.72 7.72c-.78.78-.78 2.05 0 2.83L4 21.41c.39.39.9.59 1.41.59.51 0 1.02-.2 1.41-.59l7.78-7.78 2.81-2.81c.8-.78.8-2.07 0-2.86zM5.41 20L4 18.59l7.72-7.72 1.47 1.35L5.41 20z\"/>\n",
              "  </svg>\n",
              "      </button>\n",
              "      \n",
              "  <style>\n",
              "    .colab-df-container {\n",
              "      display:flex;\n",
              "      flex-wrap:wrap;\n",
              "      gap: 12px;\n",
              "    }\n",
              "\n",
              "    .colab-df-convert {\n",
              "      background-color: #E8F0FE;\n",
              "      border: none;\n",
              "      border-radius: 50%;\n",
              "      cursor: pointer;\n",
              "      display: none;\n",
              "      fill: #1967D2;\n",
              "      height: 32px;\n",
              "      padding: 0 0 0 0;\n",
              "      width: 32px;\n",
              "    }\n",
              "\n",
              "    .colab-df-convert:hover {\n",
              "      background-color: #E2EBFA;\n",
              "      box-shadow: 0px 1px 2px rgba(60, 64, 67, 0.3), 0px 1px 3px 1px rgba(60, 64, 67, 0.15);\n",
              "      fill: #174EA6;\n",
              "    }\n",
              "\n",
              "    [theme=dark] .colab-df-convert {\n",
              "      background-color: #3B4455;\n",
              "      fill: #D2E3FC;\n",
              "    }\n",
              "\n",
              "    [theme=dark] .colab-df-convert:hover {\n",
              "      background-color: #434B5C;\n",
              "      box-shadow: 0px 1px 3px 1px rgba(0, 0, 0, 0.15);\n",
              "      filter: drop-shadow(0px 1px 2px rgba(0, 0, 0, 0.3));\n",
              "      fill: #FFFFFF;\n",
              "    }\n",
              "  </style>\n",
              "\n",
              "      <script>\n",
              "        const buttonEl =\n",
              "          document.querySelector('#df-f1715cbf-702e-4e75-8e94-a3b097772654 button.colab-df-convert');\n",
              "        buttonEl.style.display =\n",
              "          google.colab.kernel.accessAllowed ? 'block' : 'none';\n",
              "\n",
              "        async function convertToInteractive(key) {\n",
              "          const element = document.querySelector('#df-f1715cbf-702e-4e75-8e94-a3b097772654');\n",
              "          const dataTable =\n",
              "            await google.colab.kernel.invokeFunction('convertToInteractive',\n",
              "                                                     [key], {});\n",
              "          if (!dataTable) return;\n",
              "\n",
              "          const docLinkHtml = 'Like what you see? Visit the ' +\n",
              "            '<a target=\"_blank\" href=https://colab.research.google.com/notebooks/data_table.ipynb>data table notebook</a>'\n",
              "            + ' to learn more about interactive tables.';\n",
              "          element.innerHTML = '';\n",
              "          dataTable['output_type'] = 'display_data';\n",
              "          await google.colab.output.renderOutput(dataTable, element);\n",
              "          const docLink = document.createElement('div');\n",
              "          docLink.innerHTML = docLinkHtml;\n",
              "          element.appendChild(docLink);\n",
              "        }\n",
              "      </script>\n",
              "    </div>\n",
              "  </div>\n",
              "  "
            ]
          },
          "metadata": {},
          "execution_count": 38
        }
      ]
    },
    {
      "cell_type": "code",
      "source": [
        "# Display the course(s) that has the highest enrollment.\n",
        "df_cleaned[df_cleaned['enrollment'] == df_cleaned['enrollment'].max()]['course_category']"
      ],
      "metadata": {
        "colab": {
          "base_uri": "https://localhost:8080/"
        },
        "id": "OkKiyViqNYHN",
        "outputId": "d19b28ea-6069-4955-9f5a-c5999c529531"
      },
      "execution_count": 39,
      "outputs": [
        {
          "output_type": "execute_result",
          "data": {
            "text/plain": [
              "764    development\n",
              "Name: course_category, dtype: object"
            ]
          },
          "metadata": {},
          "execution_count": 39
        }
      ]
    },
    {
      "cell_type": "code",
      "source": [
        "# Display the course(s) that has the minimum enrollment.\n",
        "df_cleaned[df_cleaned['enrollment'] == df_cleaned['enrollment'].min()]['course_category']"
      ],
      "metadata": {
        "colab": {
          "base_uri": "https://localhost:8080/"
        },
        "id": "RQsVNfTQN8zX",
        "outputId": "f25f2749-bab3-4efa-82a7-59320ce8d88c"
      },
      "execution_count": 40,
      "outputs": [
        {
          "output_type": "execute_result",
          "data": {
            "text/plain": [
              "1781    business_&_education\n",
              "Name: course_category, dtype: object"
            ]
          },
          "metadata": {},
          "execution_count": 40
        }
      ]
    },
    {
      "cell_type": "code",
      "source": [
        "# Display the courses whose enrollment is higher than its 99% percentile.\n",
        "df_cleaned[df_cleaned['enrollment'] > df_stats.loc['99%']['enrollment']]['course_category']"
      ],
      "metadata": {
        "colab": {
          "base_uri": "https://localhost:8080/"
        },
        "id": "H9Ri8pw4OtGY",
        "outputId": "3d5747c0-23ba-4c6d-ccce-53fd62b2becc"
      },
      "execution_count": 41,
      "outputs": [
        {
          "output_type": "execute_result",
          "data": {
            "text/plain": [
              "3                development\n",
              "147                   design\n",
              "172              development\n",
              "236                   design\n",
              "335     business_&_education\n",
              "452              development\n",
              "514              development\n",
              "713              development\n",
              "764              development\n",
              "801              development\n",
              "810              development\n",
              "877     business_&_education\n",
              "984              development\n",
              "1012             development\n",
              "1204             development\n",
              "1249             development\n",
              "1345    business_&_education\n",
              "1360             development\n",
              "1531             it_software\n",
              "1825                  design\n",
              "Name: course_category, dtype: object"
            ]
          },
          "metadata": {},
          "execution_count": 41
        }
      ]
    },
    {
      "cell_type": "code",
      "source": [
        "# Display the courses whose average ratings is higher than its 99% percentile.\n",
        "df_cleaned[df_cleaned['avg_rating'] > df_stats.loc['99%']['avg_rating']]['course_category']"
      ],
      "metadata": {
        "colab": {
          "base_uri": "https://localhost:8080/"
        },
        "id": "eKX7_w-RVh7_",
        "outputId": "c6e85c03-fa7f-47d7-bea6-10d5e25d929d"
      },
      "execution_count": 42,
      "outputs": [
        {
          "output_type": "execute_result",
          "data": {
            "text/plain": [
              "90         development\n",
              "272        development\n",
              "429     personal_hobby\n",
              "564             design\n",
              "1124       development\n",
              "1368    personal_hobby\n",
              "1700       development\n",
              "1716            design\n",
              "Name: course_category, dtype: object"
            ]
          },
          "metadata": {},
          "execution_count": 42
        }
      ]
    },
    {
      "cell_type": "code",
      "source": [
        "# Display the courses whose average ratings is lower than its 1% percentile.\n",
        "df_cleaned[df_cleaned['avg_rating'] < df_stats.loc['1%']['avg_rating']]['course_category']"
      ],
      "metadata": {
        "colab": {
          "base_uri": "https://localhost:8080/"
        },
        "id": "uT_lgoyhWN76",
        "outputId": "0da6f10a-ebed-4520-8030-85b450794933"
      },
      "execution_count": 43,
      "outputs": [
        {
          "output_type": "execute_result",
          "data": {
            "text/plain": [
              "5       business_&_education\n",
              "255              it_software\n",
              "286              it_software\n",
              "444     business_&_education\n",
              "823              it_software\n",
              "931              it_software\n",
              "1015             it_software\n",
              "1093             it_software\n",
              "1336             development\n",
              "1357    business_&_education\n",
              "1475             it_software\n",
              "1537    business_&_education\n",
              "1650             it_software\n",
              "1765             it_software\n",
              "1889             it_software\n",
              "1892             it_software\n",
              "Name: course_category, dtype: object"
            ]
          },
          "metadata": {},
          "execution_count": 43
        }
      ]
    },
    {
      "cell_type": "code",
      "source": [
        "# Find out the correlation among features.\n",
        "df_cleaned.corr()['enrollment'].sort_values(ascending=False)[1:]"
      ],
      "metadata": {
        "colab": {
          "base_uri": "https://localhost:8080/"
        },
        "id": "jdkem2ynWcm-",
        "outputId": "e0b34fee-d36f-4185-8f15-dcab7a603520"
      },
      "execution_count": 44,
      "outputs": [
        {
          "output_type": "execute_result",
          "data": {
            "text/plain": [
              "number_ratings    0.904692\n",
              "inst_student      0.442934\n",
              "inst_review       0.428507\n",
              "avg_rating        0.154967\n",
              "inst_rating       0.153504\n",
              "lectures          0.068442\n",
              "duration          0.064346\n",
              "last_updated      0.036358\n",
              "discount          0.020685\n",
              "inst_course       0.006769\n",
              "price            -0.016080\n",
              "index            -0.031603\n",
              "Name: enrollment, dtype: float64"
            ]
          },
          "metadata": {},
          "execution_count": 44
        }
      ]
    },
    {
      "cell_type": "code",
      "source": [
        "# Create a histogram plot of the enrollment.\n",
        "sns.displot(df_cleaned['enrollment'], bins=100)"
      ],
      "metadata": {
        "colab": {
          "base_uri": "https://localhost:8080/",
          "height": 386
        },
        "id": "igt_QMa_WkxZ",
        "outputId": "5be4b2a6-51e5-4ada-d1c4-20fc3aebac8e"
      },
      "execution_count": 45,
      "outputs": [
        {
          "output_type": "execute_result",
          "data": {
            "text/plain": [
              "<seaborn.axisgrid.FacetGrid at 0x7f808c039fa0>"
            ]
          },
          "metadata": {},
          "execution_count": 45
        },
        {
          "output_type": "display_data",
          "data": {
            "text/plain": [
              "<Figure size 360x360 with 1 Axes>"
            ],
            "image/png": "[encoded data removed]"
          },
          "metadata": {
            "needs_background": "light"
          }
        }
      ]
    },
    {
      "cell_type": "code",
      "source": [
        "# Drop the data where the enrollment is greater than 10000,\n",
        "df_cleaned.drop(df[df_cleaned['enrollment']>20000].index, inplace=True)"
      ],
      "metadata": {
        "id": "qkOfMcIsXOgE"
      },
      "execution_count": 46,
      "outputs": []
    },
    {
      "cell_type": "code",
      "source": [
        "len(df_cleaned)"
      ],
      "metadata": {
        "colab": {
          "base_uri": "https://localhost:8080/"
        },
        "id": "Dgk1SIWzYIdv",
        "outputId": "e901f1e5-2a83-41f2-f997-10685aa71863"
      },
      "execution_count": 47,
      "outputs": [
        {
          "output_type": "execute_result",
          "data": {
            "text/plain": [
              "1429"
            ]
          },
          "metadata": {},
          "execution_count": 47
        }
      ]
    },
    {
      "cell_type": "code",
      "source": [
        "# Create pair plot with other features.\n",
        "sns.scatterplot(data=df_cleaned, x='enrollment', y='number_ratings')"
      ],
      "metadata": {
        "colab": {
          "base_uri": "https://localhost:8080/",
          "height": 296
        },
        "id": "IHpc8MgUaDKF",
        "outputId": "f2c43d23-da85-49af-bbaf-46213023e86d"
      },
      "execution_count": 48,
      "outputs": [
        {
          "output_type": "execute_result",
          "data": {
            "text/plain": [
              "<matplotlib.axes._subplots.AxesSubplot at 0x7f808967ee20>"
            ]
          },
          "metadata": {},
          "execution_count": 48
        },
        {
          "output_type": "display_data",
          "data": {
            "text/plain": [
              "<Figure size 432x288 with 1 Axes>"
            ],
            "image/png": "[encoded data removed]"
          },
          "metadata": {
            "needs_background": "light"
          }
        }
      ]
    },
    {
      "cell_type": "code",
      "source": [
        "sns.scatterplot(data=df_cleaned, x='enrollment', y='inst_student')  "
      ],
      "metadata": {
        "colab": {
          "base_uri": "https://localhost:8080/",
          "height": 307
        },
        "id": "pn2Fxm0CbGJg",
        "outputId": "6b64f0eb-4a1d-4e56-a314-a209b99bab54"
      },
      "execution_count": 49,
      "outputs": [
        {
          "output_type": "execute_result",
          "data": {
            "text/plain": [
              "<matplotlib.axes._subplots.AxesSubplot at 0x7f808916c5e0>"
            ]
          },
          "metadata": {},
          "execution_count": 49
        },
        {
          "output_type": "display_data",
          "data": {
            "text/plain": [
              "<Figure size 432x288 with 1 Axes>"
            ],
            "image/png": "[encoded data removed]"
          },
          "metadata": {
            "needs_background": "light"
          }
        }
      ]
    },
    {
      "cell_type": "code",
      "source": [
        "sns.scatterplot(data=df_cleaned, x='enrollment', y='inst_review')  "
      ],
      "metadata": {
        "colab": {
          "base_uri": "https://localhost:8080/",
          "height": 296
        },
        "id": "yl9-jqlOcFlI",
        "outputId": "22352238-8875-4007-cf17-7a35de7df160"
      },
      "execution_count": 50,
      "outputs": [
        {
          "output_type": "execute_result",
          "data": {
            "text/plain": [
              "<matplotlib.axes._subplots.AxesSubplot at 0x7f80890b8f10>"
            ]
          },
          "metadata": {},
          "execution_count": 50
        },
        {
          "output_type": "display_data",
          "data": {
            "text/plain": [
              "<Figure size 432x288 with 1 Axes>"
            ],
            "image/png": "[encoded data removed]"
          },
          "metadata": {
            "needs_background": "light"
          }
        }
      ]
    },
    {
      "cell_type": "code",
      "source": [
        "# Create count plots for the different categories of courses in the dataset.\n",
        "sns.countplot(df_cleaned['course_category'])"
      ],
      "metadata": {
        "colab": {
          "base_uri": "https://localhost:8080/",
          "height": 353
        },
        "id": "Z6Q2ZGz3fMim",
        "outputId": "f0e4a66b-5ae7-4a2e-8d6e-0d44cf64c1f6"
      },
      "execution_count": 51,
      "outputs": [
        {
          "output_type": "stream",
          "name": "stderr",
          "text": [
            "/usr/local/lib/python3.8/dist-packages/seaborn/_decorators.py:36: FutureWarning: Pass the following variable as a keyword arg: x. From version 0.12, the only valid positional argument will be `data`, and passing other arguments without an explicit keyword will result in an error or misinterpretation.\n",
            "  warnings.warn(\n"
          ]
        },
        {
          "output_type": "execute_result",
          "data": {
            "text/plain": [
              "<matplotlib.axes._subplots.AxesSubplot at 0x7f808909d1c0>"
            ]
          },
          "metadata": {},
          "execution_count": 51
        },
        {
          "output_type": "display_data",
          "data": {
            "text/plain": [
              "<Figure size 432x288 with 1 Axes>"
            ],
            "image/png": "[encoded data removed]"
          },
          "metadata": {
            "needs_background": "light"
          }
        }
      ]
    },
    {
      "cell_type": "code",
      "source": [
        "df_stats_new = df_cleaned.describe()"
      ],
      "metadata": {
        "id": "eF941jqLgHVN"
      },
      "execution_count": 52,
      "outputs": []
    },
    {
      "cell_type": "code",
      "source": [
        "# Create count plots for the different categories of courses whose enrollment is higher than 75% percentile.\n",
        "sns.countplot(df_cleaned[df_cleaned['enrollment'] > df_stats_new.loc['75%']['enrollment']]['course_category'])"
      ],
      "metadata": {
        "colab": {
          "base_uri": "https://localhost:8080/",
          "height": 353
        },
        "id": "vAorejHvfjMG",
        "outputId": "fcd31a64-109c-4bd7-e9e5-0cb1bd7996d7"
      },
      "execution_count": 53,
      "outputs": [
        {
          "output_type": "stream",
          "name": "stderr",
          "text": [
            "/usr/local/lib/python3.8/dist-packages/seaborn/_decorators.py:36: FutureWarning: Pass the following variable as a keyword arg: x. From version 0.12, the only valid positional argument will be `data`, and passing other arguments without an explicit keyword will result in an error or misinterpretation.\n",
            "  warnings.warn(\n"
          ]
        },
        {
          "output_type": "execute_result",
          "data": {
            "text/plain": [
              "<matplotlib.axes._subplots.AxesSubplot at 0x7f8088ffa7f0>"
            ]
          },
          "metadata": {},
          "execution_count": 53
        },
        {
          "output_type": "display_data",
          "data": {
            "text/plain": [
              "<Figure size 432x288 with 1 Axes>"
            ],
            "image/png": "[encoded data removed]"
          },
          "metadata": {
            "needs_background": "light"
          }
        }
      ]
    },
    {
      "cell_type": "code",
      "source": [
        "# Create count plots for the different categories of courses whose average ratings is lower than 25% percentile.\n",
        "sns.countplot(df_cleaned[df_cleaned['avg_rating'] < df_stats_new.loc['25%']['avg_rating']]['course_category'])"
      ],
      "metadata": {
        "colab": {
          "base_uri": "https://localhost:8080/",
          "height": 353
        },
        "id": "YamRIwspgvrN",
        "outputId": "f8a4175d-276a-4858-f71d-77a0971df249"
      },
      "execution_count": 54,
      "outputs": [
        {
          "output_type": "stream",
          "name": "stderr",
          "text": [
            "/usr/local/lib/python3.8/dist-packages/seaborn/_decorators.py:36: FutureWarning: Pass the following variable as a keyword arg: x. From version 0.12, the only valid positional argument will be `data`, and passing other arguments without an explicit keyword will result in an error or misinterpretation.\n",
            "  warnings.warn(\n"
          ]
        },
        {
          "output_type": "execute_result",
          "data": {
            "text/plain": [
              "<matplotlib.axes._subplots.AxesSubplot at 0x7f8088fb5370>"
            ]
          },
          "metadata": {},
          "execution_count": 54
        },
        {
          "output_type": "display_data",
          "data": {
            "text/plain": [
              "<Figure size 432x288 with 1 Axes>"
            ],
            "image/png": "[encoded data removed]"
          },
          "metadata": {
            "needs_background": "light"
          }
        }
      ]
    },
    {
      "cell_type": "code",
      "source": [
        "# Plot the correlation heatmap.\n",
        "plt.figure(figsize=(12,5))\n",
        "sns.heatmap(df_cleaned.corr(), annot=True)"
      ],
      "metadata": {
        "colab": {
          "base_uri": "https://localhost:8080/",
          "height": 410
        },
        "id": "psfsuKk3jZm2",
        "outputId": "05549371-1bb0-4bae-e4e7-016908c80827"
      },
      "execution_count": 55,
      "outputs": [
        {
          "output_type": "execute_result",
          "data": {
            "text/plain": [
              "<matplotlib.axes._subplots.AxesSubplot at 0x7f8089174f10>"
            ]
          },
          "metadata": {},
          "execution_count": 55
        },
        {
          "output_type": "display_data",
          "data": {
            "text/plain": [
              "<Figure size 864x360 with 2 Axes>"
            ],
            "image/png": "[encoded data removed]"
          },
          "metadata": {
            "needs_background": "light"
          }
        }
      ]
    },
    {
      "cell_type": "code",
      "source": [
        "# Transform course category into dummy values.\n",
        "course_dummy = pd.get_dummies(df_cleaned['course_category'], drop_first=True, prefix='cat')\n",
        "df_cleaned = pd.concat([df_cleaned, course_dummy], axis=1)"
      ],
      "metadata": {
        "id": "9qc6jylsjlnN"
      },
      "execution_count": 56,
      "outputs": []
    },
    {
      "cell_type": "code",
      "source": [
        "df_cleaned.head()"
      ],
      "metadata": {
        "colab": {
          "base_uri": "https://localhost:8080/",
          "height": 270
        },
        "id": "Euooa-RMnHKB",
        "outputId": "327df1f0-df41-4615-96a2-4f178c0bb7b5"
      },
      "execution_count": 57,
      "outputs": [
        {
          "output_type": "execute_result",
          "data": {
            "text/plain": [
              "   index       course_category  avg_rating  number_ratings  enrollment  \\\n",
              "4      4  business_&_education         4.5          2826.0     14269.0   \n",
              "5      5  business_&_education         3.3           320.0      2088.0   \n",
              "6      6  business_&_education         4.4           991.0      3563.0   \n",
              "8      8           it_software         4.7           556.0      2263.0   \n",
              "9      9           development         4.3          2060.0     10927.0   \n",
              "\n",
              "   last_updated  lectures   duration  price  discount  inst_rating  \\\n",
              "4         20.10      41.0   7.133333  19.99        88          4.5   \n",
              "5         17.02      72.0   4.133333  16.99        90          3.3   \n",
              "6         20.08      91.0   5.233333  28.99        77          4.4   \n",
              "8         20.10      70.0   4.966667  16.99        88          4.6   \n",
              "9         20.07     477.0  51.983333  20.99        87          4.5   \n",
              "\n",
              "   inst_review  inst_student  inst_course  cat_design  cat_development  \\\n",
              "4      11922.0       53659.0         10.0           0                0   \n",
              "5        320.0        4012.0          3.0           0                0   \n",
              "6       2193.0        7422.0          6.0           0                0   \n",
              "8      74745.0      517994.0         42.0           0                0   \n",
              "9     288507.0      988948.0         50.0           0                1   \n",
              "\n",
              "   cat_it_software  cat_personal_hobby  \n",
              "4                0                   0  \n",
              "5                0                   0  \n",
              "6                0                   0  \n",
              "8                1                   0  \n",
              "9                0                   0  "
            ],
            "text/html": [
              "\n",
              "  <div id=\"df-97b22f0c-8fb4-42db-a579-c985285ee6b1\">\n",
              "    <div class=\"colab-df-container\">\n",
              "      <div>\n",
              "<style scoped>\n",
              "    .dataframe tbody tr th:only-of-type {\n",
              "        vertical-align: middle;\n",
              "    }\n",
              "\n",
              "    .dataframe tbody tr th {\n",
              "        vertical-align: top;\n",
              "    }\n",
              "\n",
              "    .dataframe thead th {\n",
              "        text-align: right;\n",
              "    }\n",
              "</style>\n",
              "<table border=\"1\" class=\"dataframe\">\n",
              "  <thead>\n",
              "    <tr style=\"text-align: right;\">\n",
              "      <th></th>\n",
              "      <th>index</th>\n",
              "      <th>course_category</th>\n",
              "      <th>avg_rating</th>\n",
              "      <th>number_ratings</th>\n",
              "      <th>enrollment</th>\n",
              "      <th>last_updated</th>\n",
              "      <th>lectures</th>\n",
              "      <th>duration</th>\n",
              "      <th>price</th>\n",
              "      <th>discount</th>\n",
              "      <th>inst_rating</th>\n",
              "      <th>inst_review</th>\n",
              "      <th>inst_student</th>\n",
              "      <th>inst_course</th>\n",
              "      <th>cat_design</th>\n",
              "      <th>cat_development</th>\n",
              "      <th>cat_it_software</th>\n",
              "      <th>cat_personal_hobby</th>\n",
              "    </tr>\n",
              "  </thead>\n",
              "  <tbody>\n",
              "    <tr>\n",
              "      <th>4</th>\n",
              "      <td>4</td>\n",
              "      <td>business_&amp;_education</td>\n",
              "      <td>4.5</td>\n",
              "      <td>2826.0</td>\n",
              "      <td>14269.0</td>\n",
              "      <td>20.10</td>\n",
              "      <td>41.0</td>\n",
              "      <td>7.133333</td>\n",
              "      <td>19.99</td>\n",
              "      <td>88</td>\n",
              "      <td>4.5</td>\n",
              "      <td>11922.0</td>\n",
              "      <td>53659.0</td>\n",
              "      <td>10.0</td>\n",
              "      <td>0</td>\n",
              "      <td>0</td>\n",
              "      <td>0</td>\n",
              "      <td>0</td>\n",
              "    </tr>\n",
              "    <tr>\n",
              "      <th>5</th>\n",
              "      <td>5</td>\n",
              "      <td>business_&amp;_education</td>\n",
              "      <td>3.3</td>\n",
              "      <td>320.0</td>\n",
              "      <td>2088.0</td>\n",
              "      <td>17.02</td>\n",
              "      <td>72.0</td>\n",
              "      <td>4.133333</td>\n",
              "      <td>16.99</td>\n",
              "      <td>90</td>\n",
              "      <td>3.3</td>\n",
              "      <td>320.0</td>\n",
              "      <td>4012.0</td>\n",
              "      <td>3.0</td>\n",
              "      <td>0</td>\n",
              "      <td>0</td>\n",
              "      <td>0</td>\n",
              "      <td>0</td>\n",
              "    </tr>\n",
              "    <tr>\n",
              "      <th>6</th>\n",
              "      <td>6</td>\n",
              "      <td>business_&amp;_education</td>\n",
              "      <td>4.4</td>\n",
              "      <td>991.0</td>\n",
              "      <td>3563.0</td>\n",
              "      <td>20.08</td>\n",
              "      <td>91.0</td>\n",
              "      <td>5.233333</td>\n",
              "      <td>28.99</td>\n",
              "      <td>77</td>\n",
              "      <td>4.4</td>\n",
              "      <td>2193.0</td>\n",
              "      <td>7422.0</td>\n",
              "      <td>6.0</td>\n",
              "      <td>0</td>\n",
              "      <td>0</td>\n",
              "      <td>0</td>\n",
              "      <td>0</td>\n",
              "    </tr>\n",
              "    <tr>\n",
              "      <th>8</th>\n",
              "      <td>8</td>\n",
              "      <td>it_software</td>\n",
              "      <td>4.7</td>\n",
              "      <td>556.0</td>\n",
              "      <td>2263.0</td>\n",
              "      <td>20.10</td>\n",
              "      <td>70.0</td>\n",
              "      <td>4.966667</td>\n",
              "      <td>16.99</td>\n",
              "      <td>88</td>\n",
              "      <td>4.6</td>\n",
              "      <td>74745.0</td>\n",
              "      <td>517994.0</td>\n",
              "      <td>42.0</td>\n",
              "      <td>0</td>\n",
              "      <td>0</td>\n",
              "      <td>1</td>\n",
              "      <td>0</td>\n",
              "    </tr>\n",
              "    <tr>\n",
              "      <th>9</th>\n",
              "      <td>9</td>\n",
              "      <td>development</td>\n",
              "      <td>4.3</td>\n",
              "      <td>2060.0</td>\n",
              "      <td>10927.0</td>\n",
              "      <td>20.07</td>\n",
              "      <td>477.0</td>\n",
              "      <td>51.983333</td>\n",
              "      <td>20.99</td>\n",
              "      <td>87</td>\n",
              "      <td>4.5</td>\n",
              "      <td>288507.0</td>\n",
              "      <td>988948.0</td>\n",
              "      <td>50.0</td>\n",
              "      <td>0</td>\n",
              "      <td>1</td>\n",
              "      <td>0</td>\n",
              "      <td>0</td>\n",
              "    </tr>\n",
              "  </tbody>\n",
              "</table>\n",
              "</div>\n",
              "      <button class=\"colab-df-convert\" onclick=\"convertToInteractive('df-97b22f0c-8fb4-42db-a579-c985285ee6b1')\"\n",
              "              title=\"Convert this dataframe to an interactive table.\"\n",
              "              style=\"display:none;\">\n",
              "        \n",
              "  <svg xmlns=\"http://www.w3.org/2000/svg\" height=\"24px\"viewBox=\"0 0 24 24\"\n",
              "       width=\"24px\">\n",
              "    <path d=\"M0 0h24v24H0V0z\" fill=\"none\"/>\n",
              "    <path d=\"M18.56 5.44l.94 2.06.94-2.06 2.06-.94-2.06-.94-.94-2.06-.94 2.06-2.06.94zm-11 1L8.5 8.5l.94-2.06 2.06-.94-2.06-.94L8.5 2.5l-.94 2.06-2.06.94zm10 10l.94 2.06.94-2.06 2.06-.94-2.06-.94-.94-2.06-.94 2.06-2.06.94z\"/><path d=\"M17.41 7.96l-1.37-1.37c-.4-.4-.92-.59-1.43-.59-.52 0-1.04.2-1.43.59L10.3 9.45l-7.72 7.72c-.78.78-.78 2.05 0 2.83L4 21.41c.39.39.9.59 1.41.59.51 0 1.02-.2 1.41-.59l7.78-7.78 2.81-2.81c.8-.78.8-2.07 0-2.86zM5.41 20L4 18.59l7.72-7.72 1.47 1.35L5.41 20z\"/>\n",
              "  </svg>\n",
              "      </button>\n",
              "      \n",
              "  <style>\n",
              "    .colab-df-container {\n",
              "      display:flex;\n",
              "      flex-wrap:wrap;\n",
              "      gap: 12px;\n",
              "    }\n",
              "\n",
              "    .colab-df-convert {\n",
              "      background-color: #E8F0FE;\n",
              "      border: none;\n",
              "      border-radius: 50%;\n",
              "      cursor: pointer;\n",
              "      display: none;\n",
              "      fill: #1967D2;\n",
              "      height: 32px;\n",
              "      padding: 0 0 0 0;\n",
              "      width: 32px;\n",
              "    }\n",
              "\n",
              "    .colab-df-convert:hover {\n",
              "      background-color: #E2EBFA;\n",
              "      box-shadow: 0px 1px 2px rgba(60, 64, 67, 0.3), 0px 1px 3px 1px rgba(60, 64, 67, 0.15);\n",
              "      fill: #174EA6;\n",
              "    }\n",
              "\n",
              "    [theme=dark] .colab-df-convert {\n",
              "      background-color: #3B4455;\n",
              "      fill: #D2E3FC;\n",
              "    }\n",
              "\n",
              "    [theme=dark] .colab-df-convert:hover {\n",
              "      background-color: #434B5C;\n",
              "      box-shadow: 0px 1px 3px 1px rgba(0, 0, 0, 0.15);\n",
              "      filter: drop-shadow(0px 1px 2px rgba(0, 0, 0, 0.3));\n",
              "      fill: #FFFFFF;\n",
              "    }\n",
              "  </style>\n",
              "\n",
              "      <script>\n",
              "        const buttonEl =\n",
              "          document.querySelector('#df-97b22f0c-8fb4-42db-a579-c985285ee6b1 button.colab-df-convert');\n",
              "        buttonEl.style.display =\n",
              "          google.colab.kernel.accessAllowed ? 'block' : 'none';\n",
              "\n",
              "        async function convertToInteractive(key) {\n",
              "          const element = document.querySelector('#df-97b22f0c-8fb4-42db-a579-c985285ee6b1');\n",
              "          const dataTable =\n",
              "            await google.colab.kernel.invokeFunction('convertToInteractive',\n",
              "                                                     [key], {});\n",
              "          if (!dataTable) return;\n",
              "\n",
              "          const docLinkHtml = 'Like what you see? Visit the ' +\n",
              "            '<a target=\"_blank\" href=https://colab.research.google.com/notebooks/data_table.ipynb>data table notebook</a>'\n",
              "            + ' to learn more about interactive tables.';\n",
              "          element.innerHTML = '';\n",
              "          dataTable['output_type'] = 'display_data';\n",
              "          await google.colab.output.renderOutput(dataTable, element);\n",
              "          const docLink = document.createElement('div');\n",
              "          docLink.innerHTML = docLinkHtml;\n",
              "          element.appendChild(docLink);\n",
              "        }\n",
              "      </script>\n",
              "    </div>\n",
              "  </div>\n",
              "  "
            ]
          },
          "metadata": {},
          "execution_count": 57
        }
      ]
    },
    {
      "cell_type": "code",
      "source": [
        "df_cleaned.drop(['index', 'course_category'], axis=1, inplace=True)"
      ],
      "metadata": {
        "id": "8fi-R93jnKnb"
      },
      "execution_count": 58,
      "outputs": []
    },
    {
      "cell_type": "code",
      "source": [
        "df_cleaned.head()"
      ],
      "metadata": {
        "colab": {
          "base_uri": "https://localhost:8080/",
          "height": 270
        },
        "id": "CZ03yGfKkwXd",
        "outputId": "55139625-37a7-43d1-c70a-b473c2c60f20"
      },
      "execution_count": 59,
      "outputs": [
        {
          "output_type": "execute_result",
          "data": {
            "text/plain": [
              "   avg_rating  number_ratings  enrollment  last_updated  lectures   duration  \\\n",
              "4         4.5          2826.0     14269.0         20.10      41.0   7.133333   \n",
              "5         3.3           320.0      2088.0         17.02      72.0   4.133333   \n",
              "6         4.4           991.0      3563.0         20.08      91.0   5.233333   \n",
              "8         4.7           556.0      2263.0         20.10      70.0   4.966667   \n",
              "9         4.3          2060.0     10927.0         20.07     477.0  51.983333   \n",
              "\n",
              "   price  discount  inst_rating  inst_review  inst_student  inst_course  \\\n",
              "4  19.99        88          4.5      11922.0       53659.0         10.0   \n",
              "5  16.99        90          3.3        320.0        4012.0          3.0   \n",
              "6  28.99        77          4.4       2193.0        7422.0          6.0   \n",
              "8  16.99        88          4.6      74745.0      517994.0         42.0   \n",
              "9  20.99        87          4.5     288507.0      988948.0         50.0   \n",
              "\n",
              "   cat_design  cat_development  cat_it_software  cat_personal_hobby  \n",
              "4           0                0                0                   0  \n",
              "5           0                0                0                   0  \n",
              "6           0                0                0                   0  \n",
              "8           0                0                1                   0  \n",
              "9           0                1                0                   0  "
            ],
            "text/html": [
              "\n",
              "  <div id=\"df-0dec4d78-3231-4a60-945c-8b30aa4e9b96\">\n",
              "    <div class=\"colab-df-container\">\n",
              "      <div>\n",
              "<style scoped>\n",
              "    .dataframe tbody tr th:only-of-type {\n",
              "        vertical-align: middle;\n",
              "    }\n",
              "\n",
              "    .dataframe tbody tr th {\n",
              "        vertical-align: top;\n",
              "    }\n",
              "\n",
              "    .dataframe thead th {\n",
              "        text-align: right;\n",
              "    }\n",
              "</style>\n",
              "<table border=\"1\" class=\"dataframe\">\n",
              "  <thead>\n",
              "    <tr style=\"text-align: right;\">\n",
              "      <th></th>\n",
              "      <th>avg_rating</th>\n",
              "      <th>number_ratings</th>\n",
              "      <th>enrollment</th>\n",
              "      <th>last_updated</th>\n",
              "      <th>lectures</th>\n",
              "      <th>duration</th>\n",
              "      <th>price</th>\n",
              "      <th>discount</th>\n",
              "      <th>inst_rating</th>\n",
              "      <th>inst_review</th>\n",
              "      <th>inst_student</th>\n",
              "      <th>inst_course</th>\n",
              "      <th>cat_design</th>\n",
              "      <th>cat_development</th>\n",
              "      <th>cat_it_software</th>\n",
              "      <th>cat_personal_hobby</th>\n",
              "    </tr>\n",
              "  </thead>\n",
              "  <tbody>\n",
              "    <tr>\n",
              "      <th>4</th>\n",
              "      <td>4.5</td>\n",
              "      <td>2826.0</td>\n",
              "      <td>14269.0</td>\n",
              "      <td>20.10</td>\n",
              "      <td>41.0</td>\n",
              "      <td>7.133333</td>\n",
              "      <td>19.99</td>\n",
              "      <td>88</td>\n",
              "      <td>4.5</td>\n",
              "      <td>11922.0</td>\n",
              "      <td>53659.0</td>\n",
              "      <td>10.0</td>\n",
              "      <td>0</td>\n",
              "      <td>0</td>\n",
              "      <td>0</td>\n",
              "      <td>0</td>\n",
              "    </tr>\n",
              "    <tr>\n",
              "      <th>5</th>\n",
              "      <td>3.3</td>\n",
              "      <td>320.0</td>\n",
              "      <td>2088.0</td>\n",
              "      <td>17.02</td>\n",
              "      <td>72.0</td>\n",
              "      <td>4.133333</td>\n",
              "      <td>16.99</td>\n",
              "      <td>90</td>\n",
              "      <td>3.3</td>\n",
              "      <td>320.0</td>\n",
              "      <td>4012.0</td>\n",
              "      <td>3.0</td>\n",
              "      <td>0</td>\n",
              "      <td>0</td>\n",
              "      <td>0</td>\n",
              "      <td>0</td>\n",
              "    </tr>\n",
              "    <tr>\n",
              "      <th>6</th>\n",
              "      <td>4.4</td>\n",
              "      <td>991.0</td>\n",
              "      <td>3563.0</td>\n",
              "      <td>20.08</td>\n",
              "      <td>91.0</td>\n",
              "      <td>5.233333</td>\n",
              "      <td>28.99</td>\n",
              "      <td>77</td>\n",
              "      <td>4.4</td>\n",
              "      <td>2193.0</td>\n",
              "      <td>7422.0</td>\n",
              "      <td>6.0</td>\n",
              "      <td>0</td>\n",
              "      <td>0</td>\n",
              "      <td>0</td>\n",
              "      <td>0</td>\n",
              "    </tr>\n",
              "    <tr>\n",
              "      <th>8</th>\n",
              "      <td>4.7</td>\n",
              "      <td>556.0</td>\n",
              "      <td>2263.0</td>\n",
              "      <td>20.10</td>\n",
              "      <td>70.0</td>\n",
              "      <td>4.966667</td>\n",
              "      <td>16.99</td>\n",
              "      <td>88</td>\n",
              "      <td>4.6</td>\n",
              "      <td>74745.0</td>\n",
              "      <td>517994.0</td>\n",
              "      <td>42.0</td>\n",
              "      <td>0</td>\n",
              "      <td>0</td>\n",
              "      <td>1</td>\n",
              "      <td>0</td>\n",
              "    </tr>\n",
              "    <tr>\n",
              "      <th>9</th>\n",
              "      <td>4.3</td>\n",
              "      <td>2060.0</td>\n",
              "      <td>10927.0</td>\n",
              "      <td>20.07</td>\n",
              "      <td>477.0</td>\n",
              "      <td>51.983333</td>\n",
              "      <td>20.99</td>\n",
              "      <td>87</td>\n",
              "      <td>4.5</td>\n",
              "      <td>288507.0</td>\n",
              "      <td>988948.0</td>\n",
              "      <td>50.0</td>\n",
              "      <td>0</td>\n",
              "      <td>1</td>\n",
              "      <td>0</td>\n",
              "      <td>0</td>\n",
              "    </tr>\n",
              "  </tbody>\n",
              "</table>\n",
              "</div>\n",
              "      <button class=\"colab-df-convert\" onclick=\"convertToInteractive('df-0dec4d78-3231-4a60-945c-8b30aa4e9b96')\"\n",
              "              title=\"Convert this dataframe to an interactive table.\"\n",
              "              style=\"display:none;\">\n",
              "        \n",
              "  <svg xmlns=\"http://www.w3.org/2000/svg\" height=\"24px\"viewBox=\"0 0 24 24\"\n",
              "       width=\"24px\">\n",
              "    <path d=\"M0 0h24v24H0V0z\" fill=\"none\"/>\n",
              "    <path d=\"M18.56 5.44l.94 2.06.94-2.06 2.06-.94-2.06-.94-.94-2.06-.94 2.06-2.06.94zm-11 1L8.5 8.5l.94-2.06 2.06-.94-2.06-.94L8.5 2.5l-.94 2.06-2.06.94zm10 10l.94 2.06.94-2.06 2.06-.94-2.06-.94-.94-2.06-.94 2.06-2.06.94z\"/><path d=\"M17.41 7.96l-1.37-1.37c-.4-.4-.92-.59-1.43-.59-.52 0-1.04.2-1.43.59L10.3 9.45l-7.72 7.72c-.78.78-.78 2.05 0 2.83L4 21.41c.39.39.9.59 1.41.59.51 0 1.02-.2 1.41-.59l7.78-7.78 2.81-2.81c.8-.78.8-2.07 0-2.86zM5.41 20L4 18.59l7.72-7.72 1.47 1.35L5.41 20z\"/>\n",
              "  </svg>\n",
              "      </button>\n",
              "      \n",
              "  <style>\n",
              "    .colab-df-container {\n",
              "      display:flex;\n",
              "      flex-wrap:wrap;\n",
              "      gap: 12px;\n",
              "    }\n",
              "\n",
              "    .colab-df-convert {\n",
              "      background-color: #E8F0FE;\n",
              "      border: none;\n",
              "      border-radius: 50%;\n",
              "      cursor: pointer;\n",
              "      display: none;\n",
              "      fill: #1967D2;\n",
              "      height: 32px;\n",
              "      padding: 0 0 0 0;\n",
              "      width: 32px;\n",
              "    }\n",
              "\n",
              "    .colab-df-convert:hover {\n",
              "      background-color: #E2EBFA;\n",
              "      box-shadow: 0px 1px 2px rgba(60, 64, 67, 0.3), 0px 1px 3px 1px rgba(60, 64, 67, 0.15);\n",
              "      fill: #174EA6;\n",
              "    }\n",
              "\n",
              "    [theme=dark] .colab-df-convert {\n",
              "      background-color: #3B4455;\n",
              "      fill: #D2E3FC;\n",
              "    }\n",
              "\n",
              "    [theme=dark] .colab-df-convert:hover {\n",
              "      background-color: #434B5C;\n",
              "      box-shadow: 0px 1px 3px 1px rgba(0, 0, 0, 0.15);\n",
              "      filter: drop-shadow(0px 1px 2px rgba(0, 0, 0, 0.3));\n",
              "      fill: #FFFFFF;\n",
              "    }\n",
              "  </style>\n",
              "\n",
              "      <script>\n",
              "        const buttonEl =\n",
              "          document.querySelector('#df-0dec4d78-3231-4a60-945c-8b30aa4e9b96 button.colab-df-convert');\n",
              "        buttonEl.style.display =\n",
              "          google.colab.kernel.accessAllowed ? 'block' : 'none';\n",
              "\n",
              "        async function convertToInteractive(key) {\n",
              "          const element = document.querySelector('#df-0dec4d78-3231-4a60-945c-8b30aa4e9b96');\n",
              "          const dataTable =\n",
              "            await google.colab.kernel.invokeFunction('convertToInteractive',\n",
              "                                                     [key], {});\n",
              "          if (!dataTable) return;\n",
              "\n",
              "          const docLinkHtml = 'Like what you see? Visit the ' +\n",
              "            '<a target=\"_blank\" href=https://colab.research.google.com/notebooks/data_table.ipynb>data table notebook</a>'\n",
              "            + ' to learn more about interactive tables.';\n",
              "          element.innerHTML = '';\n",
              "          dataTable['output_type'] = 'display_data';\n",
              "          await google.colab.output.renderOutput(dataTable, element);\n",
              "          const docLink = document.createElement('div');\n",
              "          docLink.innerHTML = docLinkHtml;\n",
              "          element.appendChild(docLink);\n",
              "        }\n",
              "      </script>\n",
              "    </div>\n",
              "  </div>\n",
              "  "
            ]
          },
          "metadata": {},
          "execution_count": 59
        }
      ]
    },
    {
      "cell_type": "code",
      "source": [
        "df_cleaned.to_csv('/content/drive/MyDrive/Colab Notebooks/Lab1/course_data_prepared.csv',index=False)"
      ],
      "metadata": {
        "id": "HvKkKkxulzLQ"
      },
      "execution_count": 60,
      "outputs": []
    },
    {
      "cell_type": "code",
      "source": [],
      "metadata": {
        "id": "hsgS419OoIjj"
      },
      "execution_count": null,
      "outputs": []
    }
  ]
}