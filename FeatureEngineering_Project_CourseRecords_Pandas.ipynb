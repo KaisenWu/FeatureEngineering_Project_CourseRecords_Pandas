{
  "nbformat": 4,
  "nbformat_minor": 0,
  "metadata": {
    "colab": {
      "provenance": [],
      "mount_file_id": "1XClfxupwxIv7tkoCgz9pkaoUWPFVdAQl",
      "authorship_tag": "ABX9TyN2cGgICZr+JQzeY/xDQxMp",
      "include_colab_link": true
    },
    "kernelspec": {
      "name": "python3",
      "display_name": "Python 3"
    },
    "language_info": {
      "name": "python"
    }
  },
  "cells": [
    {
      "cell_type": "markdown",
      "metadata": {
        "id": "view-in-github",
        "colab_type": "text"
      },
      "source": [
        "<a href=\"https://colab.research.google.com/github/KaisenWu/FeatureEngineering_Project_CourseRecords_Pandas/blob/main/FeatureEngineering_Project_CourseRecords_Pandas.ipynb\" target=\"_parent\"><img src=\"https://colab.research.google.com/assets/colab-badge.svg\" alt=\"Open In Colab\"/></a>"
      ]
    },
    {
      "cell_type": "markdown",
      "source": [
        "# <center>Feature Engineering Project by Pandas</center>"
      ],
      "metadata": {
        "id": "zktQbkRFynbS"
      }
    },
    {
      "cell_type": "markdown",
      "source": [
        "## Project Overview\n",
        "The purpose of this project is to clean and engineering the data by pandas and numpy.\n",
        "The main techs includes:\n",
        "\n",
        "\n",
        "1.   Missing value processing.\n",
        "2.   String processing.\n",
        "3.   Data type parsing.\n",
        "4.   Column name processing."
      ],
      "metadata": {
        "id": "u6nJh6s4y3E5"
      }
    },
    {
      "cell_type": "markdown",
      "source": [
        "## About The Dataset\n",
        "This dataset concludes ths records of the courses.\n"
      ],
      "metadata": {
        "id": "Anv1u0sMz5jQ"
      }
    },
    {
      "cell_type": "markdown",
      "source": [
        "## Data Processing"
      ],
      "metadata": {
        "id": "fA8ftxlN0hfo"
      }
    },
    {
      "cell_type": "code",
      "execution_count": null,
      "metadata": {
        "id": "qm7fp7BYGrCI"
      },
      "outputs": [],
      "source": [
        "# Import the libraries.\n",
        "import pandas as pd\n",
        "import numpy as np\n",
        "import seaborn as sns\n",
        "import matplotlib.pyplot as plt\n",
        "%matplotlib inline"
      ]
    },
    {
      "cell_type": "code",
      "source": [
        "# Load the dataset.\n",
        "df = pd.read_csv('/content/drive/MyDrive/Colab Notebooks/Lab1 Data/course_data_uncleaned.csv')"
      ],
      "metadata": {
        "id": "cSfzVwTpHE8D"
      },
      "execution_count": null,
      "outputs": []
    },
    {
      "cell_type": "code",
      "source": [
        "# Check the dataframe head.\n",
        "df.head().transpose()"
      ],
      "metadata": {
        "colab": {
          "base_uri": "https://localhost:8080/",
          "height": 647
        },
        "id": "5jtNKiY4HMQV",
        "outputId": "4f02cc25-d828-42cd-e108-df3823d26942"
      },
      "execution_count": null,
      "outputs": [
        {
          "output_type": "execute_result",
          "data": {
            "text/plain": [
              "                                                                     0  \\\n",
              "course name          Algorithmic Trading & Quantitative Analysis Us...   \n",
              "course category                                                 design   \n",
              "course sub category                                        Game Design   \n",
              "avg rating                                                         4.2   \n",
              "number ratings                                                  6340.0   \n",
              "enrollment                                                     54930.0   \n",
              "last updated                                                    8/2020   \n",
              "lectures                                                         162.0   \n",
              "duration                                                       19h 23m   \n",
              "price2                                                        CA$23.99   \n",
              "price                                                              NaN   \n",
              "discount                                                           90%   \n",
              "inst rating                                                        4.2   \n",
              "inst review                                                    13453.0   \n",
              "inst student                                                  179306.0   \n",
              "inst course                                                       12.0   \n",
              "\n",
              "                                                                     1  \\\n",
              "course name          ISO/IEC 27001. Information Security Management...   \n",
              "course category                                               business   \n",
              "course sub category                                   Data & Analytics   \n",
              "avg rating                                                         4.6   \n",
              "number ratings                                                  9281.0   \n",
              "enrollment                                                     48338.0   \n",
              "last updated                                                    3/2018   \n",
              "lectures                                                          37.0   \n",
              "duration                                                        3h 54m   \n",
              "price2                                                        CA$16.99   \n",
              "price                                                              NaN   \n",
              "discount                                                           56%   \n",
              "inst rating                                                        4.5   \n",
              "inst review                                                   246008.0   \n",
              "inst student                                                 1145810.0   \n",
              "inst course                                                       81.0   \n",
              "\n",
              "                                                            2  \\\n",
              "course name          Procedural Terrain Generation with Unity   \n",
              "course category                                   development   \n",
              "course sub category                     Programming Languages   \n",
              "avg rating                                                4.6   \n",
              "number ratings                                         6833.0   \n",
              "enrollment                                            21218.0   \n",
              "last updated                                          10/2020   \n",
              "lectures                                                 53.0   \n",
              "duration                                               5h 14m   \n",
              "price2                                               CA$23.99   \n",
              "price                                                     NaN   \n",
              "discount                                                  91%   \n",
              "inst rating                                               4.6   \n",
              "inst review                                           19993.0   \n",
              "inst student                                          55621.0   \n",
              "inst course                                               3.0   \n",
              "\n",
              "                                                                     3  \\\n",
              "course name          Jenkins 2 Bootcamp: Fully Automate Builds to D...   \n",
              "course category                                            development   \n",
              "course sub category                              Programming Languages   \n",
              "avg rating                                                         4.6   \n",
              "number ratings                                                 72122.0   \n",
              "enrollment                                                    717921.0   \n",
              "last updated                                                    4/2020   \n",
              "lectures                                                          51.0   \n",
              "duration                                                        9h 30m   \n",
              "price2                                                        CA$21.99   \n",
              "price                                                               39   \n",
              "discount                                                           88%   \n",
              "inst rating                                                        4.6   \n",
              "inst review                                                    75247.0   \n",
              "inst student                                                  751881.0   \n",
              "inst course                                                        2.0   \n",
              "\n",
              "                                                                     4  \n",
              "course name          Instagram Marketing 2020: Hashtags, Live, Stor...  \n",
              "course category                                    office productivity  \n",
              "course sub category                                          Microsoft  \n",
              "avg rating                                                         4.5  \n",
              "number ratings                                                  2826.0  \n",
              "enrollment                                                     14269.0  \n",
              "last updated                                                   10/2020  \n",
              "lectures                                                          41.0  \n",
              "duration                                                         7h 8m  \n",
              "price2                                                        CA$19.99  \n",
              "price                                                         CA$19.99  \n",
              "discount                                                           88%  \n",
              "inst rating                                                        4.5  \n",
              "inst review                                                    11922.0  \n",
              "inst student                                                   53659.0  \n",
              "inst course                                                       10.0  "
            ],
            "text/html": [
              "\n",
              "  <div id=\"df-d9589a7d-f304-44c1-842d-af3ca23a835c\">\n",
              "    <div class=\"colab-df-container\">\n",
              "      <div>\n",
              "<style scoped>\n",
              "    .dataframe tbody tr th:only-of-type {\n",
              "        vertical-align: middle;\n",
              "    }\n",
              "\n",
              "    .dataframe tbody tr th {\n",
              "        vertical-align: top;\n",
              "    }\n",
              "\n",
              "    .dataframe thead th {\n",
              "        text-align: right;\n",
              "    }\n",
              "</style>\n",
              "<table border=\"1\" class=\"dataframe\">\n",
              "  <thead>\n",
              "    <tr style=\"text-align: right;\">\n",
              "      <th></th>\n",
              "      <th>0</th>\n",
              "      <th>1</th>\n",
              "      <th>2</th>\n",
              "      <th>3</th>\n",
              "      <th>4</th>\n",
              "    </tr>\n",
              "  </thead>\n",
              "  <tbody>\n",
              "    <tr>\n",
              "      <th>course name</th>\n",
              "      <td>Algorithmic Trading &amp; Quantitative Analysis Us...</td>\n",
              "      <td>ISO/IEC 27001. Information Security Management...</td>\n",
              "      <td>Procedural Terrain Generation with Unity</td>\n",
              "      <td>Jenkins 2 Bootcamp: Fully Automate Builds to D...</td>\n",
              "      <td>Instagram Marketing 2020: Hashtags, Live, Stor...</td>\n",
              "    </tr>\n",
              "    <tr>\n",
              "      <th>course category</th>\n",
              "      <td>design</td>\n",
              "      <td>business</td>\n",
              "      <td>development</td>\n",
              "      <td>development</td>\n",
              "      <td>office productivity</td>\n",
              "    </tr>\n",
              "    <tr>\n",
              "      <th>course sub category</th>\n",
              "      <td>Game Design</td>\n",
              "      <td>Data &amp; Analytics</td>\n",
              "      <td>Programming Languages</td>\n",
              "      <td>Programming Languages</td>\n",
              "      <td>Microsoft</td>\n",
              "    </tr>\n",
              "    <tr>\n",
              "      <th>avg rating</th>\n",
              "      <td>4.2</td>\n",
              "      <td>4.6</td>\n",
              "      <td>4.6</td>\n",
              "      <td>4.6</td>\n",
              "      <td>4.5</td>\n",
              "    </tr>\n",
              "    <tr>\n",
              "      <th>number ratings</th>\n",
              "      <td>6340.0</td>\n",
              "      <td>9281.0</td>\n",
              "      <td>6833.0</td>\n",
              "      <td>72122.0</td>\n",
              "      <td>2826.0</td>\n",
              "    </tr>\n",
              "    <tr>\n",
              "      <th>enrollment</th>\n",
              "      <td>54930.0</td>\n",
              "      <td>48338.0</td>\n",
              "      <td>21218.0</td>\n",
              "      <td>717921.0</td>\n",
              "      <td>14269.0</td>\n",
              "    </tr>\n",
              "    <tr>\n",
              "      <th>last updated</th>\n",
              "      <td>8/2020</td>\n",
              "      <td>3/2018</td>\n",
              "      <td>10/2020</td>\n",
              "      <td>4/2020</td>\n",
              "      <td>10/2020</td>\n",
              "    </tr>\n",
              "    <tr>\n",
              "      <th>lectures</th>\n",
              "      <td>162.0</td>\n",
              "      <td>37.0</td>\n",
              "      <td>53.0</td>\n",
              "      <td>51.0</td>\n",
              "      <td>41.0</td>\n",
              "    </tr>\n",
              "    <tr>\n",
              "      <th>duration</th>\n",
              "      <td>19h 23m</td>\n",
              "      <td>3h 54m</td>\n",
              "      <td>5h 14m</td>\n",
              "      <td>9h 30m</td>\n",
              "      <td>7h 8m</td>\n",
              "    </tr>\n",
              "    <tr>\n",
              "      <th>price2</th>\n",
              "      <td>CA$23.99</td>\n",
              "      <td>CA$16.99</td>\n",
              "      <td>CA$23.99</td>\n",
              "      <td>CA$21.99</td>\n",
              "      <td>CA$19.99</td>\n",
              "    </tr>\n",
              "    <tr>\n",
              "      <th>price</th>\n",
              "      <td>NaN</td>\n",
              "      <td>NaN</td>\n",
              "      <td>NaN</td>\n",
              "      <td>39</td>\n",
              "      <td>CA$19.99</td>\n",
              "    </tr>\n",
              "    <tr>\n",
              "      <th>discount</th>\n",
              "      <td>90%</td>\n",
              "      <td>56%</td>\n",
              "      <td>91%</td>\n",
              "      <td>88%</td>\n",
              "      <td>88%</td>\n",
              "    </tr>\n",
              "    <tr>\n",
              "      <th>inst rating</th>\n",
              "      <td>4.2</td>\n",
              "      <td>4.5</td>\n",
              "      <td>4.6</td>\n",
              "      <td>4.6</td>\n",
              "      <td>4.5</td>\n",
              "    </tr>\n",
              "    <tr>\n",
              "      <th>inst review</th>\n",
              "      <td>13453.0</td>\n",
              "      <td>246008.0</td>\n",
              "      <td>19993.0</td>\n",
              "      <td>75247.0</td>\n",
              "      <td>11922.0</td>\n",
              "    </tr>\n",
              "    <tr>\n",
              "      <th>inst student</th>\n",
              "      <td>179306.0</td>\n",
              "      <td>1145810.0</td>\n",
              "      <td>55621.0</td>\n",
              "      <td>751881.0</td>\n",
              "      <td>53659.0</td>\n",
              "    </tr>\n",
              "    <tr>\n",
              "      <th>inst course</th>\n",
              "      <td>12.0</td>\n",
              "      <td>81.0</td>\n",
              "      <td>3.0</td>\n",
              "      <td>2.0</td>\n",
              "      <td>10.0</td>\n",
              "    </tr>\n",
              "  </tbody>\n",
              "</table>\n",
              "</div>\n",
              "      <button class=\"colab-df-convert\" onclick=\"convertToInteractive('df-d9589a7d-f304-44c1-842d-af3ca23a835c')\"\n",
              "              title=\"Convert this dataframe to an interactive table.\"\n",
              "              style=\"display:none;\">\n",
              "        \n",
              "  <svg xmlns=\"http://www.w3.org/2000/svg\" height=\"24px\"viewBox=\"0 0 24 24\"\n",
              "       width=\"24px\">\n",
              "    <path d=\"M0 0h24v24H0V0z\" fill=\"none\"/>\n",
              "    <path d=\"M18.56 5.44l.94 2.06.94-2.06 2.06-.94-2.06-.94-.94-2.06-.94 2.06-2.06.94zm-11 1L8.5 8.5l.94-2.06 2.06-.94-2.06-.94L8.5 2.5l-.94 2.06-2.06.94zm10 10l.94 2.06.94-2.06 2.06-.94-2.06-.94-.94-2.06-.94 2.06-2.06.94z\"/><path d=\"M17.41 7.96l-1.37-1.37c-.4-.4-.92-.59-1.43-.59-.52 0-1.04.2-1.43.59L10.3 9.45l-7.72 7.72c-.78.78-.78 2.05 0 2.83L4 21.41c.39.39.9.59 1.41.59.51 0 1.02-.2 1.41-.59l7.78-7.78 2.81-2.81c.8-.78.8-2.07 0-2.86zM5.41 20L4 18.59l7.72-7.72 1.47 1.35L5.41 20z\"/>\n",
              "  </svg>\n",
              "      </button>\n",
              "      \n",
              "  <style>\n",
              "    .colab-df-container {\n",
              "      display:flex;\n",
              "      flex-wrap:wrap;\n",
              "      gap: 12px;\n",
              "    }\n",
              "\n",
              "    .colab-df-convert {\n",
              "      background-color: #E8F0FE;\n",
              "      border: none;\n",
              "      border-radius: 50%;\n",
              "      cursor: pointer;\n",
              "      display: none;\n",
              "      fill: #1967D2;\n",
              "      height: 32px;\n",
              "      padding: 0 0 0 0;\n",
              "      width: 32px;\n",
              "    }\n",
              "\n",
              "    .colab-df-convert:hover {\n",
              "      background-color: #E2EBFA;\n",
              "      box-shadow: 0px 1px 2px rgba(60, 64, 67, 0.3), 0px 1px 3px 1px rgba(60, 64, 67, 0.15);\n",
              "      fill: #174EA6;\n",
              "    }\n",
              "\n",
              "    [theme=dark] .colab-df-convert {\n",
              "      background-color: #3B4455;\n",
              "      fill: #D2E3FC;\n",
              "    }\n",
              "\n",
              "    [theme=dark] .colab-df-convert:hover {\n",
              "      background-color: #434B5C;\n",
              "      box-shadow: 0px 1px 3px 1px rgba(0, 0, 0, 0.15);\n",
              "      filter: drop-shadow(0px 1px 2px rgba(0, 0, 0, 0.3));\n",
              "      fill: #FFFFFF;\n",
              "    }\n",
              "  </style>\n",
              "\n",
              "      <script>\n",
              "        const buttonEl =\n",
              "          document.querySelector('#df-d9589a7d-f304-44c1-842d-af3ca23a835c button.colab-df-convert');\n",
              "        buttonEl.style.display =\n",
              "          google.colab.kernel.accessAllowed ? 'block' : 'none';\n",
              "\n",
              "        async function convertToInteractive(key) {\n",
              "          const element = document.querySelector('#df-d9589a7d-f304-44c1-842d-af3ca23a835c');\n",
              "          const dataTable =\n",
              "            await google.colab.kernel.invokeFunction('convertToInteractive',\n",
              "                                                     [key], {});\n",
              "          if (!dataTable) return;\n",
              "\n",
              "          const docLinkHtml = 'Like what you see? Visit the ' +\n",
              "            '<a target=\"_blank\" href=https://colab.research.google.com/notebooks/data_table.ipynb>data table notebook</a>'\n",
              "            + ' to learn more about interactive tables.';\n",
              "          element.innerHTML = '';\n",
              "          dataTable['output_type'] = 'display_data';\n",
              "          await google.colab.output.renderOutput(dataTable, element);\n",
              "          const docLink = document.createElement('div');\n",
              "          docLink.innerHTML = docLinkHtml;\n",
              "          element.appendChild(docLink);\n",
              "        }\n",
              "      </script>\n",
              "    </div>\n",
              "  </div>\n",
              "  "
            ]
          },
          "metadata": {},
          "execution_count": 3
        }
      ]
    },
    {
      "cell_type": "code",
      "source": [
        "# Check the columns.\n",
        "df.info()"
      ],
      "metadata": {
        "colab": {
          "base_uri": "https://localhost:8080/"
        },
        "id": "cv6eUILZHOuL",
        "outputId": "fdd59667-d325-451c-d8ec-e57317569dca"
      },
      "execution_count": null,
      "outputs": [
        {
          "output_type": "stream",
          "name": "stdout",
          "text": [
            "<class 'pandas.core.frame.DataFrame'>\n",
            "RangeIndex: 2004 entries, 0 to 2003\n",
            "Data columns (total 16 columns):\n",
            " #   Column               Non-Null Count  Dtype  \n",
            "---  ------               --------------  -----  \n",
            " 0   course name          1970 non-null   object \n",
            " 1   course category      1970 non-null   object \n",
            " 2   course sub category  1970 non-null   object \n",
            " 3   avg rating           1967 non-null   float64\n",
            " 4   number ratings       1967 non-null   float64\n",
            " 5   enrollment           1965 non-null   float64\n",
            " 6   last updated         1970 non-null   object \n",
            " 7   lectures             1966 non-null   float64\n",
            " 8   duration             1970 non-null   object \n",
            " 9   price2               1651 non-null   object \n",
            " 10  price                659 non-null    object \n",
            " 11  discount             1970 non-null   object \n",
            " 12  inst rating          1967 non-null   float64\n",
            " 13  inst review          1967 non-null   float64\n",
            " 14  inst student         1970 non-null   float64\n",
            " 15  inst course          1970 non-null   float64\n",
            "dtypes: float64(8), object(8)\n",
            "memory usage: 250.6+ KB\n"
          ]
        }
      ]
    },
    {
      "cell_type": "code",
      "source": [
        "# Get the statistics information.\n",
        "df.describe()"
      ],
      "metadata": {
        "colab": {
          "base_uri": "https://localhost:8080/",
          "height": 300
        },
        "id": "ZyBew9a0HXOD",
        "outputId": "0e58e076-62e0-49e8-9c78-c4481ebca9a0"
      },
      "execution_count": null,
      "outputs": [
        {
          "output_type": "execute_result",
          "data": {
            "text/plain": [
              "        avg rating  number ratings    enrollment     lectures  inst rating  \\\n",
              "count  1967.000000     1967.000000  1.965000e+03  1966.000000  1967.000000   \n",
              "mean      4.407270     4708.649720  2.542528e+04   105.789929     4.412354   \n",
              "std       0.271507    14306.115023  6.109779e+04   100.122851     0.230230   \n",
              "min       2.100000       17.000000  3.600000e+01     5.000000     2.600000   \n",
              "25%       4.300000      598.500000  3.696000e+03    44.000000     4.300000   \n",
              "50%       4.500000     1411.000000  9.313000e+03    74.000000     4.500000   \n",
              "75%       4.600000     3492.500000  2.139300e+04   125.750000     4.600000   \n",
              "max       4.900000   321904.000000  1.112443e+06   699.000000     4.800000   \n",
              "\n",
              "         inst review  inst student  inst course  \n",
              "count    1967.000000  1.970000e+03  1970.000000  \n",
              "mean    48894.806304  2.209746e+05    29.349746  \n",
              "std     98284.751447  3.768465e+05    94.717280  \n",
              "min        31.000000  5.500000e+01     1.000000  \n",
              "25%      2515.500000  1.593425e+04     5.000000  \n",
              "50%     11423.000000  6.334700e+04    12.000000  \n",
              "75%     43931.000000  2.421375e+05    23.000000  \n",
              "max    652986.000000  2.168985e+06  1420.000000  "
            ],
            "text/html": [
              "\n",
              "  <div id=\"df-5e635073-c55d-4d55-8efe-5b76f61ae9c9\">\n",
              "    <div class=\"colab-df-container\">\n",
              "      <div>\n",
              "<style scoped>\n",
              "    .dataframe tbody tr th:only-of-type {\n",
              "        vertical-align: middle;\n",
              "    }\n",
              "\n",
              "    .dataframe tbody tr th {\n",
              "        vertical-align: top;\n",
              "    }\n",
              "\n",
              "    .dataframe thead th {\n",
              "        text-align: right;\n",
              "    }\n",
              "</style>\n",
              "<table border=\"1\" class=\"dataframe\">\n",
              "  <thead>\n",
              "    <tr style=\"text-align: right;\">\n",
              "      <th></th>\n",
              "      <th>avg rating</th>\n",
              "      <th>number ratings</th>\n",
              "      <th>enrollment</th>\n",
              "      <th>lectures</th>\n",
              "      <th>inst rating</th>\n",
              "      <th>inst review</th>\n",
              "      <th>inst student</th>\n",
              "      <th>inst course</th>\n",
              "    </tr>\n",
              "  </thead>\n",
              "  <tbody>\n",
              "    <tr>\n",
              "      <th>count</th>\n",
              "      <td>1967.000000</td>\n",
              "      <td>1967.000000</td>\n",
              "      <td>1.965000e+03</td>\n",
              "      <td>1966.000000</td>\n",
              "      <td>1967.000000</td>\n",
              "      <td>1967.000000</td>\n",
              "      <td>1.970000e+03</td>\n",
              "      <td>1970.000000</td>\n",
              "    </tr>\n",
              "    <tr>\n",
              "      <th>mean</th>\n",
              "      <td>4.407270</td>\n",
              "      <td>4708.649720</td>\n",
              "      <td>2.542528e+04</td>\n",
              "      <td>105.789929</td>\n",
              "      <td>4.412354</td>\n",
              "      <td>48894.806304</td>\n",
              "      <td>2.209746e+05</td>\n",
              "      <td>29.349746</td>\n",
              "    </tr>\n",
              "    <tr>\n",
              "      <th>std</th>\n",
              "      <td>0.271507</td>\n",
              "      <td>14306.115023</td>\n",
              "      <td>6.109779e+04</td>\n",
              "      <td>100.122851</td>\n",
              "      <td>0.230230</td>\n",
              "      <td>98284.751447</td>\n",
              "      <td>3.768465e+05</td>\n",
              "      <td>94.717280</td>\n",
              "    </tr>\n",
              "    <tr>\n",
              "      <th>min</th>\n",
              "      <td>2.100000</td>\n",
              "      <td>17.000000</td>\n",
              "      <td>3.600000e+01</td>\n",
              "      <td>5.000000</td>\n",
              "      <td>2.600000</td>\n",
              "      <td>31.000000</td>\n",
              "      <td>5.500000e+01</td>\n",
              "      <td>1.000000</td>\n",
              "    </tr>\n",
              "    <tr>\n",
              "      <th>25%</th>\n",
              "      <td>4.300000</td>\n",
              "      <td>598.500000</td>\n",
              "      <td>3.696000e+03</td>\n",
              "      <td>44.000000</td>\n",
              "      <td>4.300000</td>\n",
              "      <td>2515.500000</td>\n",
              "      <td>1.593425e+04</td>\n",
              "      <td>5.000000</td>\n",
              "    </tr>\n",
              "    <tr>\n",
              "      <th>50%</th>\n",
              "      <td>4.500000</td>\n",
              "      <td>1411.000000</td>\n",
              "      <td>9.313000e+03</td>\n",
              "      <td>74.000000</td>\n",
              "      <td>4.500000</td>\n",
              "      <td>11423.000000</td>\n",
              "      <td>6.334700e+04</td>\n",
              "      <td>12.000000</td>\n",
              "    </tr>\n",
              "    <tr>\n",
              "      <th>75%</th>\n",
              "      <td>4.600000</td>\n",
              "      <td>3492.500000</td>\n",
              "      <td>2.139300e+04</td>\n",
              "      <td>125.750000</td>\n",
              "      <td>4.600000</td>\n",
              "      <td>43931.000000</td>\n",
              "      <td>2.421375e+05</td>\n",
              "      <td>23.000000</td>\n",
              "    </tr>\n",
              "    <tr>\n",
              "      <th>max</th>\n",
              "      <td>4.900000</td>\n",
              "      <td>321904.000000</td>\n",
              "      <td>1.112443e+06</td>\n",
              "      <td>699.000000</td>\n",
              "      <td>4.800000</td>\n",
              "      <td>652986.000000</td>\n",
              "      <td>2.168985e+06</td>\n",
              "      <td>1420.000000</td>\n",
              "    </tr>\n",
              "  </tbody>\n",
              "</table>\n",
              "</div>\n",
              "      <button class=\"colab-df-convert\" onclick=\"convertToInteractive('df-5e635073-c55d-4d55-8efe-5b76f61ae9c9')\"\n",
              "              title=\"Convert this dataframe to an interactive table.\"\n",
              "              style=\"display:none;\">\n",
              "        \n",
              "  <svg xmlns=\"http://www.w3.org/2000/svg\" height=\"24px\"viewBox=\"0 0 24 24\"\n",
              "       width=\"24px\">\n",
              "    <path d=\"M0 0h24v24H0V0z\" fill=\"none\"/>\n",
              "    <path d=\"M18.56 5.44l.94 2.06.94-2.06 2.06-.94-2.06-.94-.94-2.06-.94 2.06-2.06.94zm-11 1L8.5 8.5l.94-2.06 2.06-.94-2.06-.94L8.5 2.5l-.94 2.06-2.06.94zm10 10l.94 2.06.94-2.06 2.06-.94-2.06-.94-.94-2.06-.94 2.06-2.06.94z\"/><path d=\"M17.41 7.96l-1.37-1.37c-.4-.4-.92-.59-1.43-.59-.52 0-1.04.2-1.43.59L10.3 9.45l-7.72 7.72c-.78.78-.78 2.05 0 2.83L4 21.41c.39.39.9.59 1.41.59.51 0 1.02-.2 1.41-.59l7.78-7.78 2.81-2.81c.8-.78.8-2.07 0-2.86zM5.41 20L4 18.59l7.72-7.72 1.47 1.35L5.41 20z\"/>\n",
              "  </svg>\n",
              "      </button>\n",
              "      \n",
              "  <style>\n",
              "    .colab-df-container {\n",
              "      display:flex;\n",
              "      flex-wrap:wrap;\n",
              "      gap: 12px;\n",
              "    }\n",
              "\n",
              "    .colab-df-convert {\n",
              "      background-color: #E8F0FE;\n",
              "      border: none;\n",
              "      border-radius: 50%;\n",
              "      cursor: pointer;\n",
              "      display: none;\n",
              "      fill: #1967D2;\n",
              "      height: 32px;\n",
              "      padding: 0 0 0 0;\n",
              "      width: 32px;\n",
              "    }\n",
              "\n",
              "    .colab-df-convert:hover {\n",
              "      background-color: #E2EBFA;\n",
              "      box-shadow: 0px 1px 2px rgba(60, 64, 67, 0.3), 0px 1px 3px 1px rgba(60, 64, 67, 0.15);\n",
              "      fill: #174EA6;\n",
              "    }\n",
              "\n",
              "    [theme=dark] .colab-df-convert {\n",
              "      background-color: #3B4455;\n",
              "      fill: #D2E3FC;\n",
              "    }\n",
              "\n",
              "    [theme=dark] .colab-df-convert:hover {\n",
              "      background-color: #434B5C;\n",
              "      box-shadow: 0px 1px 3px 1px rgba(0, 0, 0, 0.15);\n",
              "      filter: drop-shadow(0px 1px 2px rgba(0, 0, 0, 0.3));\n",
              "      fill: #FFFFFF;\n",
              "    }\n",
              "  </style>\n",
              "\n",
              "      <script>\n",
              "        const buttonEl =\n",
              "          document.querySelector('#df-5e635073-c55d-4d55-8efe-5b76f61ae9c9 button.colab-df-convert');\n",
              "        buttonEl.style.display =\n",
              "          google.colab.kernel.accessAllowed ? 'block' : 'none';\n",
              "\n",
              "        async function convertToInteractive(key) {\n",
              "          const element = document.querySelector('#df-5e635073-c55d-4d55-8efe-5b76f61ae9c9');\n",
              "          const dataTable =\n",
              "            await google.colab.kernel.invokeFunction('convertToInteractive',\n",
              "                                                     [key], {});\n",
              "          if (!dataTable) return;\n",
              "\n",
              "          const docLinkHtml = 'Like what you see? Visit the ' +\n",
              "            '<a target=\"_blank\" href=https://colab.research.google.com/notebooks/data_table.ipynb>data table notebook</a>'\n",
              "            + ' to learn more about interactive tables.';\n",
              "          element.innerHTML = '';\n",
              "          dataTable['output_type'] = 'display_data';\n",
              "          await google.colab.output.renderOutput(dataTable, element);\n",
              "          const docLink = document.createElement('div');\n",
              "          docLink.innerHTML = docLinkHtml;\n",
              "          element.appendChild(docLink);\n",
              "        }\n",
              "      </script>\n",
              "    </div>\n",
              "  </div>\n",
              "  "
            ]
          },
          "metadata": {},
          "execution_count": 5
        }
      ]
    },
    {
      "cell_type": "code",
      "source": [
        "# Check NAN value in each column.\n",
        "df.isnull().sum()"
      ],
      "metadata": {
        "colab": {
          "base_uri": "https://localhost:8080/"
        },
        "id": "hvCrbHvvHbyj",
        "outputId": "4bd011ca-668f-4f77-a393-6d02a24c758a"
      },
      "execution_count": null,
      "outputs": [
        {
          "output_type": "execute_result",
          "data": {
            "text/plain": [
              "course name              34\n",
              "course category          34\n",
              "course sub category      34\n",
              "avg rating               37\n",
              "number ratings           37\n",
              "enrollment               39\n",
              "last updated             34\n",
              "lectures                 38\n",
              "duration                 34\n",
              "price2                  353\n",
              "price                  1345\n",
              "discount                 34\n",
              "inst rating              37\n",
              "inst review              37\n",
              "inst student             34\n",
              "inst course              34\n",
              "dtype: int64"
            ]
          },
          "metadata": {},
          "execution_count": 6
        }
      ]
    },
    {
      "cell_type": "code",
      "source": [
        "# Drop rows having only missing values.\n",
        "df.dropna(how='all', inplace=True)"
      ],
      "metadata": {
        "id": "_tJff6u6HhjA"
      },
      "execution_count": null,
      "outputs": []
    },
    {
      "cell_type": "code",
      "source": [
        "# Check the price column NAN value.\n",
        "df['price'].isnull().sum()"
      ],
      "metadata": {
        "colab": {
          "base_uri": "https://localhost:8080/"
        },
        "id": "3H9WhJJ5IRZL",
        "outputId": "7f07f59e-cae4-4a2b-e42a-7ee85db1941b"
      },
      "execution_count": null,
      "outputs": [
        {
          "output_type": "execute_result",
          "data": {
            "text/plain": [
              "1311"
            ]
          },
          "metadata": {},
          "execution_count": 8
        }
      ]
    },
    {
      "cell_type": "code",
      "source": [
        "# Check the price2 column NAN value.\n",
        "df['price2'].isnull().sum()"
      ],
      "metadata": {
        "colab": {
          "base_uri": "https://localhost:8080/"
        },
        "id": "9SJWd7zcIoiq",
        "outputId": "3fc3b019-6973-41b8-88cd-ee9978f73ef0"
      },
      "execution_count": null,
      "outputs": [
        {
          "output_type": "execute_result",
          "data": {
            "text/plain": [
              "319"
            ]
          },
          "metadata": {},
          "execution_count": 9
        }
      ]
    },
    {
      "cell_type": "code",
      "source": [
        "# Use the price value to replace the NAN value in the price 2 column.\n",
        "df['price2'].fillna(df['price'], inplace=True)"
      ],
      "metadata": {
        "id": "rpbbOyR2Itpp"
      },
      "execution_count": null,
      "outputs": []
    },
    {
      "cell_type": "code",
      "source": [
        "df.drop('price', axis=1, inplace=True)\n",
        "df.rename(columns={'price2':'price'}, inplace=True)"
      ],
      "metadata": {
        "id": "26kj11PlMTzL"
      },
      "execution_count": null,
      "outputs": []
    },
    {
      "cell_type": "code",
      "source": [],
      "metadata": {
        "id": "86i3st28OpAc"
      },
      "execution_count": null,
      "outputs": []
    },
    {
      "cell_type": "code",
      "source": [
        "# Drop the row which contain at least 1 NAN value.\n",
        "df.dropna(inplace=True)"
      ],
      "metadata": {
        "id": "W58PN9uqJDvr"
      },
      "execution_count": null,
      "outputs": []
    },
    {
      "cell_type": "code",
      "source": [
        "# Recheck the NAN values.\n",
        "df.isnull().sum()"
      ],
      "metadata": {
        "colab": {
          "base_uri": "https://localhost:8080/"
        },
        "id": "C7Nu8k26J_gw",
        "outputId": "8666f2a4-34ed-4c0a-f073-927160d6f472"
      },
      "execution_count": null,
      "outputs": [
        {
          "output_type": "execute_result",
          "data": {
            "text/plain": [
              "course name            0\n",
              "course category        0\n",
              "course sub category    0\n",
              "avg rating             0\n",
              "number ratings         0\n",
              "enrollment             0\n",
              "last updated           0\n",
              "lectures               0\n",
              "duration               0\n",
              "price                  0\n",
              "discount               0\n",
              "inst rating            0\n",
              "inst review            0\n",
              "inst student           0\n",
              "inst course            0\n",
              "dtype: int64"
            ]
          },
          "metadata": {},
          "execution_count": 13
        }
      ]
    },
    {
      "cell_type": "code",
      "source": [
        "df = pd.DataFrame(df.values, columns=df.columns.map(lambda x:x.replace(\" \", \"_\")))"
      ],
      "metadata": {
        "id": "BzcLyzqnVO48"
      },
      "execution_count": null,
      "outputs": []
    },
    {
      "cell_type": "code",
      "source": [
        "# Recheck columns' names\n",
        "df.columns"
      ],
      "metadata": {
        "colab": {
          "base_uri": "https://localhost:8080/"
        },
        "id": "RLF_kOwEKO2V",
        "outputId": "bc8be71f-6176-492b-9101-08cd5713bbf8"
      },
      "execution_count": null,
      "outputs": [
        {
          "output_type": "execute_result",
          "data": {
            "text/plain": [
              "Index(['course_name', 'course_category', 'course_sub_category', 'avg_rating',\n",
              "       'number_ratings', 'enrollment', 'last_updated', 'lectures', 'duration',\n",
              "       'price', 'discount', 'inst_rating', 'inst_review', 'inst_student',\n",
              "       'inst_course'],\n",
              "      dtype='object')"
            ]
          },
          "metadata": {},
          "execution_count": 15
        }
      ]
    },
    {
      "cell_type": "code",
      "source": [
        "# Remove the % symbols from the discount column.\n",
        "df['discount'] = df['discount'].apply(lambda x:x[:-1])"
      ],
      "metadata": {
        "id": "UKEa6zf4KiCv"
      },
      "execution_count": null,
      "outputs": []
    },
    {
      "cell_type": "code",
      "source": [
        "# Remove the text CA$ symbols from the price column.\n",
        "df['price'] = df['price'].apply(lambda x:x.replace('CA$',''))"
      ],
      "metadata": {
        "id": "9PpHUNnPUqfX"
      },
      "execution_count": null,
      "outputs": []
    },
    {
      "cell_type": "code",
      "source": [
        "df['duration'].apply(lambda x:len(x)).value_counts()"
      ],
      "metadata": {
        "colab": {
          "base_uri": "https://localhost:8080/"
        },
        "id": "0aGyMzoyOg2h",
        "outputId": "5244267f-e6af-48b1-e0ac-b933bdf86f03"
      },
      "execution_count": null,
      "outputs": [
        {
          "output_type": "execute_result",
          "data": {
            "text/plain": [
              "6    1099\n",
              "7     634\n",
              "5     200\n",
              "3      16\n",
              "8       3\n",
              "Name: duration, dtype: int64"
            ]
          },
          "metadata": {},
          "execution_count": 18
        }
      ]
    },
    {
      "cell_type": "code",
      "source": [
        "for d in df['duration']:\n",
        "  if len(d) == 3:\n",
        "    print(d)"
      ],
      "metadata": {
        "colab": {
          "base_uri": "https://localhost:8080/"
        },
        "id": "ELxwr8lpTO-j",
        "outputId": "f9759077-59fb-42f2-aad2-527aaf4e49a3"
      },
      "execution_count": null,
      "outputs": [
        {
          "output_type": "stream",
          "name": "stdout",
          "text": [
            "38m\n",
            "57m\n",
            "57m\n",
            "53m\n",
            "53m\n",
            "51m\n",
            "48m\n",
            "58m\n",
            "50m\n",
            "42m\n",
            "52m\n",
            "48m\n",
            "30m\n",
            "41m\n",
            "58m\n",
            "31m\n"
          ]
        }
      ]
    },
    {
      "cell_type": "code",
      "source": [
        "for d in df['duration']:\n",
        "  if len(d) == 5:\n",
        "    print(d)"
      ],
      "metadata": {
        "colab": {
          "base_uri": "https://localhost:8080/"
        },
        "id": "f_NGq2_VTv2X",
        "outputId": "80e51cdb-ab52-49b4-b22d-a51a1fcd2b73"
      },
      "execution_count": null,
      "outputs": [
        {
          "output_type": "stream",
          "name": "stdout",
          "text": [
            "7h 8m\n",
            "4h 8m\n",
            "5h 3m\n",
            "6h 6m\n",
            "9h 0m\n",
            "9h 8m\n",
            "6h 7m\n",
            "2h 6m\n",
            "3h 8m\n",
            "4h 0m\n",
            "6h 5m\n",
            "6h 6m\n",
            "4h 3m\n",
            "2h 3m\n",
            "3h 5m\n",
            "6h 4m\n",
            "7h 8m\n",
            "5h 6m\n",
            "5h 2m\n",
            "3h 6m\n",
            "5h 3m\n",
            "5h 6m\n",
            "7h 7m\n",
            "7h 1m\n",
            "3h 6m\n",
            "2h 3m\n",
            "4h 6m\n",
            "1h 3m\n",
            "2h 2m\n",
            "4h 5m\n",
            "4h 5m\n",
            "3h 6m\n",
            "1h 7m\n",
            "3h 9m\n",
            "7h 7m\n",
            "2h 7m\n",
            "5h 7m\n",
            "8h 5m\n",
            "3h 6m\n",
            "5h 2m\n",
            "6h 7m\n",
            "5h 7m\n",
            "6h 4m\n",
            "5h 0m\n",
            "3h 0m\n",
            "9h 9m\n",
            "6h 9m\n",
            "6h 4m\n",
            "4h 2m\n",
            "2h 8m\n",
            "5h 2m\n",
            "5h 1m\n",
            "7h 1m\n",
            "4h 5m\n",
            "9h 4m\n",
            "7h 3m\n",
            "2h 6m\n",
            "5h 7m\n",
            "9h 4m\n",
            "3h 1m\n",
            "7h 7m\n",
            "8h 7m\n",
            "5h 3m\n",
            "4h 6m\n",
            "4h 9m\n",
            "9h 3m\n",
            "2h 6m\n",
            "4h 7m\n",
            "6h 9m\n",
            "3h 5m\n",
            "8h 4m\n",
            "4h 3m\n",
            "2h 3m\n",
            "8h 3m\n",
            "9h 9m\n",
            "8h 2m\n",
            "3h 8m\n",
            "3h 8m\n",
            "9h 0m\n",
            "4h 2m\n",
            "2h 6m\n",
            "7h 0m\n",
            "8h 9m\n",
            "3h 6m\n",
            "3h 7m\n",
            "3h 6m\n",
            "5h 7m\n",
            "5h 7m\n",
            "5h 0m\n",
            "3h 5m\n",
            "4h 8m\n",
            "2h 1m\n",
            "7h 1m\n",
            "4h 3m\n",
            "2h 6m\n",
            "6h 4m\n",
            "7h 0m\n",
            "1h 7m\n",
            "7h 0m\n",
            "5h 7m\n",
            "5h 2m\n",
            "4h 2m\n",
            "9h 0m\n",
            "9h 5m\n",
            "1h 4m\n",
            "1h 8m\n",
            "1h 4m\n",
            "1h 9m\n",
            "2h 4m\n",
            "4h 0m\n",
            "2h 6m\n",
            "4h 9m\n",
            "9h 3m\n",
            "1h 5m\n",
            "1h 6m\n",
            "1h 4m\n",
            "4h 0m\n",
            "9h 0m\n",
            "6h 4m\n",
            "3h 8m\n",
            "9h 3m\n",
            "6h 5m\n",
            "2h 3m\n",
            "2h 6m\n",
            "7h 2m\n",
            "5h 7m\n",
            "4h 7m\n",
            "3h 7m\n",
            "4h 3m\n",
            "7h 8m\n",
            "2h 7m\n",
            "8h 3m\n",
            "2h 4m\n",
            "2h 5m\n",
            "5h 8m\n",
            "6h 5m\n",
            "5h 7m\n",
            "6h 3m\n",
            "3h 8m\n",
            "2h 8m\n",
            "4h 5m\n",
            "5h 6m\n",
            "4h 2m\n",
            "6h 1m\n",
            "4h 5m\n",
            "3h 8m\n",
            "2h 8m\n",
            "3h 1m\n",
            "6h 7m\n",
            "6h 9m\n",
            "4h 5m\n",
            "8h 3m\n",
            "9h 6m\n",
            "3h 4m\n",
            "5h 6m\n",
            "8h 3m\n",
            "2h 9m\n",
            "4h 5m\n",
            "1h 5m\n",
            "3h 4m\n",
            "2h 6m\n",
            "7h 7m\n",
            "8h 4m\n",
            "4h 1m\n",
            "6h 5m\n",
            "7h 6m\n",
            "7h 7m\n",
            "7h 6m\n",
            "5h 5m\n",
            "7h 1m\n",
            "6h 4m\n",
            "3h 7m\n",
            "8h 7m\n",
            "6h 1m\n",
            "5h 8m\n",
            "5h 1m\n",
            "2h 1m\n",
            "5h 1m\n",
            "5h 4m\n",
            "2h 5m\n",
            "6h 5m\n",
            "9h 1m\n",
            "2h 5m\n",
            "6h 4m\n",
            "4h 6m\n",
            "8h 4m\n",
            "6h 4m\n",
            "6h 3m\n",
            "1h 3m\n",
            "7h 4m\n",
            "4h 3m\n",
            "5h 2m\n",
            "2h 8m\n",
            "3h 8m\n",
            "1h 0m\n",
            "1h 6m\n",
            "7h 2m\n",
            "8h 8m\n",
            "5h 1m\n",
            "3h 8m\n"
          ]
        }
      ]
    },
    {
      "cell_type": "code",
      "source": [
        "# Transform the value of duration into hours.\n",
        "def tranDuration(d):\n",
        "  if len(d) == 3:\n",
        "    d = float(d[:-1])/60\n",
        "  else:\n",
        "    dArr = d.split(\" \")\n",
        "    d = float(dArr[0][:-1]) + float(dArr[1][:-1])/60\n",
        "  return d\n",
        "df['duration'] = df['duration'].apply(tranDuration)"
      ],
      "metadata": {
        "id": "StIKWEk2UMwt"
      },
      "execution_count": null,
      "outputs": []
    },
    {
      "cell_type": "code",
      "source": [
        "df['last_updated']"
      ],
      "metadata": {
        "colab": {
          "base_uri": "https://localhost:8080/"
        },
        "id": "ii6qcj6BVOd2",
        "outputId": "c062a276-e5db-475d-a4cd-5c422f6c75b6"
      },
      "execution_count": null,
      "outputs": [
        {
          "output_type": "execute_result",
          "data": {
            "text/plain": [
              "0        8/2020\n",
              "1        3/2018\n",
              "2       10/2020\n",
              "3        4/2020\n",
              "4       10/2020\n",
              "         ...   \n",
              "1947     9/2020\n",
              "1948     6/2015\n",
              "1949     6/2020\n",
              "1950     3/2017\n",
              "1951    10/2020\n",
              "Name: last_updated, Length: 1952, dtype: object"
            ]
          },
          "metadata": {},
          "execution_count": 22
        }
      ]
    },
    {
      "cell_type": "code",
      "source": [
        "# Transform the value of last_updated into a number representing the value.\n",
        "def transLast(last):\n",
        "  lastArr = last.split('/')\n",
        "  x = float(lastArr[1][-2:]) + float(lastArr[0])/100\n",
        "  return x\n",
        "\n",
        "df['last_updated'] = df['last_updated'].apply(transLast)"
      ],
      "metadata": {
        "id": "vCUL_tu0VP32"
      },
      "execution_count": null,
      "outputs": []
    },
    {
      "cell_type": "code",
      "source": [
        "# Change the datatypes of column discount, price and last_updated into float64.\n",
        "df['price'] = pd.to_numeric(df['price'])\n",
        "df['discount'] = pd.to_numeric(df['discount'])\n",
        "df['last_updated'] = pd.to_numeric(df['last_updated'])"
      ],
      "metadata": {
        "id": "iCvFvu2OWiHR"
      },
      "execution_count": null,
      "outputs": []
    },
    {
      "cell_type": "code",
      "source": [
        "df['course_category'].value_counts()"
      ],
      "metadata": {
        "colab": {
          "base_uri": "https://localhost:8080/"
        },
        "id": "kxcXSvyWZalb",
        "outputId": "37629cd6-d377-42bc-f0ba-ba5b9b931206"
      },
      "execution_count": null,
      "outputs": [
        {
          "output_type": "execute_result",
          "data": {
            "text/plain": [
              "development             575\n",
              "it software             462\n",
              "business                358\n",
              "design                  148\n",
              "teaching academics       77\n",
              "personal development     71\n",
              "marketing                70\n",
              "office productivity      52\n",
              "music                    48\n",
              "health fitness           37\n",
              "lifestyle                31\n",
              "photography              21\n",
              "finance accounting        1\n",
              "other                     1\n",
              "Name: course_category, dtype: int64"
            ]
          },
          "metadata": {},
          "execution_count": 25
        }
      ]
    },
    {
      "cell_type": "code",
      "source": [
        "# Combine some courses to reduce the amount of the course number.\n",
        "def combine_course(course):\n",
        "  if 'business' in course.lower() or 'finance' in course.lower() or 'marketing' in course.lower() or 'office' in course.lower() or 'teaching' in course.lower() or 'personal development' in course.lower():\n",
        "    course = 'business & education'.replace(\" \", \"_\")\n",
        "  elif 'music' in course.lower() or 'lifestyle' in course.lower() or 'health' in course.lower() or 'photo' in course.lower() or 'other' in course.lower():\n",
        "    course = 'personal hobby'.replace(\" \", \"_\")\n",
        "  else:\n",
        "    course = course.replace(\" \", \"_\")\n",
        "  return course\n",
        "df['course_category'] = df['course_category'].apply(combine_course)"
      ],
      "metadata": {
        "id": "ncniAowOaib_"
      },
      "execution_count": null,
      "outputs": []
    },
    {
      "cell_type": "code",
      "source": [
        "df['course_category'].value_counts()"
      ],
      "metadata": {
        "colab": {
          "base_uri": "https://localhost:8080/"
        },
        "id": "cOtmioKyeoXi",
        "outputId": "1e2e1f6f-624c-49ea-f6e7-37d342586b18"
      },
      "execution_count": null,
      "outputs": [
        {
          "output_type": "execute_result",
          "data": {
            "text/plain": [
              "business_&_education    629\n",
              "development             575\n",
              "it_software             462\n",
              "design                  148\n",
              "personal_hobby          138\n",
              "Name: course_category, dtype: int64"
            ]
          },
          "metadata": {},
          "execution_count": 27
        }
      ]
    },
    {
      "cell_type": "code",
      "source": [
        "df.columns"
      ],
      "metadata": {
        "colab": {
          "base_uri": "https://localhost:8080/"
        },
        "id": "WETi3nEjepzp",
        "outputId": "aeb5fa18-cb37-4d1b-9f49-5c8a1e48d7c6"
      },
      "execution_count": null,
      "outputs": [
        {
          "output_type": "execute_result",
          "data": {
            "text/plain": [
              "Index(['course_name', 'course_category', 'course_sub_category', 'avg_rating',\n",
              "       'number_ratings', 'enrollment', 'last_updated', 'lectures', 'duration',\n",
              "       'price', 'discount', 'inst_rating', 'inst_review', 'inst_student',\n",
              "       'inst_course'],\n",
              "      dtype='object')"
            ]
          },
          "metadata": {},
          "execution_count": 28
        }
      ]
    },
    {
      "cell_type": "code",
      "source": [
        "# Drop the unneeded fetures.\n",
        "df.drop(['course_name','course_sub_category'], axis=1, inplace=True)"
      ],
      "metadata": {
        "id": "oRcohmv3jEWD"
      },
      "execution_count": null,
      "outputs": []
    },
    {
      "cell_type": "code",
      "source": [
        "# Reset the index.\n",
        "df.reset_index(inplace=True)"
      ],
      "metadata": {
        "id": "gOix7_8rjNVk"
      },
      "execution_count": null,
      "outputs": []
    },
    {
      "cell_type": "code",
      "source": [
        "# Recheck the dataframe.\n",
        "df.head()"
      ],
      "metadata": {
        "colab": {
          "base_uri": "https://localhost:8080/",
          "height": 270
        },
        "id": "047n7eEnjee0",
        "outputId": "619d3ccd-6c58-4613-85a5-4740c77a060c"
      },
      "execution_count": null,
      "outputs": [
        {
          "output_type": "execute_result",
          "data": {
            "text/plain": [
              "   index       course_category avg_rating number_ratings enrollment  \\\n",
              "0      0                design        4.2         6340.0    54930.0   \n",
              "1      1  business_&_education        4.6         9281.0    48338.0   \n",
              "2      2           development        4.6         6833.0    21218.0   \n",
              "3      3           development        4.6        72122.0   717921.0   \n",
              "4      4  business_&_education        4.5         2826.0    14269.0   \n",
              "\n",
              "   last_updated lectures   duration  price  discount inst_rating inst_review  \\\n",
              "0         20.08    162.0  19.383333  23.99        90         4.2     13453.0   \n",
              "1         18.03     37.0   3.900000  16.99        56         4.5    246008.0   \n",
              "2         20.10     53.0   5.233333  23.99        91         4.6     19993.0   \n",
              "3         20.04     51.0   9.500000  21.99        88         4.6     75247.0   \n",
              "4         20.10     41.0   7.133333  19.99        88         4.5     11922.0   \n",
              "\n",
              "  inst_student inst_course  \n",
              "0     179306.0        12.0  \n",
              "1    1145810.0        81.0  \n",
              "2      55621.0         3.0  \n",
              "3     751881.0         2.0  \n",
              "4      53659.0        10.0  "
            ],
            "text/html": [
              "\n",
              "  <div id=\"df-c31b3a12-989f-41c9-ad86-9f2ce74081d7\">\n",
              "    <div class=\"colab-df-container\">\n",
              "      <div>\n",
              "<style scoped>\n",
              "    .dataframe tbody tr th:only-of-type {\n",
              "        vertical-align: middle;\n",
              "    }\n",
              "\n",
              "    .dataframe tbody tr th {\n",
              "        vertical-align: top;\n",
              "    }\n",
              "\n",
              "    .dataframe thead th {\n",
              "        text-align: right;\n",
              "    }\n",
              "</style>\n",
              "<table border=\"1\" class=\"dataframe\">\n",
              "  <thead>\n",
              "    <tr style=\"text-align: right;\">\n",
              "      <th></th>\n",
              "      <th>index</th>\n",
              "      <th>course_category</th>\n",
              "      <th>avg_rating</th>\n",
              "      <th>number_ratings</th>\n",
              "      <th>enrollment</th>\n",
              "      <th>last_updated</th>\n",
              "      <th>lectures</th>\n",
              "      <th>duration</th>\n",
              "      <th>price</th>\n",
              "      <th>discount</th>\n",
              "      <th>inst_rating</th>\n",
              "      <th>inst_review</th>\n",
              "      <th>inst_student</th>\n",
              "      <th>inst_course</th>\n",
              "    </tr>\n",
              "  </thead>\n",
              "  <tbody>\n",
              "    <tr>\n",
              "      <th>0</th>\n",
              "      <td>0</td>\n",
              "      <td>design</td>\n",
              "      <td>4.2</td>\n",
              "      <td>6340.0</td>\n",
              "      <td>54930.0</td>\n",
              "      <td>20.08</td>\n",
              "      <td>162.0</td>\n",
              "      <td>19.383333</td>\n",
              "      <td>23.99</td>\n",
              "      <td>90</td>\n",
              "      <td>4.2</td>\n",
              "      <td>13453.0</td>\n",
              "      <td>179306.0</td>\n",
              "      <td>12.0</td>\n",
              "    </tr>\n",
              "    <tr>\n",
              "      <th>1</th>\n",
              "      <td>1</td>\n",
              "      <td>business_&amp;_education</td>\n",
              "      <td>4.6</td>\n",
              "      <td>9281.0</td>\n",
              "      <td>48338.0</td>\n",
              "      <td>18.03</td>\n",
              "      <td>37.0</td>\n",
              "      <td>3.900000</td>\n",
              "      <td>16.99</td>\n",
              "      <td>56</td>\n",
              "      <td>4.5</td>\n",
              "      <td>246008.0</td>\n",
              "      <td>1145810.0</td>\n",
              "      <td>81.0</td>\n",
              "    </tr>\n",
              "    <tr>\n",
              "      <th>2</th>\n",
              "      <td>2</td>\n",
              "      <td>development</td>\n",
              "      <td>4.6</td>\n",
              "      <td>6833.0</td>\n",
              "      <td>21218.0</td>\n",
              "      <td>20.10</td>\n",
              "      <td>53.0</td>\n",
              "      <td>5.233333</td>\n",
              "      <td>23.99</td>\n",
              "      <td>91</td>\n",
              "      <td>4.6</td>\n",
              "      <td>19993.0</td>\n",
              "      <td>55621.0</td>\n",
              "      <td>3.0</td>\n",
              "    </tr>\n",
              "    <tr>\n",
              "      <th>3</th>\n",
              "      <td>3</td>\n",
              "      <td>development</td>\n",
              "      <td>4.6</td>\n",
              "      <td>72122.0</td>\n",
              "      <td>717921.0</td>\n",
              "      <td>20.04</td>\n",
              "      <td>51.0</td>\n",
              "      <td>9.500000</td>\n",
              "      <td>21.99</td>\n",
              "      <td>88</td>\n",
              "      <td>4.6</td>\n",
              "      <td>75247.0</td>\n",
              "      <td>751881.0</td>\n",
              "      <td>2.0</td>\n",
              "    </tr>\n",
              "    <tr>\n",
              "      <th>4</th>\n",
              "      <td>4</td>\n",
              "      <td>business_&amp;_education</td>\n",
              "      <td>4.5</td>\n",
              "      <td>2826.0</td>\n",
              "      <td>14269.0</td>\n",
              "      <td>20.10</td>\n",
              "      <td>41.0</td>\n",
              "      <td>7.133333</td>\n",
              "      <td>19.99</td>\n",
              "      <td>88</td>\n",
              "      <td>4.5</td>\n",
              "      <td>11922.0</td>\n",
              "      <td>53659.0</td>\n",
              "      <td>10.0</td>\n",
              "    </tr>\n",
              "  </tbody>\n",
              "</table>\n",
              "</div>\n",
              "      <button class=\"colab-df-convert\" onclick=\"convertToInteractive('df-c31b3a12-989f-41c9-ad86-9f2ce74081d7')\"\n",
              "              title=\"Convert this dataframe to an interactive table.\"\n",
              "              style=\"display:none;\">\n",
              "        \n",
              "  <svg xmlns=\"http://www.w3.org/2000/svg\" height=\"24px\"viewBox=\"0 0 24 24\"\n",
              "       width=\"24px\">\n",
              "    <path d=\"M0 0h24v24H0V0z\" fill=\"none\"/>\n",
              "    <path d=\"M18.56 5.44l.94 2.06.94-2.06 2.06-.94-2.06-.94-.94-2.06-.94 2.06-2.06.94zm-11 1L8.5 8.5l.94-2.06 2.06-.94-2.06-.94L8.5 2.5l-.94 2.06-2.06.94zm10 10l.94 2.06.94-2.06 2.06-.94-2.06-.94-.94-2.06-.94 2.06-2.06.94z\"/><path d=\"M17.41 7.96l-1.37-1.37c-.4-.4-.92-.59-1.43-.59-.52 0-1.04.2-1.43.59L10.3 9.45l-7.72 7.72c-.78.78-.78 2.05 0 2.83L4 21.41c.39.39.9.59 1.41.59.51 0 1.02-.2 1.41-.59l7.78-7.78 2.81-2.81c.8-.78.8-2.07 0-2.86zM5.41 20L4 18.59l7.72-7.72 1.47 1.35L5.41 20z\"/>\n",
              "  </svg>\n",
              "      </button>\n",
              "      \n",
              "  <style>\n",
              "    .colab-df-container {\n",
              "      display:flex;\n",
              "      flex-wrap:wrap;\n",
              "      gap: 12px;\n",
              "    }\n",
              "\n",
              "    .colab-df-convert {\n",
              "      background-color: #E8F0FE;\n",
              "      border: none;\n",
              "      border-radius: 50%;\n",
              "      cursor: pointer;\n",
              "      display: none;\n",
              "      fill: #1967D2;\n",
              "      height: 32px;\n",
              "      padding: 0 0 0 0;\n",
              "      width: 32px;\n",
              "    }\n",
              "\n",
              "    .colab-df-convert:hover {\n",
              "      background-color: #E2EBFA;\n",
              "      box-shadow: 0px 1px 2px rgba(60, 64, 67, 0.3), 0px 1px 3px 1px rgba(60, 64, 67, 0.15);\n",
              "      fill: #174EA6;\n",
              "    }\n",
              "\n",
              "    [theme=dark] .colab-df-convert {\n",
              "      background-color: #3B4455;\n",
              "      fill: #D2E3FC;\n",
              "    }\n",
              "\n",
              "    [theme=dark] .colab-df-convert:hover {\n",
              "      background-color: #434B5C;\n",
              "      box-shadow: 0px 1px 3px 1px rgba(0, 0, 0, 0.15);\n",
              "      filter: drop-shadow(0px 1px 2px rgba(0, 0, 0, 0.3));\n",
              "      fill: #FFFFFF;\n",
              "    }\n",
              "  </style>\n",
              "\n",
              "      <script>\n",
              "        const buttonEl =\n",
              "          document.querySelector('#df-c31b3a12-989f-41c9-ad86-9f2ce74081d7 button.colab-df-convert');\n",
              "        buttonEl.style.display =\n",
              "          google.colab.kernel.accessAllowed ? 'block' : 'none';\n",
              "\n",
              "        async function convertToInteractive(key) {\n",
              "          const element = document.querySelector('#df-c31b3a12-989f-41c9-ad86-9f2ce74081d7');\n",
              "          const dataTable =\n",
              "            await google.colab.kernel.invokeFunction('convertToInteractive',\n",
              "                                                     [key], {});\n",
              "          if (!dataTable) return;\n",
              "\n",
              "          const docLinkHtml = 'Like what you see? Visit the ' +\n",
              "            '<a target=\"_blank\" href=https://colab.research.google.com/notebooks/data_table.ipynb>data table notebook</a>'\n",
              "            + ' to learn more about interactive tables.';\n",
              "          element.innerHTML = '';\n",
              "          dataTable['output_type'] = 'display_data';\n",
              "          await google.colab.output.renderOutput(dataTable, element);\n",
              "          const docLink = document.createElement('div');\n",
              "          docLink.innerHTML = docLinkHtml;\n",
              "          element.appendChild(docLink);\n",
              "        }\n",
              "      </script>\n",
              "    </div>\n",
              "  </div>\n",
              "  "
            ]
          },
          "metadata": {},
          "execution_count": 31
        }
      ]
    }
  ]
}